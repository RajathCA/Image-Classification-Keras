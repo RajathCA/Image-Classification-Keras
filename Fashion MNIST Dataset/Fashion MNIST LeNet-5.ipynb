{
  "nbformat": 4,
  "nbformat_minor": 0,
  "metadata": {
    "colab": {
      "name": "Fashion MNIST LeNet-5.ipynb",
      "provenance": [],
      "collapsed_sections": []
    },
    "kernelspec": {
      "name": "python3",
      "display_name": "Python 3"
    },
    "accelerator": "GPU"
  },
  "cells": [
    {
      "cell_type": "markdown",
      "metadata": {
        "id": "bozW6qoXDRGg"
      },
      "source": [
        "## Notes/Observations\r\n",
        "- This is a more modern implemeatationof LeNet-5.\r\n",
        "- Hence ReLU is used as the activation function instead of tanh.\r\n",
        "- Parameters: 44k\r\n",
        "- Test Accuracy: 89.77%"
      ]
    },
    {
      "cell_type": "markdown",
      "metadata": {
        "id": "YpbiX6lzuw3F"
      },
      "source": [
        "## Import the required libraries"
      ]
    },
    {
      "cell_type": "code",
      "metadata": {
        "id": "gOD3uGuRrUH8"
      },
      "source": [
        "import numpy as np\r\n",
        "import keras\r\n",
        "import matplotlib.pyplot as plt"
      ],
      "execution_count": null,
      "outputs": []
    },
    {
      "cell_type": "code",
      "metadata": {
        "colab": {
          "base_uri": "https://localhost:8080/"
        },
        "id": "RqURAIV8tw2p",
        "outputId": "2e39c0f5-66a4-46b0-e40d-b9f71e40db30"
      },
      "source": [
        "print(keras.__version__)"
      ],
      "execution_count": null,
      "outputs": [
        {
          "output_type": "stream",
          "text": [
            "2.4.3\n"
          ],
          "name": "stdout"
        }
      ]
    },
    {
      "cell_type": "markdown",
      "metadata": {
        "id": "x1_8BbJzu9Mg"
      },
      "source": [
        "## Load and explore the data"
      ]
    },
    {
      "cell_type": "code",
      "metadata": {
        "id": "deLGInCnvBQ9",
        "colab": {
          "base_uri": "https://localhost:8080/"
        },
        "outputId": "9257a521-6fe3-4cbf-8feb-e2c76b85df57"
      },
      "source": [
        "(x_train, y_train),(x_test, y_test)= keras.datasets.fashion_mnist.load_data()"
      ],
      "execution_count": null,
      "outputs": [
        {
          "output_type": "stream",
          "text": [
            "Downloading data from https://storage.googleapis.com/tensorflow/tf-keras-datasets/train-labels-idx1-ubyte.gz\n",
            "32768/29515 [=================================] - 0s 0us/step\n",
            "Downloading data from https://storage.googleapis.com/tensorflow/tf-keras-datasets/train-images-idx3-ubyte.gz\n",
            "26427392/26421880 [==============================] - 1s 0us/step\n",
            "Downloading data from https://storage.googleapis.com/tensorflow/tf-keras-datasets/t10k-labels-idx1-ubyte.gz\n",
            "8192/5148 [===============================================] - 0s 0us/step\n",
            "Downloading data from https://storage.googleapis.com/tensorflow/tf-keras-datasets/t10k-images-idx3-ubyte.gz\n",
            "4423680/4422102 [==============================] - 0s 0us/step\n"
          ],
          "name": "stdout"
        }
      ]
    },
    {
      "cell_type": "code",
      "metadata": {
        "colab": {
          "base_uri": "https://localhost:8080/"
        },
        "id": "3plX9EuMvV4Y",
        "outputId": "0877f06b-830a-47ca-f4ca-0b0087babb8f"
      },
      "source": [
        "print('Dimensions and datatype of')\r\n",
        "print('x_train:', x_train.shape, '\\tdtype:', x_train.dtype)\r\n",
        "print('y_train:', y_train.shape, '\\t\\tdtype:', y_train.dtype)\r\n",
        "print('x_test:', x_test.shape, '\\tdtype:', x_test.dtype)\r\n",
        "print('y_test:', y_test.shape, '\\t\\tdtype:', y_test.dtype)"
      ],
      "execution_count": null,
      "outputs": [
        {
          "output_type": "stream",
          "text": [
            "Dimensions and datatype of\n",
            "x_train: (60000, 28, 28) \tdtype: uint8\n",
            "y_train: (60000,) \t\tdtype: uint8\n",
            "x_test: (10000, 28, 28) \tdtype: uint8\n",
            "y_test: (10000,) \t\tdtype: uint8\n"
          ],
          "name": "stdout"
        }
      ]
    },
    {
      "cell_type": "markdown",
      "metadata": {
        "id": "wqf6kMLSzgXJ"
      },
      "source": [
        "## Normalize the data"
      ]
    },
    {
      "cell_type": "code",
      "metadata": {
        "colab": {
          "base_uri": "https://localhost:8080/"
        },
        "id": "fSythSWbzj2q",
        "outputId": "cc28e09f-785f-45bd-9196-75e2a53308d2"
      },
      "source": [
        "mean = np.mean(x_train)\r\n",
        "print(mean)"
      ],
      "execution_count": null,
      "outputs": [
        {
          "output_type": "stream",
          "text": [
            "72.94035223214286\n"
          ],
          "name": "stdout"
        }
      ]
    },
    {
      "cell_type": "code",
      "metadata": {
        "colab": {
          "base_uri": "https://localhost:8080/"
        },
        "id": "pcSQABpw1TJo",
        "outputId": "d8e2d85a-9477-4a66-fd82-eb6ad5af7c5e"
      },
      "source": [
        "std = np.std(x_train)\r\n",
        "print(std)"
      ],
      "execution_count": null,
      "outputs": [
        {
          "output_type": "stream",
          "text": [
            "90.02118235130519\n"
          ],
          "name": "stdout"
        }
      ]
    },
    {
      "cell_type": "code",
      "metadata": {
        "id": "Mr6Bo7o31YmW"
      },
      "source": [
        "x_train = x_train.astype(np.float32)\r\n",
        "x_test = x_test.astype(np.float32)"
      ],
      "execution_count": null,
      "outputs": []
    },
    {
      "cell_type": "code",
      "metadata": {
        "id": "nlN8E8Se2DqI"
      },
      "source": [
        "x_train = (x_train - mean) / std\r\n",
        "x_test = (x_test - mean) / std"
      ],
      "execution_count": null,
      "outputs": []
    },
    {
      "cell_type": "markdown",
      "metadata": {
        "id": "f1_M59A22oms"
      },
      "source": [
        "## Reshape input and one hot encode labels"
      ]
    },
    {
      "cell_type": "code",
      "metadata": {
        "id": "sL5ozAcd2x1I"
      },
      "source": [
        "x_train = x_train.reshape(-1,28,28,1)\r\n",
        "x_test = x_test.reshape(-1,28,28,1)"
      ],
      "execution_count": null,
      "outputs": []
    },
    {
      "cell_type": "code",
      "metadata": {
        "id": "chK2rCJG3TEe"
      },
      "source": [
        "from keras.utils import to_categorical\r\n",
        "y_train =  to_categorical(y_train)\r\n",
        "y_test  =  to_categorical(y_test)"
      ],
      "execution_count": null,
      "outputs": []
    },
    {
      "cell_type": "code",
      "metadata": {
        "colab": {
          "base_uri": "https://localhost:8080/"
        },
        "id": "QgON4VMY3281",
        "outputId": "c360ec21-4acd-415a-b516-e13c5d07475b"
      },
      "source": [
        "print('Dimensions and datatype of')\r\n",
        "print('x_train:', x_train.shape, '\\tdtype:', x_train.dtype)\r\n",
        "print('y_train:', y_train.shape, '\\t\\tdtype:', y_train.dtype)\r\n",
        "print('x_test:', x_test.shape, '\\tdtype:', x_test.dtype)\r\n",
        "print('y_test:', y_test.shape, '\\t\\tdtype:', y_test.dtype)"
      ],
      "execution_count": null,
      "outputs": [
        {
          "output_type": "stream",
          "text": [
            "Dimensions and datatype of\n",
            "x_train: (60000, 28, 28, 1) \tdtype: float32\n",
            "y_train: (60000, 10) \t\tdtype: float32\n",
            "x_test: (10000, 28, 28, 1) \tdtype: float32\n",
            "y_test: (10000, 10) \t\tdtype: float32\n"
          ],
          "name": "stdout"
        }
      ]
    },
    {
      "cell_type": "markdown",
      "metadata": {
        "id": "AR9SsmdT4AE0"
      },
      "source": [
        "## Build the LeNet-5 model"
      ]
    },
    {
      "cell_type": "code",
      "metadata": {
        "id": "qdU22DGS4SJD"
      },
      "source": [
        "from keras.models import Sequential\r\n",
        "from keras.layers import Conv2D, Dense, AveragePooling2D, Flatten"
      ],
      "execution_count": null,
      "outputs": []
    },
    {
      "cell_type": "code",
      "metadata": {
        "id": "pAHj1RJX-HTG"
      },
      "source": [
        "model = Sequential()\r\n",
        "\r\n",
        "model.add(Conv2D(6, (5,5), strides=(1,1), activation='relu', input_shape=(28,28,1)))\r\n",
        "model.add(AveragePooling2D(pool_size=(2,2), strides=(2,2)))\r\n",
        "\r\n",
        "model.add(Conv2D(16, (5,5), strides=(1,1), activation='relu'))\r\n",
        "model.add(AveragePooling2D(pool_size=(2,2), strides=(2,2)))\r\n",
        "\r\n",
        "model.add(Flatten())\r\n",
        "\r\n",
        "model.add(Dense(120, activation='relu'))\r\n",
        "model.add(Dense(84, activation='relu'))\r\n",
        "\r\n",
        "model.add(Dense(10, activation='softmax'))  "
      ],
      "execution_count": null,
      "outputs": []
    },
    {
      "cell_type": "code",
      "metadata": {
        "colab": {
          "base_uri": "https://localhost:8080/"
        },
        "id": "1SrNfJADBeF2",
        "outputId": "e1aafcf4-10b7-439e-9fcd-429b4b3b303b"
      },
      "source": [
        "model.summary()"
      ],
      "execution_count": null,
      "outputs": [
        {
          "output_type": "stream",
          "text": [
            "Model: \"sequential\"\n",
            "_________________________________________________________________\n",
            "Layer (type)                 Output Shape              Param #   \n",
            "=================================================================\n",
            "conv2d (Conv2D)              (None, 24, 24, 6)         156       \n",
            "_________________________________________________________________\n",
            "average_pooling2d (AveragePo (None, 12, 12, 6)         0         \n",
            "_________________________________________________________________\n",
            "conv2d_1 (Conv2D)            (None, 8, 8, 16)          2416      \n",
            "_________________________________________________________________\n",
            "average_pooling2d_1 (Average (None, 4, 4, 16)          0         \n",
            "_________________________________________________________________\n",
            "flatten (Flatten)            (None, 256)               0         \n",
            "_________________________________________________________________\n",
            "dense (Dense)                (None, 120)               30840     \n",
            "_________________________________________________________________\n",
            "dense_1 (Dense)              (None, 84)                10164     \n",
            "_________________________________________________________________\n",
            "dense_2 (Dense)              (None, 10)                850       \n",
            "=================================================================\n",
            "Total params: 44,426\n",
            "Trainable params: 44,426\n",
            "Non-trainable params: 0\n",
            "_________________________________________________________________\n"
          ],
          "name": "stdout"
        }
      ]
    },
    {
      "cell_type": "markdown",
      "metadata": {
        "id": "J7KuHdcrdDcu"
      },
      "source": [
        "## Compile and Train the model"
      ]
    },
    {
      "cell_type": "code",
      "metadata": {
        "colab": {
          "base_uri": "https://localhost:8080/"
        },
        "id": "kzUp3uj3g8CG",
        "outputId": "a8241821-e1c1-422a-cfe1-75643fe44b85"
      },
      "source": [
        "from google.colab import drive\r\n",
        "drive.mount('/content/drive')\r\n",
        "\r\n",
        "import os\r\n",
        "os.chdir('/content/drive/MyDrive/Colab Notebooks/Saved Models')\r\n",
        "\r\n",
        "from keras.callbacks import ModelCheckpoint\r\n",
        "mc = ModelCheckpoint('Fashion_MNIST_LeNet_5.h5', monitor='val_loss', mode='min', verbose=1, save_best_only=True)"
      ],
      "execution_count": null,
      "outputs": [
        {
          "output_type": "stream",
          "text": [
            "Mounted at /content/drive\n"
          ],
          "name": "stdout"
        }
      ]
    },
    {
      "cell_type": "code",
      "metadata": {
        "colab": {
          "base_uri": "https://localhost:8080/"
        },
        "id": "aMSwaBjbdGVk",
        "outputId": "de5aac99-9365-4f28-9bd7-1c2ce6fe76f7"
      },
      "source": [
        "model.compile(loss=\"categorical_crossentropy\", optimizer=\"adam\", metrics=['accuracy'])\r\n",
        "history = model.fit(x_train, y_train, validation_split=(0.2), batch_size=128, epochs=20, callbacks=mc)"
      ],
      "execution_count": null,
      "outputs": [
        {
          "output_type": "stream",
          "text": [
            "Epoch 1/20\n",
            "375/375 [==============================] - 10s 9ms/step - loss: 1.0033 - accuracy: 0.6498 - val_loss: 0.5255 - val_accuracy: 0.7956\n",
            "\n",
            "Epoch 00001: val_loss improved from inf to 0.52553, saving model to Fashion_MNIST_LeNet_5.h5\n",
            "Epoch 2/20\n",
            "375/375 [==============================] - 2s 7ms/step - loss: 0.4884 - accuracy: 0.8180 - val_loss: 0.4592 - val_accuracy: 0.8278\n",
            "\n",
            "Epoch 00002: val_loss improved from 0.52553 to 0.45918, saving model to Fashion_MNIST_LeNet_5.h5\n",
            "Epoch 3/20\n",
            "375/375 [==============================] - 2s 7ms/step - loss: 0.4278 - accuracy: 0.8433 - val_loss: 0.4109 - val_accuracy: 0.8491\n",
            "\n",
            "Epoch 00003: val_loss improved from 0.45918 to 0.41087, saving model to Fashion_MNIST_LeNet_5.h5\n",
            "Epoch 4/20\n",
            "375/375 [==============================] - 2s 6ms/step - loss: 0.3779 - accuracy: 0.8630 - val_loss: 0.3899 - val_accuracy: 0.8574\n",
            "\n",
            "Epoch 00004: val_loss improved from 0.41087 to 0.38986, saving model to Fashion_MNIST_LeNet_5.h5\n",
            "Epoch 5/20\n",
            "375/375 [==============================] - 2s 7ms/step - loss: 0.3522 - accuracy: 0.8701 - val_loss: 0.3587 - val_accuracy: 0.8676\n",
            "\n",
            "Epoch 00005: val_loss improved from 0.38986 to 0.35871, saving model to Fashion_MNIST_LeNet_5.h5\n",
            "Epoch 6/20\n",
            "375/375 [==============================] - 2s 6ms/step - loss: 0.3250 - accuracy: 0.8810 - val_loss: 0.3369 - val_accuracy: 0.8767\n",
            "\n",
            "Epoch 00006: val_loss improved from 0.35871 to 0.33688, saving model to Fashion_MNIST_LeNet_5.h5\n",
            "Epoch 7/20\n",
            "375/375 [==============================] - 2s 7ms/step - loss: 0.3067 - accuracy: 0.8891 - val_loss: 0.3237 - val_accuracy: 0.8792\n",
            "\n",
            "Epoch 00007: val_loss improved from 0.33688 to 0.32373, saving model to Fashion_MNIST_LeNet_5.h5\n",
            "Epoch 8/20\n",
            "375/375 [==============================] - 2s 6ms/step - loss: 0.3002 - accuracy: 0.8878 - val_loss: 0.3271 - val_accuracy: 0.8817\n",
            "\n",
            "Epoch 00008: val_loss did not improve from 0.32373\n",
            "Epoch 9/20\n",
            "375/375 [==============================] - 2s 7ms/step - loss: 0.2778 - accuracy: 0.8986 - val_loss: 0.3401 - val_accuracy: 0.8732\n",
            "\n",
            "Epoch 00009: val_loss did not improve from 0.32373\n",
            "Epoch 10/20\n",
            "375/375 [==============================] - 2s 7ms/step - loss: 0.2689 - accuracy: 0.9001 - val_loss: 0.3013 - val_accuracy: 0.8897\n",
            "\n",
            "Epoch 00010: val_loss improved from 0.32373 to 0.30130, saving model to Fashion_MNIST_LeNet_5.h5\n",
            "Epoch 11/20\n",
            "375/375 [==============================] - 2s 7ms/step - loss: 0.2554 - accuracy: 0.9054 - val_loss: 0.2973 - val_accuracy: 0.8881\n",
            "\n",
            "Epoch 00011: val_loss improved from 0.30130 to 0.29726, saving model to Fashion_MNIST_LeNet_5.h5\n",
            "Epoch 12/20\n",
            "375/375 [==============================] - 2s 7ms/step - loss: 0.2464 - accuracy: 0.9091 - val_loss: 0.2981 - val_accuracy: 0.8898\n",
            "\n",
            "Epoch 00012: val_loss did not improve from 0.29726\n",
            "Epoch 13/20\n",
            "375/375 [==============================] - 2s 7ms/step - loss: 0.2347 - accuracy: 0.9130 - val_loss: 0.2886 - val_accuracy: 0.8917\n",
            "\n",
            "Epoch 00013: val_loss improved from 0.29726 to 0.28858, saving model to Fashion_MNIST_LeNet_5.h5\n",
            "Epoch 14/20\n",
            "375/375 [==============================] - 2s 7ms/step - loss: 0.2331 - accuracy: 0.9140 - val_loss: 0.2871 - val_accuracy: 0.8942\n",
            "\n",
            "Epoch 00014: val_loss improved from 0.28858 to 0.28706, saving model to Fashion_MNIST_LeNet_5.h5\n",
            "Epoch 15/20\n",
            "375/375 [==============================] - 2s 7ms/step - loss: 0.2210 - accuracy: 0.9186 - val_loss: 0.2858 - val_accuracy: 0.8976\n",
            "\n",
            "Epoch 00015: val_loss improved from 0.28706 to 0.28579, saving model to Fashion_MNIST_LeNet_5.h5\n",
            "Epoch 16/20\n",
            "375/375 [==============================] - 2s 7ms/step - loss: 0.2134 - accuracy: 0.9206 - val_loss: 0.2794 - val_accuracy: 0.8990\n",
            "\n",
            "Epoch 00016: val_loss improved from 0.28579 to 0.27943, saving model to Fashion_MNIST_LeNet_5.h5\n",
            "Epoch 17/20\n",
            "375/375 [==============================] - 2s 7ms/step - loss: 0.2060 - accuracy: 0.9234 - val_loss: 0.2974 - val_accuracy: 0.8948\n",
            "\n",
            "Epoch 00017: val_loss did not improve from 0.27943\n",
            "Epoch 18/20\n",
            "375/375 [==============================] - 2s 7ms/step - loss: 0.2019 - accuracy: 0.9241 - val_loss: 0.2790 - val_accuracy: 0.8994\n",
            "\n",
            "Epoch 00018: val_loss improved from 0.27943 to 0.27898, saving model to Fashion_MNIST_LeNet_5.h5\n",
            "Epoch 19/20\n",
            "375/375 [==============================] - 2s 7ms/step - loss: 0.1963 - accuracy: 0.9267 - val_loss: 0.2921 - val_accuracy: 0.8915\n",
            "\n",
            "Epoch 00019: val_loss did not improve from 0.27898\n",
            "Epoch 20/20\n",
            "375/375 [==============================] - 2s 7ms/step - loss: 0.1911 - accuracy: 0.9263 - val_loss: 0.2750 - val_accuracy: 0.9012\n",
            "\n",
            "Epoch 00020: val_loss improved from 0.27898 to 0.27500, saving model to Fashion_MNIST_LeNet_5.h5\n"
          ],
          "name": "stdout"
        }
      ]
    },
    {
      "cell_type": "markdown",
      "metadata": {
        "id": "nZqOvLGin-Yy"
      },
      "source": [
        "## Test the model"
      ]
    },
    {
      "cell_type": "code",
      "metadata": {
        "id": "DoP0IbDfk8-c"
      },
      "source": [
        "# Loading model with the lowest validation loss\r\n",
        "model = keras.models.load_model(\"Fashion_MNIST_LeNet_5.h5\")"
      ],
      "execution_count": null,
      "outputs": []
    },
    {
      "cell_type": "code",
      "metadata": {
        "colab": {
          "base_uri": "https://localhost:8080/"
        },
        "id": "RyVsIDsqgddl",
        "outputId": "40843bda-bc67-4fc3-d53d-95092f23b2ed"
      },
      "source": [
        "test_loss, test_acc = model.evaluate(x_test,y_test)\r\n",
        "print('Test Set')\r\n",
        "print('Loss:', test_loss)\r\n",
        "print('Accuracy', test_acc)"
      ],
      "execution_count": null,
      "outputs": [
        {
          "output_type": "stream",
          "text": [
            "313/313 [==============================] - 1s 3ms/step - loss: 0.3028 - accuracy: 0.8977\n",
            "Test Set\n",
            "Loss: 0.302764892578125\n",
            "Accuracy 0.8977000117301941\n"
          ],
          "name": "stdout"
        }
      ]
    },
    {
      "cell_type": "markdown",
      "metadata": {
        "id": "E37jijbtopwD"
      },
      "source": [
        "## Prediction"
      ]
    },
    {
      "cell_type": "markdown",
      "metadata": {
        "id": "QJB0D3ZQwDcB"
      },
      "source": [
        "Below is the information on Fashion MNIST Class Labels."
      ]
    },
    {
      "cell_type": "code",
      "metadata": {
        "colab": {
          "base_uri": "https://localhost:8080/"
        },
        "id": "LLEUlftMwgnA",
        "outputId": "436b58dc-adc3-4d43-b9eb-3230c724daa9"
      },
      "source": [
        "class_labels = dict([(0, 'T-shirt/Top'), (1, 'Trouser'), (2, 'Pullover'),  (3, 'Dress'), (4, 'Coat'), (5, 'Sandal'), (6, 'Shirt'), (7, 'Sneaker'), (8, 'Bag'), (9, 'Ankel Boot')])\r\n",
        "print('Label', \"\\t\", 'Class\\n')\r\n",
        "for x in class_labels:\r\n",
        "  print(x, \"\\t\", class_labels[x])"
      ],
      "execution_count": null,
      "outputs": [
        {
          "output_type": "stream",
          "text": [
            "Label \t Class\n",
            "\n",
            "0 \t T-shirt/Top\n",
            "1 \t Trouser\n",
            "2 \t Pullover\n",
            "3 \t Dress\n",
            "4 \t Coat\n",
            "5 \t Sandal\n",
            "6 \t Shirt\n",
            "7 \t Sneaker\n",
            "8 \t Bag\n",
            "9 \t Ankel Boot\n"
          ],
          "name": "stdout"
        }
      ]
    },
    {
      "cell_type": "code",
      "metadata": {
        "colab": {
          "base_uri": "https://localhost:8080/",
          "height": 282
        },
        "id": "OPQ1l2yfmfrq",
        "outputId": "59c8ffe3-d1f8-423d-b005-b2162a20d6da"
      },
      "source": [
        "# Set the index of the image in test set for which the output must be predicted\r\n",
        "# Valid ind values range is: 0, 1, 2, ... 9999\r\n",
        "ind = 0\r\n",
        "plt.imshow(((x_test[ind]*std + mean).astype(np.uint8)).squeeze(), cmap='gray')"
      ],
      "execution_count": null,
      "outputs": [
        {
          "output_type": "execute_result",
          "data": {
            "text/plain": [
              "<matplotlib.image.AxesImage at 0x7fcbce872898>"
            ]
          },
          "metadata": {
            "tags": []
          },
          "execution_count": 20
        },
        {
          "output_type": "display_data",
          "data": {
            "image/png": "[encoded data removed]",
            "text/plain": [
              "<Figure size 432x288 with 1 Axes>"
            ]
          },
          "metadata": {
            "tags": [],
            "needs_background": "light"
          }
        }
      ]
    },
    {
      "cell_type": "code",
      "metadata": {
        "colab": {
          "base_uri": "https://localhost:8080/"
        },
        "id": "gCUzYwyVqH8i",
        "outputId": "fdbb634f-4709-495a-dc8f-f3546ffa4d60"
      },
      "source": [
        "pred = model.predict(x_test[ind].reshape(1,28,28,1))\r\n",
        "print('The pridicted probability different classes is')\r\n",
        "print(pred)\r\n",
        "print('The predicted class is', pred.argmax(), class_labels[pred.argmax()])\r\n",
        "print('The actual class is', y_test[ind].argmax(), class_labels[y_test[ind].argmax()])"
      ],
      "execution_count": null,
      "outputs": [
        {
          "output_type": "stream",
          "text": [
            "The pridicted probability different classes is\n",
            "[[7.5927682e-09 2.2688645e-10 1.4038468e-08 6.4849948e-09 2.1179638e-09\n",
            "  1.5603528e-04 5.8889452e-08 1.8234756e-03 1.5395200e-08 9.9802041e-01]]\n",
            "The predicted class is 9 Ankel Boot\n",
            "The actual class is 9 Ankel Boot\n"
          ],
          "name": "stdout"
        }
      ]
    },
    {
      "cell_type": "markdown",
      "metadata": {
        "id": "UdIUM--x4kyV"
      },
      "source": [
        "## Loss and Accuracy Curves"
      ]
    },
    {
      "cell_type": "code",
      "metadata": {
        "colab": {
          "base_uri": "https://localhost:8080/"
        },
        "id": "fcpdbXHq4vT7",
        "outputId": "122a017a-3cd3-40f8-9321-d0313af85eb4"
      },
      "source": [
        "print(history.history.keys())"
      ],
      "execution_count": null,
      "outputs": [
        {
          "output_type": "stream",
          "text": [
            "dict_keys(['loss', 'accuracy', 'val_loss', 'val_accuracy'])\n"
          ],
          "name": "stdout"
        }
      ]
    },
    {
      "cell_type": "code",
      "metadata": {
        "id": "zlNfQHvh4ois"
      },
      "source": [
        "train_loss = history.history['loss']\r\n",
        "train_acc = history.history['accuracy']\r\n",
        "val_loss = history.history['val_loss']\r\n",
        "val_acc = history.history['val_accuracy']\r\n",
        "x_axis = range(1, len(train_loss)+1)"
      ],
      "execution_count": null,
      "outputs": []
    },
    {
      "cell_type": "code",
      "metadata": {
        "colab": {
          "base_uri": "https://localhost:8080/",
          "height": 312
        },
        "id": "CPvOEkMD6wxg",
        "outputId": "05623079-351d-43b1-89c5-180d6d7572d2"
      },
      "source": [
        "plt.plot(x_axis, train_loss, label='train')\r\n",
        "plt.plot(x_axis, val_loss, label='val')\r\n",
        "plt.legend()\r\n",
        "plt.xlabel('Epoch Number')\r\n",
        "plt.ylabel('Loss')\r\n",
        "plt.title('Loss Curve')"
      ],
      "execution_count": null,
      "outputs": [
        {
          "output_type": "execute_result",
          "data": {
            "text/plain": [
              "Text(0.5, 1.0, 'Loss Curve')"
            ]
          },
          "metadata": {
            "tags": []
          },
          "execution_count": 24
        },
        {
          "output_type": "display_data",
          "data": {
            "image/png": "[encoded data removed]",
            "text/plain": [
              "<Figure size 432x288 with 1 Axes>"
            ]
          },
          "metadata": {
            "tags": [],
            "needs_background": "light"
          }
        }
      ]
    },
    {
      "cell_type": "code",
      "metadata": {
        "colab": {
          "base_uri": "https://localhost:8080/",
          "height": 312
        },
        "id": "RO2EyeTF9ROP",
        "outputId": "5161cb74-8fdb-4c41-a46d-e2ec8144d650"
      },
      "source": [
        "plt.plot(x_axis, train_acc, label='train')\r\n",
        "plt.plot(x_axis, val_acc, label='val')\r\n",
        "plt.legend()\r\n",
        "plt.xlabel('Epoch Number')\r\n",
        "plt.ylabel('Accuracy')\r\n",
        "plt.title('Accuracy Curve')"
      ],
      "execution_count": null,
      "outputs": [
        {
          "output_type": "execute_result",
          "data": {
            "text/plain": [
              "Text(0.5, 1.0, 'Accuracy Curve')"
            ]
          },
          "metadata": {
            "tags": []
          },
          "execution_count": 25
        },
        {
          "output_type": "display_data",
          "data": {
            "image/png": "[encoded data removed]",
            "text/plain": [
              "<Figure size 432x288 with 1 Axes>"
            ]
          },
          "metadata": {
            "tags": [],
            "needs_background": "light"
          }
        }
      ]
    },
    {
      "cell_type": "markdown",
      "metadata": {
        "id": "Mf4eVE2x_32N"
      },
      "source": [
        "## Additional Evaluation Metrics\r\n",
        "### (Precision, Recall, Confusion Matrix)"
      ]
    },
    {
      "cell_type": "code",
      "metadata": {
        "colab": {
          "base_uri": "https://localhost:8080/"
        },
        "id": "qeypUFb2ANlF",
        "outputId": "08200230-beb3-428d-db74-6ef354cdb95d"
      },
      "source": [
        "from sklearn.metrics import classification_report, confusion_matrix\r\n",
        "\r\n",
        "y_prob = model.predict(x_test)\r\n",
        "y_pred = np.argmax(y_prob, axis=1)\r\n",
        "target_names = ['Class 0', 'Class 1', 'Class 2', 'Class 3', 'Class 4', 'Class 5', 'Class 6', 'Class 7', 'Class 8', 'Class 9']\r\n",
        "print(classification_report(np.argmax(y_test, axis=1), y_pred, target_names=target_names))"
      ],
      "execution_count": null,
      "outputs": [
        {
          "output_type": "stream",
          "text": [
            "              precision    recall  f1-score   support\n",
            "\n",
            "     Class 0       0.85      0.84      0.84      1000\n",
            "     Class 1       0.99      0.97      0.98      1000\n",
            "     Class 2       0.87      0.80      0.83      1000\n",
            "     Class 3       0.89      0.91      0.90      1000\n",
            "     Class 4       0.80      0.86      0.83      1000\n",
            "     Class 5       0.97      0.97      0.97      1000\n",
            "     Class 6       0.72      0.73      0.73      1000\n",
            "     Class 7       0.94      0.97      0.96      1000\n",
            "     Class 8       0.98      0.97      0.97      1000\n",
            "     Class 9       0.97      0.95      0.96      1000\n",
            "\n",
            "    accuracy                           0.90     10000\n",
            "   macro avg       0.90      0.90      0.90     10000\n",
            "weighted avg       0.90      0.90      0.90     10000\n",
            "\n"
          ],
          "name": "stdout"
        }
      ]
    },
    {
      "cell_type": "code",
      "metadata": {
        "colab": {
          "base_uri": "https://localhost:8080/"
        },
        "id": "4si0QtGBaxGe",
        "outputId": "f6f3ba5b-74ff-4b2a-b0ba-0345bac4bd95"
      },
      "source": [
        "cnf_matrix = confusion_matrix(y_true=np.argmax(y_test, axis=1), y_pred=y_pred)\r\n",
        "print(cnf_matrix)"
      ],
      "execution_count": null,
      "outputs": [
        {
          "output_type": "stream",
          "text": [
            "[[836   0  19  20   4   1 115   0   5   0]\n",
            " [  2 974   0  14   2   0   8   0   0   0]\n",
            " [ 17   0 801  10  95   0  73   0   4   0]\n",
            " [ 16   8   7 907  35   0  22   0   5   0]\n",
            " [  2   1  35  37 864   0  60   0   1   0]\n",
            " [  1   0   0   1   0 973   0  16   0   9]\n",
            " [105   2  59  21  74   0 731   0   8   0]\n",
            " [  0   0   0   0   0  13   0 968   0  19]\n",
            " [  3   0   5   4   6   3   2   5 971   1]\n",
            " [  0   0   0   0   0  10   0  38   0 952]]\n"
          ],
          "name": "stdout"
        }
      ]
    }
  ]
}