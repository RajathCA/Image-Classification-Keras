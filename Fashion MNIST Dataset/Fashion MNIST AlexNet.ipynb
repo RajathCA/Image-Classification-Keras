{
  "nbformat": 4,
  "nbformat_minor": 0,
  "metadata": {
    "accelerator": "GPU",
    "colab": {
      "name": "Fashion MNIST AlexNet.ipynb",
      "provenance": [],
      "collapsed_sections": []
    },
    "kernelspec": {
      "display_name": "Python 3",
      "name": "python3"
    }
  },
  "cells": [
    {
      "cell_type": "markdown",
      "metadata": {
        "id": "bozW6qoXDRGg"
      },
      "source": [
        "## Notes/Observations\r\n",
        "\r\n",
        "### Accuracy\r\n",
        "- Test Accuracy of 91.97% was obtained\r\n",
        "- No of parameters is 0.8M\r\n",
        "\r\n",
        "### Architecture\r\n",
        "- This is not the complete AlexNet Architecture.\r\n",
        "- It is a smaller version of adapted to the Fashion MNIST dataset.\r\n",
        "- The similarity to AlexNet is in the fact that there are 5 Convolutional layers, 3 Dense layers with the use of Dropout.\r\n",
        "- There are 0.8M parameters in comparision to AlexNet's 62M parameters.\r\n",
        "- The complete AlexNet architecture is likely to perform better.\r\n",
        "\r\n",
        "### Training\r\n",
        "- Some simple augmentation was performed with the Keras ImageDataGenerator() function given by-\r\n",
        "<br>datagen = ImageDataGenerator(\r\n",
        "    <br>rotation_range=20,\r\n",
        "    <br>width_shift_range=0.2,\r\n",
        "    <br>height_shift_range=0.2,\r\n",
        "    <br>horizontal_flip=True)\r\n"
      ]
    },
    {
      "cell_type": "markdown",
      "metadata": {
        "id": "YpbiX6lzuw3F"
      },
      "source": [
        "## Import the required libraries"
      ]
    },
    {
      "cell_type": "code",
      "metadata": {
        "id": "gOD3uGuRrUH8"
      },
      "source": [
        "import numpy as np\r\n",
        "import keras\r\n",
        "import matplotlib.pyplot as plt"
      ],
      "execution_count": null,
      "outputs": []
    },
    {
      "cell_type": "code",
      "metadata": {
        "colab": {
          "base_uri": "https://localhost:8080/"
        },
        "id": "RqURAIV8tw2p",
        "outputId": "2c7acf47-a24f-46c3-f71e-771a263c753d"
      },
      "source": [
        "print(keras.__version__)"
      ],
      "execution_count": null,
      "outputs": [
        {
          "output_type": "stream",
          "text": [
            "2.4.3\n"
          ],
          "name": "stdout"
        }
      ]
    },
    {
      "cell_type": "markdown",
      "metadata": {
        "id": "x1_8BbJzu9Mg"
      },
      "source": [
        "## Load and explore the data"
      ]
    },
    {
      "cell_type": "code",
      "metadata": {
        "colab": {
          "base_uri": "https://localhost:8080/"
        },
        "id": "deLGInCnvBQ9",
        "outputId": "511bc895-1bb2-439a-d982-1566d6b03580"
      },
      "source": [
        "(x_train, y_train),(x_test, y_test)= keras.datasets.fashion_mnist.load_data()"
      ],
      "execution_count": null,
      "outputs": [
        {
          "output_type": "stream",
          "text": [
            "Downloading data from https://storage.googleapis.com/tensorflow/tf-keras-datasets/train-labels-idx1-ubyte.gz\n",
            "32768/29515 [=================================] - 0s 0us/step\n",
            "Downloading data from https://storage.googleapis.com/tensorflow/tf-keras-datasets/train-images-idx3-ubyte.gz\n",
            "26427392/26421880 [==============================] - 0s 0us/step\n",
            "Downloading data from https://storage.googleapis.com/tensorflow/tf-keras-datasets/t10k-labels-idx1-ubyte.gz\n",
            "8192/5148 [===============================================] - 0s 0us/step\n",
            "Downloading data from https://storage.googleapis.com/tensorflow/tf-keras-datasets/t10k-images-idx3-ubyte.gz\n",
            "4423680/4422102 [==============================] - 0s 0us/step\n"
          ],
          "name": "stdout"
        }
      ]
    },
    {
      "cell_type": "code",
      "metadata": {
        "colab": {
          "base_uri": "https://localhost:8080/"
        },
        "id": "3plX9EuMvV4Y",
        "outputId": "75807ee2-71ba-4bcd-841a-4bad3e8af433"
      },
      "source": [
        "print('Dimensions and datatype of')\r\n",
        "print('x_train:', x_train.shape, '\\tdtype:', x_train.dtype)\r\n",
        "print('y_train:', y_train.shape, '\\t\\tdtype:', y_train.dtype)\r\n",
        "print('x_test:', x_test.shape, '\\tdtype:', x_test.dtype)\r\n",
        "print('y_test:', y_test.shape, '\\t\\tdtype:', y_test.dtype)"
      ],
      "execution_count": null,
      "outputs": [
        {
          "output_type": "stream",
          "text": [
            "Dimensions and datatype of\n",
            "x_train: (60000, 28, 28) \tdtype: uint8\n",
            "y_train: (60000,) \t\tdtype: uint8\n",
            "x_test: (10000, 28, 28) \tdtype: uint8\n",
            "y_test: (10000,) \t\tdtype: uint8\n"
          ],
          "name": "stdout"
        }
      ]
    },
    {
      "cell_type": "markdown",
      "metadata": {
        "id": "qteGyD-nNyO3"
      },
      "source": [
        "## Normalize the data"
      ]
    },
    {
      "cell_type": "code",
      "metadata": {
        "colab": {
          "base_uri": "https://localhost:8080/"
        },
        "id": "fSythSWbzj2q",
        "outputId": "08d38039-8690-40c1-bfa2-88cc10b85c4a"
      },
      "source": [
        "mean = np.mean(x_train)\r\n",
        "print(mean)"
      ],
      "execution_count": null,
      "outputs": [
        {
          "output_type": "stream",
          "text": [
            "72.94035223214286\n"
          ],
          "name": "stdout"
        }
      ]
    },
    {
      "cell_type": "code",
      "metadata": {
        "colab": {
          "base_uri": "https://localhost:8080/"
        },
        "id": "pcSQABpw1TJo",
        "outputId": "84e656ec-fa7e-46ee-9fa1-338fc355435c"
      },
      "source": [
        "std = np.std(x_train)\r\n",
        "print(std)"
      ],
      "execution_count": null,
      "outputs": [
        {
          "output_type": "stream",
          "text": [
            "90.02118235130519\n"
          ],
          "name": "stdout"
        }
      ]
    },
    {
      "cell_type": "code",
      "metadata": {
        "id": "Mr6Bo7o31YmW"
      },
      "source": [
        "x_train = x_train.astype(np.float32)\r\n",
        "x_test = x_test.astype(np.float32)"
      ],
      "execution_count": null,
      "outputs": []
    },
    {
      "cell_type": "code",
      "metadata": {
        "id": "6L-UW8h0NyPA"
      },
      "source": [
        "x_train = (x_train - mean) / std\r\n",
        "x_test = (x_test - mean) / std"
      ],
      "execution_count": null,
      "outputs": []
    },
    {
      "cell_type": "markdown",
      "metadata": {
        "id": "f1_M59A22oms"
      },
      "source": [
        "## Reshape input, add one hot encode labels and split between train and val"
      ]
    },
    {
      "cell_type": "code",
      "metadata": {
        "id": "sL5ozAcd2x1I"
      },
      "source": [
        "x_train = x_train.reshape(-1,28,28,1)\r\n",
        "x_test = x_test.reshape(-1,28,28,1)"
      ],
      "execution_count": null,
      "outputs": []
    },
    {
      "cell_type": "code",
      "metadata": {
        "id": "chK2rCJG3TEe"
      },
      "source": [
        "from keras.utils import to_categorical\r\n",
        "y_train =  to_categorical(y_train)\r\n",
        "y_test  =  to_categorical(y_test)"
      ],
      "execution_count": null,
      "outputs": []
    },
    {
      "cell_type": "code",
      "metadata": {
        "id": "Qq5KNUP4arKW"
      },
      "source": [
        "def simultaneous_shuffle(images, labels):\r\n",
        "    np.random.seed(0)\r\n",
        "    shuffle_ind = np.arange(images.shape[0])\r\n",
        "    np.random.shuffle(shuffle_ind)\r\n",
        "    images = images[shuffle_ind]\r\n",
        "    labels = labels[shuffle_ind]\r\n",
        "    return images, labels"
      ],
      "execution_count": null,
      "outputs": []
    },
    {
      "cell_type": "code",
      "metadata": {
        "id": "6NA0ryGpbSIe"
      },
      "source": [
        "train_percent = 0.8\r\n",
        "n_train = int(x_train.shape[0]*train_percent)\r\n",
        "x_train, y_train = simultaneous_shuffle(x_train, y_train)\r\n",
        "x_val, y_val = x_train[n_train:], y_train[n_train:]\r\n",
        "x_train, y_train = x_train[:n_train], y_train[:n_train]"
      ],
      "execution_count": null,
      "outputs": []
    },
    {
      "cell_type": "code",
      "metadata": {
        "colab": {
          "base_uri": "https://localhost:8080/"
        },
        "id": "QgON4VMY3281",
        "outputId": "c300e2a8-32c0-434c-da89-3a513cf2193f"
      },
      "source": [
        "print('Dimensions and datatype of')\r\n",
        "print('x_train:', x_train.shape, '\\tdtype:', x_train.dtype)\r\n",
        "print('y_train:', y_train.shape, '\\t\\tdtype:', y_train.dtype)\r\n",
        "print('x_val:', x_val.shape, '\\tdtype:', x_val.dtype)\r\n",
        "print('y_val:', y_val.shape, '\\t\\tdtype:', y_val.dtype)\r\n",
        "print('x_test:', x_test.shape, '\\tdtype:', x_test.dtype)\r\n",
        "print('y_test:', y_test.shape, '\\t\\tdtype:', y_test.dtype)"
      ],
      "execution_count": null,
      "outputs": [
        {
          "output_type": "stream",
          "text": [
            "Dimensions and datatype of\n",
            "x_train: (48000, 28, 28, 1) \tdtype: float32\n",
            "y_train: (48000, 10) \t\tdtype: float32\n",
            "x_val: (12000, 28, 28, 1) \tdtype: float32\n",
            "y_val: (12000, 10) \t\tdtype: float32\n",
            "x_test: (10000, 28, 28, 1) \tdtype: float32\n",
            "y_test: (10000, 10) \t\tdtype: float32\n"
          ],
          "name": "stdout"
        }
      ]
    },
    {
      "cell_type": "markdown",
      "metadata": {
        "id": "AR9SsmdT4AE0"
      },
      "source": [
        "## Build the model"
      ]
    },
    {
      "cell_type": "code",
      "metadata": {
        "id": "qdU22DGS4SJD"
      },
      "source": [
        "from keras.models import Sequential\r\n",
        "from keras.layers import Conv2D, Dense, MaxPooling2D, Flatten, Dropout"
      ],
      "execution_count": null,
      "outputs": []
    },
    {
      "cell_type": "code",
      "metadata": {
        "id": "pAHj1RJX-HTG"
      },
      "source": [
        "model = Sequential()\r\n",
        "\r\n",
        "model.add(Conv2D(32, (3,3), strides=(1,1), activation='relu', padding=\"same\", input_shape=(28,28,1)))\r\n",
        "model.add(Conv2D(32, (3,3), strides=(1,1), activation='relu', padding=\"same\"))\r\n",
        "model.add(MaxPooling2D(pool_size=(2,2), strides=(2,2)))\r\n",
        "\r\n",
        "model.add(Conv2D(64, (3,3), strides=(1,1), activation='relu', padding=\"same\"))\r\n",
        "model.add(MaxPooling2D(pool_size=(2,2), strides=(2,2)))\r\n",
        "\r\n",
        "model.add(Conv2D(64, (3,3), strides=(1,1), activation='relu', padding=\"same\"))\r\n",
        "model.add(MaxPooling2D(pool_size=(2,2), strides=(2,2)))\r\n",
        "\r\n",
        "model.add(Conv2D(128, (3,3), strides=(1,1), activation='relu', padding=\"same\"))\r\n",
        "\r\n",
        "model.add(Flatten())\r\n",
        "\r\n",
        "model.add(Dense(512, activation='relu'))\r\n",
        "model.add(Dropout(0.5))\r\n",
        "model.add(Dense(128, activation='relu'))\r\n",
        "model.add(Dense(64, activation='relu'))\r\n",
        "\r\n",
        "model.add(Dense(10, activation='softmax'))  "
      ],
      "execution_count": null,
      "outputs": []
    },
    {
      "cell_type": "code",
      "metadata": {
        "colab": {
          "base_uri": "https://localhost:8080/"
        },
        "id": "1SrNfJADBeF2",
        "outputId": "df313c70-1fbe-458b-89d2-33b83c7c3909"
      },
      "source": [
        "model.summary()"
      ],
      "execution_count": null,
      "outputs": [
        {
          "output_type": "stream",
          "text": [
            "Model: \"sequential\"\n",
            "_________________________________________________________________\n",
            "Layer (type)                 Output Shape              Param #   \n",
            "=================================================================\n",
            "conv2d (Conv2D)              (None, 28, 28, 32)        320       \n",
            "_________________________________________________________________\n",
            "conv2d_1 (Conv2D)            (None, 28, 28, 32)        9248      \n",
            "_________________________________________________________________\n",
            "max_pooling2d (MaxPooling2D) (None, 14, 14, 32)        0         \n",
            "_________________________________________________________________\n",
            "conv2d_2 (Conv2D)            (None, 14, 14, 64)        18496     \n",
            "_________________________________________________________________\n",
            "max_pooling2d_1 (MaxPooling2 (None, 7, 7, 64)          0         \n",
            "_________________________________________________________________\n",
            "conv2d_3 (Conv2D)            (None, 7, 7, 64)          36928     \n",
            "_________________________________________________________________\n",
            "max_pooling2d_2 (MaxPooling2 (None, 3, 3, 64)          0         \n",
            "_________________________________________________________________\n",
            "conv2d_4 (Conv2D)            (None, 3, 3, 128)         73856     \n",
            "_________________________________________________________________\n",
            "flatten (Flatten)            (None, 1152)              0         \n",
            "_________________________________________________________________\n",
            "dense (Dense)                (None, 512)               590336    \n",
            "_________________________________________________________________\n",
            "dropout (Dropout)            (None, 512)               0         \n",
            "_________________________________________________________________\n",
            "dense_1 (Dense)              (None, 128)               65664     \n",
            "_________________________________________________________________\n",
            "dense_2 (Dense)              (None, 64)                8256      \n",
            "_________________________________________________________________\n",
            "dense_3 (Dense)              (None, 10)                650       \n",
            "=================================================================\n",
            "Total params: 803,754\n",
            "Trainable params: 803,754\n",
            "Non-trainable params: 0\n",
            "_________________________________________________________________\n"
          ],
          "name": "stdout"
        }
      ]
    },
    {
      "cell_type": "markdown",
      "metadata": {
        "id": "J7KuHdcrdDcu"
      },
      "source": [
        "## Compile and Train the model"
      ]
    },
    {
      "cell_type": "code",
      "metadata": {
        "id": "kzUp3uj3g8CG",
        "colab": {
          "base_uri": "https://localhost:8080/"
        },
        "outputId": "4981f8c6-0a28-4e6e-c80f-f2c4b42b9bc4"
      },
      "source": [
        "from google.colab import drive\r\n",
        "drive.mount('/content/drive')\r\n",
        "\r\n",
        "import os\r\n",
        "os.chdir('/content/drive/MyDrive/Colab Notebooks/Saved Models')\r\n",
        "\r\n",
        "from keras.callbacks import ModelCheckpoint\r\n",
        "mc = ModelCheckpoint('Fashion_MNIST_AlexNet.h5', monitor='val_loss', mode='min', verbose=1, save_best_only=True)"
      ],
      "execution_count": null,
      "outputs": [
        {
          "output_type": "stream",
          "text": [
            "Mounted at /content/drive\n"
          ],
          "name": "stdout"
        }
      ]
    },
    {
      "cell_type": "code",
      "metadata": {
        "id": "5ZQWKs59Mglo"
      },
      "source": [
        "from keras.preprocessing.image import ImageDataGenerator\r\n",
        "datagen = ImageDataGenerator(\r\n",
        "    rotation_range=20,\r\n",
        "    width_shift_range=0.2,\r\n",
        "    height_shift_range=0.2,\r\n",
        "    horizontal_flip=True)\r\n",
        "datagen.fit(x_train)"
      ],
      "execution_count": null,
      "outputs": []
    },
    {
      "cell_type": "code",
      "metadata": {
        "id": "VYJozlDFjOO4"
      },
      "source": [
        "from keras.optimizers import Adam\r\n",
        "adam = Adam(learning_rate=0.0005)"
      ],
      "execution_count": null,
      "outputs": []
    },
    {
      "cell_type": "code",
      "metadata": {
        "id": "aMSwaBjbdGVk",
        "colab": {
          "base_uri": "https://localhost:8080/"
        },
        "outputId": "10aa6e60-4cfb-415d-a3cc-4d9e997c9519"
      },
      "source": [
        "model.compile(loss=\"categorical_crossentropy\", optimizer=adam, metrics=['accuracy'])\r\n",
        "history = model.fit(datagen.flow(x_train, y_train, batch_size=128), validation_data=(x_val, y_val), epochs=75, steps_per_epoch=len(x_train) // 128, callbacks=mc)"
      ],
      "execution_count": null,
      "outputs": [
        {
          "output_type": "stream",
          "text": [
            "Epoch 1/75\n",
            "375/375 [==============================] - 18s 31ms/step - loss: 1.4241 - accuracy: 0.4655 - val_loss: 0.6266 - val_accuracy: 0.7548\n",
            "\n",
            "Epoch 00001: val_loss improved from inf to 0.62664, saving model to Fashion_MNIST_AlexNet.h5\n",
            "Epoch 2/75\n",
            "375/375 [==============================] - 11s 31ms/step - loss: 0.7036 - accuracy: 0.7314 - val_loss: 0.5825 - val_accuracy: 0.7652\n",
            "\n",
            "Epoch 00002: val_loss improved from 0.62664 to 0.58247, saving model to Fashion_MNIST_AlexNet.h5\n",
            "Epoch 3/75\n",
            "375/375 [==============================] - 12s 32ms/step - loss: 0.6121 - accuracy: 0.7651 - val_loss: 0.5863 - val_accuracy: 0.7638\n",
            "\n",
            "Epoch 00003: val_loss did not improve from 0.58247\n",
            "Epoch 4/75\n",
            "375/375 [==============================] - 12s 31ms/step - loss: 0.5562 - accuracy: 0.7910 - val_loss: 0.4423 - val_accuracy: 0.8329\n",
            "\n",
            "Epoch 00004: val_loss improved from 0.58247 to 0.44227, saving model to Fashion_MNIST_AlexNet.h5\n",
            "Epoch 5/75\n",
            "375/375 [==============================] - 12s 32ms/step - loss: 0.5096 - accuracy: 0.8115 - val_loss: 0.4089 - val_accuracy: 0.8456\n",
            "\n",
            "Epoch 00005: val_loss improved from 0.44227 to 0.40892, saving model to Fashion_MNIST_AlexNet.h5\n",
            "Epoch 6/75\n",
            "375/375 [==============================] - 12s 31ms/step - loss: 0.4700 - accuracy: 0.8267 - val_loss: 0.3635 - val_accuracy: 0.8643\n",
            "\n",
            "Epoch 00006: val_loss improved from 0.40892 to 0.36350, saving model to Fashion_MNIST_AlexNet.h5\n",
            "Epoch 7/75\n",
            "375/375 [==============================] - 12s 31ms/step - loss: 0.4499 - accuracy: 0.8318 - val_loss: 0.3618 - val_accuracy: 0.8657\n",
            "\n",
            "Epoch 00007: val_loss improved from 0.36350 to 0.36182, saving model to Fashion_MNIST_AlexNet.h5\n",
            "Epoch 8/75\n",
            "375/375 [==============================] - 12s 31ms/step - loss: 0.4253 - accuracy: 0.8440 - val_loss: 0.3463 - val_accuracy: 0.8731\n",
            "\n",
            "Epoch 00008: val_loss improved from 0.36182 to 0.34630, saving model to Fashion_MNIST_AlexNet.h5\n",
            "Epoch 9/75\n",
            "375/375 [==============================] - 12s 31ms/step - loss: 0.4008 - accuracy: 0.8528 - val_loss: 0.3463 - val_accuracy: 0.8738\n",
            "\n",
            "Epoch 00009: val_loss improved from 0.34630 to 0.34629, saving model to Fashion_MNIST_AlexNet.h5\n",
            "Epoch 10/75\n",
            "375/375 [==============================] - 12s 32ms/step - loss: 0.3951 - accuracy: 0.8555 - val_loss: 0.3193 - val_accuracy: 0.8805\n",
            "\n",
            "Epoch 00010: val_loss improved from 0.34629 to 0.31930, saving model to Fashion_MNIST_AlexNet.h5\n",
            "Epoch 11/75\n",
            "375/375 [==============================] - 12s 32ms/step - loss: 0.3814 - accuracy: 0.8600 - val_loss: 0.3445 - val_accuracy: 0.8708\n",
            "\n",
            "Epoch 00011: val_loss did not improve from 0.31930\n",
            "Epoch 12/75\n",
            "375/375 [==============================] - 12s 31ms/step - loss: 0.3696 - accuracy: 0.8663 - val_loss: 0.3299 - val_accuracy: 0.8777\n",
            "\n",
            "Epoch 00012: val_loss did not improve from 0.31930\n",
            "Epoch 13/75\n",
            "375/375 [==============================] - 12s 31ms/step - loss: 0.3665 - accuracy: 0.8651 - val_loss: 0.3137 - val_accuracy: 0.8830\n",
            "\n",
            "Epoch 00013: val_loss improved from 0.31930 to 0.31372, saving model to Fashion_MNIST_AlexNet.h5\n",
            "Epoch 14/75\n",
            "375/375 [==============================] - 12s 31ms/step - loss: 0.3467 - accuracy: 0.8711 - val_loss: 0.2987 - val_accuracy: 0.8894\n",
            "\n",
            "Epoch 00014: val_loss improved from 0.31372 to 0.29866, saving model to Fashion_MNIST_AlexNet.h5\n",
            "Epoch 15/75\n",
            "375/375 [==============================] - 12s 31ms/step - loss: 0.3438 - accuracy: 0.8754 - val_loss: 0.3028 - val_accuracy: 0.8927\n",
            "\n",
            "Epoch 00015: val_loss did not improve from 0.29866\n",
            "Epoch 16/75\n",
            "375/375 [==============================] - 12s 31ms/step - loss: 0.3378 - accuracy: 0.8757 - val_loss: 0.3072 - val_accuracy: 0.8892\n",
            "\n",
            "Epoch 00016: val_loss did not improve from 0.29866\n",
            "Epoch 17/75\n",
            "375/375 [==============================] - 12s 31ms/step - loss: 0.3409 - accuracy: 0.8740 - val_loss: 0.2795 - val_accuracy: 0.8969\n",
            "\n",
            "Epoch 00017: val_loss improved from 0.29866 to 0.27953, saving model to Fashion_MNIST_AlexNet.h5\n",
            "Epoch 18/75\n",
            "375/375 [==============================] - 12s 31ms/step - loss: 0.3256 - accuracy: 0.8790 - val_loss: 0.2939 - val_accuracy: 0.8933\n",
            "\n",
            "Epoch 00018: val_loss did not improve from 0.27953\n",
            "Epoch 19/75\n",
            "375/375 [==============================] - 12s 31ms/step - loss: 0.3204 - accuracy: 0.8821 - val_loss: 0.2754 - val_accuracy: 0.8965\n",
            "\n",
            "Epoch 00019: val_loss improved from 0.27953 to 0.27541, saving model to Fashion_MNIST_AlexNet.h5\n",
            "Epoch 20/75\n",
            "375/375 [==============================] - 12s 31ms/step - loss: 0.3167 - accuracy: 0.8852 - val_loss: 0.2958 - val_accuracy: 0.8942\n",
            "\n",
            "Epoch 00020: val_loss did not improve from 0.27541\n",
            "Epoch 21/75\n",
            "375/375 [==============================] - 12s 32ms/step - loss: 0.3166 - accuracy: 0.8832 - val_loss: 0.2952 - val_accuracy: 0.8932\n",
            "\n",
            "Epoch 00021: val_loss did not improve from 0.27541\n",
            "Epoch 22/75\n",
            "375/375 [==============================] - 12s 31ms/step - loss: 0.3096 - accuracy: 0.8870 - val_loss: 0.2943 - val_accuracy: 0.8923\n",
            "\n",
            "Epoch 00022: val_loss did not improve from 0.27541\n",
            "Epoch 23/75\n",
            "375/375 [==============================] - 12s 31ms/step - loss: 0.2994 - accuracy: 0.8929 - val_loss: 0.2731 - val_accuracy: 0.9021\n",
            "\n",
            "Epoch 00023: val_loss improved from 0.27541 to 0.27313, saving model to Fashion_MNIST_AlexNet.h5\n",
            "Epoch 24/75\n",
            "375/375 [==============================] - 12s 32ms/step - loss: 0.3015 - accuracy: 0.8876 - val_loss: 0.2708 - val_accuracy: 0.9022\n",
            "\n",
            "Epoch 00024: val_loss improved from 0.27313 to 0.27080, saving model to Fashion_MNIST_AlexNet.h5\n",
            "Epoch 25/75\n",
            "375/375 [==============================] - 12s 31ms/step - loss: 0.2913 - accuracy: 0.8912 - val_loss: 0.2758 - val_accuracy: 0.8989\n",
            "\n",
            "Epoch 00025: val_loss did not improve from 0.27080\n",
            "Epoch 26/75\n",
            "375/375 [==============================] - 12s 31ms/step - loss: 0.2924 - accuracy: 0.8928 - val_loss: 0.2724 - val_accuracy: 0.9013\n",
            "\n",
            "Epoch 00026: val_loss did not improve from 0.27080\n",
            "Epoch 27/75\n",
            "375/375 [==============================] - 12s 31ms/step - loss: 0.2866 - accuracy: 0.8935 - val_loss: 0.2737 - val_accuracy: 0.9020\n",
            "\n",
            "Epoch 00027: val_loss did not improve from 0.27080\n",
            "Epoch 28/75\n",
            "375/375 [==============================] - 12s 31ms/step - loss: 0.2861 - accuracy: 0.8944 - val_loss: 0.2557 - val_accuracy: 0.9068\n",
            "\n",
            "Epoch 00028: val_loss improved from 0.27080 to 0.25572, saving model to Fashion_MNIST_AlexNet.h5\n",
            "Epoch 29/75\n",
            "375/375 [==============================] - 12s 31ms/step - loss: 0.2800 - accuracy: 0.8965 - val_loss: 0.2578 - val_accuracy: 0.9043\n",
            "\n",
            "Epoch 00029: val_loss did not improve from 0.25572\n",
            "Epoch 30/75\n",
            "375/375 [==============================] - 12s 31ms/step - loss: 0.2710 - accuracy: 0.8999 - val_loss: 0.2753 - val_accuracy: 0.9010\n",
            "\n",
            "Epoch 00030: val_loss did not improve from 0.25572\n",
            "Epoch 31/75\n",
            "375/375 [==============================] - 12s 32ms/step - loss: 0.2708 - accuracy: 0.8991 - val_loss: 0.2645 - val_accuracy: 0.9013\n",
            "\n",
            "Epoch 00031: val_loss did not improve from 0.25572\n",
            "Epoch 32/75\n",
            "375/375 [==============================] - 12s 31ms/step - loss: 0.2738 - accuracy: 0.8970 - val_loss: 0.2481 - val_accuracy: 0.9123\n",
            "\n",
            "Epoch 00032: val_loss improved from 0.25572 to 0.24814, saving model to Fashion_MNIST_AlexNet.h5\n",
            "Epoch 33/75\n",
            "375/375 [==============================] - 12s 32ms/step - loss: 0.2713 - accuracy: 0.8995 - val_loss: 0.2634 - val_accuracy: 0.9068\n",
            "\n",
            "Epoch 00033: val_loss did not improve from 0.24814\n",
            "Epoch 34/75\n",
            "375/375 [==============================] - 12s 31ms/step - loss: 0.2691 - accuracy: 0.9023 - val_loss: 0.2632 - val_accuracy: 0.9035\n",
            "\n",
            "Epoch 00034: val_loss did not improve from 0.24814\n",
            "Epoch 35/75\n",
            "375/375 [==============================] - 12s 31ms/step - loss: 0.2655 - accuracy: 0.9011 - val_loss: 0.2436 - val_accuracy: 0.9149\n",
            "\n",
            "Epoch 00035: val_loss improved from 0.24814 to 0.24363, saving model to Fashion_MNIST_AlexNet.h5\n",
            "Epoch 36/75\n",
            "375/375 [==============================] - 12s 31ms/step - loss: 0.2629 - accuracy: 0.9024 - val_loss: 0.2560 - val_accuracy: 0.9121\n",
            "\n",
            "Epoch 00036: val_loss did not improve from 0.24363\n",
            "Epoch 37/75\n",
            "375/375 [==============================] - 12s 33ms/step - loss: 0.2679 - accuracy: 0.9013 - val_loss: 0.2459 - val_accuracy: 0.9162\n",
            "\n",
            "Epoch 00037: val_loss did not improve from 0.24363\n",
            "Epoch 38/75\n",
            "375/375 [==============================] - 12s 32ms/step - loss: 0.2587 - accuracy: 0.9034 - val_loss: 0.2748 - val_accuracy: 0.9040\n",
            "\n",
            "Epoch 00038: val_loss did not improve from 0.24363\n",
            "Epoch 39/75\n",
            "375/375 [==============================] - 12s 31ms/step - loss: 0.2697 - accuracy: 0.9013 - val_loss: 0.2446 - val_accuracy: 0.9124\n",
            "\n",
            "Epoch 00039: val_loss did not improve from 0.24363\n",
            "Epoch 40/75\n",
            "375/375 [==============================] - 12s 31ms/step - loss: 0.2562 - accuracy: 0.9039 - val_loss: 0.2444 - val_accuracy: 0.9128\n",
            "\n",
            "Epoch 00040: val_loss did not improve from 0.24363\n",
            "Epoch 41/75\n",
            "375/375 [==============================] - 12s 31ms/step - loss: 0.2556 - accuracy: 0.9046 - val_loss: 0.2711 - val_accuracy: 0.9026\n",
            "\n",
            "Epoch 00041: val_loss did not improve from 0.24363\n",
            "Epoch 42/75\n",
            "375/375 [==============================] - 12s 32ms/step - loss: 0.2531 - accuracy: 0.9051 - val_loss: 0.2646 - val_accuracy: 0.9075\n",
            "\n",
            "Epoch 00042: val_loss did not improve from 0.24363\n",
            "Epoch 43/75\n",
            "375/375 [==============================] - 12s 31ms/step - loss: 0.2477 - accuracy: 0.9077 - val_loss: 0.2498 - val_accuracy: 0.9133\n",
            "\n",
            "Epoch 00043: val_loss did not improve from 0.24363\n",
            "Epoch 44/75\n",
            "375/375 [==============================] - 12s 32ms/step - loss: 0.2451 - accuracy: 0.9110 - val_loss: 0.2584 - val_accuracy: 0.9078\n",
            "\n",
            "Epoch 00044: val_loss did not improve from 0.24363\n",
            "Epoch 45/75\n",
            "375/375 [==============================] - 12s 31ms/step - loss: 0.2486 - accuracy: 0.9094 - val_loss: 0.2454 - val_accuracy: 0.9144\n",
            "\n",
            "Epoch 00045: val_loss did not improve from 0.24363\n",
            "Epoch 46/75\n",
            "375/375 [==============================] - 12s 31ms/step - loss: 0.2407 - accuracy: 0.9124 - val_loss: 0.2431 - val_accuracy: 0.9136\n",
            "\n",
            "Epoch 00046: val_loss improved from 0.24363 to 0.24305, saving model to Fashion_MNIST_AlexNet.h5\n",
            "Epoch 47/75\n",
            "375/375 [==============================] - 12s 32ms/step - loss: 0.2458 - accuracy: 0.9098 - val_loss: 0.2393 - val_accuracy: 0.9178\n",
            "\n",
            "Epoch 00047: val_loss improved from 0.24305 to 0.23929, saving model to Fashion_MNIST_AlexNet.h5\n",
            "Epoch 48/75\n",
            "375/375 [==============================] - 12s 31ms/step - loss: 0.2449 - accuracy: 0.9105 - val_loss: 0.2419 - val_accuracy: 0.9143\n",
            "\n",
            "Epoch 00048: val_loss did not improve from 0.23929\n",
            "Epoch 49/75\n",
            "375/375 [==============================] - 12s 32ms/step - loss: 0.2388 - accuracy: 0.9113 - val_loss: 0.2660 - val_accuracy: 0.9073\n",
            "\n",
            "Epoch 00049: val_loss did not improve from 0.23929\n",
            "Epoch 50/75\n",
            "375/375 [==============================] - 12s 32ms/step - loss: 0.2441 - accuracy: 0.9074 - val_loss: 0.2545 - val_accuracy: 0.9126\n",
            "\n",
            "Epoch 00050: val_loss did not improve from 0.23929\n",
            "Epoch 51/75\n",
            "375/375 [==============================] - 12s 32ms/step - loss: 0.2343 - accuracy: 0.9129 - val_loss: 0.2477 - val_accuracy: 0.9110\n",
            "\n",
            "Epoch 00051: val_loss did not improve from 0.23929\n",
            "Epoch 52/75\n",
            "375/375 [==============================] - 12s 31ms/step - loss: 0.2375 - accuracy: 0.9109 - val_loss: 0.2327 - val_accuracy: 0.9172\n",
            "\n",
            "Epoch 00052: val_loss improved from 0.23929 to 0.23272, saving model to Fashion_MNIST_AlexNet.h5\n",
            "Epoch 53/75\n",
            "375/375 [==============================] - 12s 32ms/step - loss: 0.2328 - accuracy: 0.9137 - val_loss: 0.2327 - val_accuracy: 0.9183\n",
            "\n",
            "Epoch 00053: val_loss improved from 0.23272 to 0.23272, saving model to Fashion_MNIST_AlexNet.h5\n",
            "Epoch 54/75\n",
            "375/375 [==============================] - 12s 32ms/step - loss: 0.2390 - accuracy: 0.9105 - val_loss: 0.2515 - val_accuracy: 0.9115\n",
            "\n",
            "Epoch 00054: val_loss did not improve from 0.23272\n",
            "Epoch 55/75\n",
            "375/375 [==============================] - 12s 31ms/step - loss: 0.2324 - accuracy: 0.9128 - val_loss: 0.2380 - val_accuracy: 0.9172\n",
            "\n",
            "Epoch 00055: val_loss did not improve from 0.23272\n",
            "Epoch 56/75\n",
            "375/375 [==============================] - 12s 32ms/step - loss: 0.2328 - accuracy: 0.9138 - val_loss: 0.2595 - val_accuracy: 0.9086\n",
            "\n",
            "Epoch 00056: val_loss did not improve from 0.23272\n",
            "Epoch 57/75\n",
            "375/375 [==============================] - 12s 32ms/step - loss: 0.2300 - accuracy: 0.9147 - val_loss: 0.2288 - val_accuracy: 0.9221\n",
            "\n",
            "Epoch 00057: val_loss improved from 0.23272 to 0.22881, saving model to Fashion_MNIST_AlexNet.h5\n",
            "Epoch 58/75\n",
            "375/375 [==============================] - 12s 32ms/step - loss: 0.2289 - accuracy: 0.9169 - val_loss: 0.2318 - val_accuracy: 0.9192\n",
            "\n",
            "Epoch 00058: val_loss did not improve from 0.22881\n",
            "Epoch 59/75\n",
            "375/375 [==============================] - 12s 32ms/step - loss: 0.2364 - accuracy: 0.9118 - val_loss: 0.2338 - val_accuracy: 0.9164\n",
            "\n",
            "Epoch 00059: val_loss did not improve from 0.22881\n",
            "Epoch 60/75\n",
            "375/375 [==============================] - 12s 31ms/step - loss: 0.2255 - accuracy: 0.9161 - val_loss: 0.2394 - val_accuracy: 0.9176\n",
            "\n",
            "Epoch 00060: val_loss did not improve from 0.22881\n",
            "Epoch 61/75\n",
            "375/375 [==============================] - 12s 32ms/step - loss: 0.2268 - accuracy: 0.9163 - val_loss: 0.2374 - val_accuracy: 0.9184\n",
            "\n",
            "Epoch 00061: val_loss did not improve from 0.22881\n",
            "Epoch 62/75\n",
            "375/375 [==============================] - 12s 32ms/step - loss: 0.2230 - accuracy: 0.9171 - val_loss: 0.2525 - val_accuracy: 0.9122\n",
            "\n",
            "Epoch 00062: val_loss did not improve from 0.22881\n",
            "Epoch 63/75\n",
            "375/375 [==============================] - 12s 33ms/step - loss: 0.2270 - accuracy: 0.9155 - val_loss: 0.2275 - val_accuracy: 0.9236\n",
            "\n",
            "Epoch 00063: val_loss improved from 0.22881 to 0.22745, saving model to Fashion_MNIST_AlexNet.h5\n",
            "Epoch 64/75\n",
            "375/375 [==============================] - 12s 32ms/step - loss: 0.2277 - accuracy: 0.9161 - val_loss: 0.2382 - val_accuracy: 0.9202\n",
            "\n",
            "Epoch 00064: val_loss did not improve from 0.22745\n",
            "Epoch 65/75\n",
            "375/375 [==============================] - 12s 32ms/step - loss: 0.2245 - accuracy: 0.9174 - val_loss: 0.2465 - val_accuracy: 0.9154\n",
            "\n",
            "Epoch 00065: val_loss did not improve from 0.22745\n",
            "Epoch 66/75\n",
            "375/375 [==============================] - 12s 32ms/step - loss: 0.2200 - accuracy: 0.9178 - val_loss: 0.2272 - val_accuracy: 0.9234\n",
            "\n",
            "Epoch 00066: val_loss improved from 0.22745 to 0.22718, saving model to Fashion_MNIST_AlexNet.h5\n",
            "Epoch 67/75\n",
            "375/375 [==============================] - 12s 32ms/step - loss: 0.2188 - accuracy: 0.9179 - val_loss: 0.2418 - val_accuracy: 0.9162\n",
            "\n",
            "Epoch 00067: val_loss did not improve from 0.22718\n",
            "Epoch 68/75\n",
            "375/375 [==============================] - 12s 31ms/step - loss: 0.2188 - accuracy: 0.9189 - val_loss: 0.2452 - val_accuracy: 0.9166\n",
            "\n",
            "Epoch 00068: val_loss did not improve from 0.22718\n",
            "Epoch 69/75\n",
            "375/375 [==============================] - 12s 32ms/step - loss: 0.2226 - accuracy: 0.9184 - val_loss: 0.2272 - val_accuracy: 0.9233\n",
            "\n",
            "Epoch 00069: val_loss improved from 0.22718 to 0.22715, saving model to Fashion_MNIST_AlexNet.h5\n",
            "Epoch 70/75\n",
            "375/375 [==============================] - 12s 32ms/step - loss: 0.2186 - accuracy: 0.9193 - val_loss: 0.2258 - val_accuracy: 0.9238\n",
            "\n",
            "Epoch 00070: val_loss improved from 0.22715 to 0.22582, saving model to Fashion_MNIST_AlexNet.h5\n",
            "Epoch 71/75\n",
            "375/375 [==============================] - 12s 32ms/step - loss: 0.2098 - accuracy: 0.9223 - val_loss: 0.2451 - val_accuracy: 0.9142\n",
            "\n",
            "Epoch 00071: val_loss did not improve from 0.22582\n",
            "Epoch 72/75\n",
            "375/375 [==============================] - 12s 32ms/step - loss: 0.2163 - accuracy: 0.9194 - val_loss: 0.2305 - val_accuracy: 0.9218\n",
            "\n",
            "Epoch 00072: val_loss did not improve from 0.22582\n",
            "Epoch 73/75\n",
            "375/375 [==============================] - 12s 32ms/step - loss: 0.2148 - accuracy: 0.9190 - val_loss: 0.2357 - val_accuracy: 0.9191\n",
            "\n",
            "Epoch 00073: val_loss did not improve from 0.22582\n",
            "Epoch 74/75\n",
            "375/375 [==============================] - 12s 32ms/step - loss: 0.2188 - accuracy: 0.9174 - val_loss: 0.2305 - val_accuracy: 0.9208\n",
            "\n",
            "Epoch 00074: val_loss did not improve from 0.22582\n",
            "Epoch 75/75\n",
            "375/375 [==============================] - 12s 32ms/step - loss: 0.2112 - accuracy: 0.9227 - val_loss: 0.2342 - val_accuracy: 0.9222\n",
            "\n",
            "Epoch 00075: val_loss did not improve from 0.22582\n"
          ],
          "name": "stdout"
        }
      ]
    },
    {
      "cell_type": "markdown",
      "metadata": {
        "id": "nZqOvLGin-Yy"
      },
      "source": [
        "## Test the model"
      ]
    },
    {
      "cell_type": "code",
      "metadata": {
        "id": "DoP0IbDfk8-c"
      },
      "source": [
        "# Loading model with the lowest validation loss\r\n",
        "model = keras.models.load_model(\"Fashion_MNIST_AlexNet.h5\")"
      ],
      "execution_count": null,
      "outputs": []
    },
    {
      "cell_type": "code",
      "metadata": {
        "id": "RyVsIDsqgddl",
        "colab": {
          "base_uri": "https://localhost:8080/"
        },
        "outputId": "4ad47fdf-e60a-431a-f34a-e3c3b6c8ef58"
      },
      "source": [
        "test_loss, test_acc = model.evaluate(x_test,y_test)\r\n",
        "print('Test Set')\r\n",
        "print('Loss:', test_loss)\r\n",
        "print('Accuracy', test_acc)"
      ],
      "execution_count": null,
      "outputs": [
        {
          "output_type": "stream",
          "text": [
            "313/313 [==============================] - 1s 2ms/step - loss: 0.2232 - accuracy: 0.9197\n",
            "Test Set\n",
            "Loss: 0.22321471571922302\n",
            "Accuracy 0.919700026512146\n"
          ],
          "name": "stdout"
        }
      ]
    },
    {
      "cell_type": "markdown",
      "metadata": {
        "id": "E37jijbtopwD"
      },
      "source": [
        "## Prediction"
      ]
    },
    {
      "cell_type": "markdown",
      "metadata": {
        "id": "QJB0D3ZQwDcB"
      },
      "source": [
        "Below is the information on Fashion MNIST Class Labels."
      ]
    },
    {
      "cell_type": "code",
      "metadata": {
        "id": "LLEUlftMwgnA",
        "colab": {
          "base_uri": "https://localhost:8080/"
        },
        "outputId": "d2730c02-7e1d-4d4d-a8f9-1114643763ef"
      },
      "source": [
        "class_labels = dict([(0, 'T-shirt/Top'), (1, 'Trouser'), (2, 'Pullover'),  (3, 'Dress'), (4, 'Coat'), (5, 'Sandal'), (6, 'Shirt'), (7, 'Sneaker'), (8, 'Bag'), (9, 'Ankel Boot')])\r\n",
        "print('Label', \"\\t\", 'Class\\n')\r\n",
        "for x in class_labels:\r\n",
        "  print(x, \"\\t\", class_labels[x])"
      ],
      "execution_count": null,
      "outputs": [
        {
          "output_type": "stream",
          "text": [
            "Label \t Class\n",
            "\n",
            "0 \t T-shirt/Top\n",
            "1 \t Trouser\n",
            "2 \t Pullover\n",
            "3 \t Dress\n",
            "4 \t Coat\n",
            "5 \t Sandal\n",
            "6 \t Shirt\n",
            "7 \t Sneaker\n",
            "8 \t Bag\n",
            "9 \t Ankel Boot\n"
          ],
          "name": "stdout"
        }
      ]
    },
    {
      "cell_type": "code",
      "metadata": {
        "id": "OPQ1l2yfmfrq",
        "colab": {
          "base_uri": "https://localhost:8080/",
          "height": 282
        },
        "outputId": "0f32cf4f-7ea5-4029-808c-a88a131bde98"
      },
      "source": [
        "# Set the index of the image in test set for which the output must be predicted\r\n",
        "# Valid ind values range is: 0, 1, 2, ... 9999\r\n",
        "ind = 0\r\n",
        "plt.imshow(((x_test[ind]*std + mean).astype(np.uint8)).squeeze(), cmap='gray')"
      ],
      "execution_count": null,
      "outputs": [
        {
          "output_type": "execute_result",
          "data": {
            "text/plain": [
              "<matplotlib.image.AxesImage at 0x7f089ef31f60>"
            ]
          },
          "metadata": {
            "tags": []
          },
          "execution_count": 24
        },
        {
          "output_type": "display_data",
          "data": {
            "image/png": "[encoded data removed]",
            "text/plain": [
              "<Figure size 432x288 with 1 Axes>"
            ]
          },
          "metadata": {
            "tags": [],
            "needs_background": "light"
          }
        }
      ]
    },
    {
      "cell_type": "code",
      "metadata": {
        "id": "gCUzYwyVqH8i",
        "colab": {
          "base_uri": "https://localhost:8080/"
        },
        "outputId": "83f37170-bfe8-42c6-b7ea-63a42637901c"
      },
      "source": [
        "pred = model.predict(x_test[ind].reshape(1,28,28,1))\r\n",
        "print('The pridicted probability different classes is')\r\n",
        "print(pred)\r\n",
        "print('The predicted class is', pred.argmax(), class_labels[pred.argmax()])\r\n",
        "print('The actual class is', y_test[ind].argmax(), class_labels[y_test[ind].argmax()])"
      ],
      "execution_count": null,
      "outputs": [
        {
          "output_type": "stream",
          "text": [
            "The pridicted probability different classes is\n",
            "[[6.6705899e-09 2.4394129e-09 4.8450799e-10 1.3098732e-07 7.2117434e-10\n",
            "  1.9356252e-05 1.5443514e-09 6.3999480e-04 8.6664693e-09 9.9934047e-01]]\n",
            "The predicted class is 9 Ankel Boot\n",
            "The actual class is 9 Ankel Boot\n"
          ],
          "name": "stdout"
        }
      ]
    },
    {
      "cell_type": "markdown",
      "metadata": {
        "id": "UdIUM--x4kyV"
      },
      "source": [
        "## Loss and Accuracy Curves"
      ]
    },
    {
      "cell_type": "code",
      "metadata": {
        "id": "fcpdbXHq4vT7",
        "colab": {
          "base_uri": "https://localhost:8080/"
        },
        "outputId": "34b0367c-e189-446c-960c-d0985dedb361"
      },
      "source": [
        "print(history.history.keys())"
      ],
      "execution_count": null,
      "outputs": [
        {
          "output_type": "stream",
          "text": [
            "dict_keys(['loss', 'accuracy', 'val_loss', 'val_accuracy'])\n"
          ],
          "name": "stdout"
        }
      ]
    },
    {
      "cell_type": "code",
      "metadata": {
        "id": "zlNfQHvh4ois"
      },
      "source": [
        "train_loss = history.history['loss']\r\n",
        "train_acc = history.history['accuracy']\r\n",
        "val_loss = history.history['val_loss']\r\n",
        "val_acc = history.history['val_accuracy']\r\n",
        "x_axis = range(1, len(train_loss)+1)"
      ],
      "execution_count": null,
      "outputs": []
    },
    {
      "cell_type": "code",
      "metadata": {
        "id": "CPvOEkMD6wxg",
        "colab": {
          "base_uri": "https://localhost:8080/",
          "height": 312
        },
        "outputId": "2ada1163-7c23-42d5-c0d0-e5cddd469034"
      },
      "source": [
        "plt.plot(x_axis, train_loss, label='train')\r\n",
        "plt.plot(x_axis, val_loss, label='val')\r\n",
        "plt.legend()\r\n",
        "plt.xlabel('Epoch Number')\r\n",
        "plt.ylabel('Loss')\r\n",
        "plt.title('Loss Curve')"
      ],
      "execution_count": null,
      "outputs": [
        {
          "output_type": "execute_result",
          "data": {
            "text/plain": [
              "Text(0.5, 1.0, 'Loss Curve')"
            ]
          },
          "metadata": {
            "tags": []
          },
          "execution_count": 28
        },
        {
          "output_type": "display_data",
          "data": {
            "image/png": "[encoded data removed]",
            "text/plain": [
              "<Figure size 432x288 with 1 Axes>"
            ]
          },
          "metadata": {
            "tags": [],
            "needs_background": "light"
          }
        }
      ]
    },
    {
      "cell_type": "code",
      "metadata": {
        "id": "RO2EyeTF9ROP",
        "colab": {
          "base_uri": "https://localhost:8080/",
          "height": 312
        },
        "outputId": "e9592137-592c-4542-82a5-b2313c85a53a"
      },
      "source": [
        "plt.plot(x_axis, train_acc, label='train')\r\n",
        "plt.plot(x_axis, val_acc, label='val')\r\n",
        "plt.legend()\r\n",
        "plt.xlabel('Epoch Number')\r\n",
        "plt.ylabel('Accuracy')\r\n",
        "plt.title('Accuracy Curve')"
      ],
      "execution_count": null,
      "outputs": [
        {
          "output_type": "execute_result",
          "data": {
            "text/plain": [
              "Text(0.5, 1.0, 'Accuracy Curve')"
            ]
          },
          "metadata": {
            "tags": []
          },
          "execution_count": 29
        },
        {
          "output_type": "display_data",
          "data": {
            "image/png": "[encoded data removed]",
            "text/plain": [
              "<Figure size 432x288 with 1 Axes>"
            ]
          },
          "metadata": {
            "tags": [],
            "needs_background": "light"
          }
        }
      ]
    },
    {
      "cell_type": "markdown",
      "metadata": {
        "id": "Mf4eVE2x_32N"
      },
      "source": [
        "## Additional Evaluation Metrics\r\n",
        "### (Precision, Recall, Confusion Matrix)"
      ]
    },
    {
      "cell_type": "code",
      "metadata": {
        "id": "qeypUFb2ANlF",
        "colab": {
          "base_uri": "https://localhost:8080/"
        },
        "outputId": "2915a222-efd4-4941-afd7-9a12877f924a"
      },
      "source": [
        "from sklearn.metrics import classification_report, confusion_matrix\r\n",
        "\r\n",
        "y_prob = model.predict(x_test)\r\n",
        "y_pred = np.argmax(y_prob, axis=1)\r\n",
        "target_names = ['Class 0', 'Class 1', 'Class 2', 'Class 3', 'Class 4', 'Class 5', 'Class 6', 'Class 7', 'Class 8', 'Class 9']\r\n",
        "print(classification_report(np.argmax(y_test, axis=1), y_pred, target_names=target_names))"
      ],
      "execution_count": null,
      "outputs": [
        {
          "output_type": "stream",
          "text": [
            "              precision    recall  f1-score   support\n",
            "\n",
            "     Class 0       0.88      0.85      0.87      1000\n",
            "     Class 1       1.00      0.98      0.99      1000\n",
            "     Class 2       0.89      0.90      0.90      1000\n",
            "     Class 3       0.89      0.94      0.92      1000\n",
            "     Class 4       0.89      0.86      0.88      1000\n",
            "     Class 5       0.98      0.98      0.98      1000\n",
            "     Class 6       0.76      0.76      0.76      1000\n",
            "     Class 7       0.94      0.98      0.96      1000\n",
            "     Class 8       0.99      0.98      0.99      1000\n",
            "     Class 9       0.99      0.94      0.96      1000\n",
            "\n",
            "    accuracy                           0.92     10000\n",
            "   macro avg       0.92      0.92      0.92     10000\n",
            "weighted avg       0.92      0.92      0.92     10000\n",
            "\n"
          ],
          "name": "stdout"
        }
      ]
    },
    {
      "cell_type": "code",
      "metadata": {
        "id": "4si0QtGBaxGe",
        "colab": {
          "base_uri": "https://localhost:8080/"
        },
        "outputId": "37c63dad-5543-403b-fc62-b3f66acfb93d"
      },
      "source": [
        "cnf_matrix = confusion_matrix(y_true=np.argmax(y_test, axis=1), y_pred=y_pred)\r\n",
        "print(cnf_matrix)"
      ],
      "execution_count": null,
      "outputs": [
        {
          "output_type": "stream",
          "text": [
            "[[854   0  11  29   2   0 103   0   1   0]\n",
            " [  1 983   1  13   0   0   1   0   1   0]\n",
            " [ 16   1 902   9  29   0  43   0   0   0]\n",
            " [ 10   3   8 943  11   0  24   0   1   0]\n",
            " [  0   0  38  33 865   1  63   0   0   0]\n",
            " [  0   0   0   0   0 982   0  13   0   5]\n",
            " [ 90   0  53  31  60   0 764   0   2   0]\n",
            " [  0   0   0   0   0  14   0 977   0   9]\n",
            " [  2   0   1   2   2   3   5   1 984   0]\n",
            " [  0   0   0   0   0   6   1  50   0 943]]\n"
          ],
          "name": "stdout"
        }
      ]
    }
  ]
}