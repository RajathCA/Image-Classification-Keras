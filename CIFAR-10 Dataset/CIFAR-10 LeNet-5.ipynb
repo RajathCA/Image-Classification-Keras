{
  "nbformat": 4,
  "nbformat_minor": 0,
  "metadata": {
    "colab": {
      "name": "CIFAR-10 LeNet-5.ipynb",
      "provenance": [],
      "collapsed_sections": []
    },
    "kernelspec": {
      "name": "python3",
      "display_name": "Python 3"
    },
    "accelerator": "GPU"
  },
  "cells": [
    {
      "cell_type": "markdown",
      "metadata": {
        "id": "bozW6qoXDRGg"
      },
      "source": [
        "## Notes/Observations\r\n",
        "- This is a more modern implemeatationof LeNet-5.\r\n",
        "- Hence ReLU is used as the activation function instead of tanh.\r\n",
        "- Parameters: 62k\r\n",
        "- Test Accuracy :59.18%"
      ]
    },
    {
      "cell_type": "markdown",
      "metadata": {
        "id": "YpbiX6lzuw3F"
      },
      "source": [
        "## Import the required libraries"
      ]
    },
    {
      "cell_type": "code",
      "metadata": {
        "id": "gOD3uGuRrUH8"
      },
      "source": [
        "import numpy as np\r\n",
        "import keras\r\n",
        "import matplotlib.pyplot as plt"
      ],
      "execution_count": null,
      "outputs": []
    },
    {
      "cell_type": "code",
      "metadata": {
        "colab": {
          "base_uri": "https://localhost:8080/"
        },
        "id": "RqURAIV8tw2p",
        "outputId": "52b4b8f0-3c99-41c7-fc4d-e2c1e3c9fa4f"
      },
      "source": [
        "print(keras.__version__)"
      ],
      "execution_count": null,
      "outputs": [
        {
          "output_type": "stream",
          "text": [
            "2.4.3\n"
          ],
          "name": "stdout"
        }
      ]
    },
    {
      "cell_type": "markdown",
      "metadata": {
        "id": "x1_8BbJzu9Mg"
      },
      "source": [
        "## Load and explore the data"
      ]
    },
    {
      "cell_type": "code",
      "metadata": {
        "id": "deLGInCnvBQ9"
      },
      "source": [
        "(x_train, y_train),(x_test, y_test)= keras.datasets.cifar10.load_data()"
      ],
      "execution_count": null,
      "outputs": []
    },
    {
      "cell_type": "code",
      "metadata": {
        "colab": {
          "base_uri": "https://localhost:8080/"
        },
        "id": "3plX9EuMvV4Y",
        "outputId": "16b03beb-94d3-4944-a7f6-fd4ed7a14100"
      },
      "source": [
        "print('Dimensions and datatype of')\r\n",
        "print('x_train:', x_train.shape, '\\tdtype:', x_train.dtype)\r\n",
        "print('y_train:', y_train.shape, '\\t\\tdtype:', y_train.dtype)\r\n",
        "print('x_test:', x_test.shape, '\\tdtype:', x_test.dtype)\r\n",
        "print('y_test:', y_test.shape, '\\t\\tdtype:', y_test.dtype)"
      ],
      "execution_count": null,
      "outputs": [
        {
          "output_type": "stream",
          "text": [
            "Dimensions and datatype of\n",
            "x_train: (50000, 32, 32, 3) \tdtype: uint8\n",
            "y_train: (50000, 1) \t\tdtype: uint8\n",
            "x_test: (10000, 32, 32, 3) \tdtype: uint8\n",
            "y_test: (10000, 1) \t\tdtype: uint8\n"
          ],
          "name": "stdout"
        }
      ]
    },
    {
      "cell_type": "markdown",
      "metadata": {
        "id": "wqf6kMLSzgXJ"
      },
      "source": [
        "## Normalize the data"
      ]
    },
    {
      "cell_type": "code",
      "metadata": {
        "colab": {
          "base_uri": "https://localhost:8080/"
        },
        "id": "fSythSWbzj2q",
        "outputId": "13ad1ffe-ff9c-4b63-d046-f8b1147916c8"
      },
      "source": [
        "mean = np.mean(x_train)\r\n",
        "print(mean)"
      ],
      "execution_count": null,
      "outputs": [
        {
          "output_type": "stream",
          "text": [
            "120.70756512369792\n"
          ],
          "name": "stdout"
        }
      ]
    },
    {
      "cell_type": "code",
      "metadata": {
        "colab": {
          "base_uri": "https://localhost:8080/"
        },
        "id": "pcSQABpw1TJo",
        "outputId": "1ed7234d-2f87-4d0f-8499-91559b85380d"
      },
      "source": [
        "std = np.std(x_train)\r\n",
        "print(std)"
      ],
      "execution_count": null,
      "outputs": [
        {
          "output_type": "stream",
          "text": [
            "64.1500758911213\n"
          ],
          "name": "stdout"
        }
      ]
    },
    {
      "cell_type": "code",
      "metadata": {
        "id": "Mr6Bo7o31YmW"
      },
      "source": [
        "x_train = x_train.astype(np.float32)\r\n",
        "x_test = x_test.astype(np.float32)"
      ],
      "execution_count": null,
      "outputs": []
    },
    {
      "cell_type": "code",
      "metadata": {
        "id": "nlN8E8Se2DqI"
      },
      "source": [
        "x_train = (x_train - mean) / std\r\n",
        "x_test = (x_test - mean) / std"
      ],
      "execution_count": null,
      "outputs": []
    },
    {
      "cell_type": "markdown",
      "metadata": {
        "id": "f1_M59A22oms"
      },
      "source": [
        "## Reshape input and one hot encode labels"
      ]
    },
    {
      "cell_type": "code",
      "metadata": {
        "id": "chK2rCJG3TEe"
      },
      "source": [
        "from keras.utils import to_categorical\r\n",
        "y_train =  to_categorical(y_train)\r\n",
        "y_test  =  to_categorical(y_test)"
      ],
      "execution_count": null,
      "outputs": []
    },
    {
      "cell_type": "code",
      "metadata": {
        "colab": {
          "base_uri": "https://localhost:8080/"
        },
        "id": "QgON4VMY3281",
        "outputId": "afad6e98-728c-4afc-b0d3-ffc40a1709e2"
      },
      "source": [
        "print('Dimensions and datatype of')\r\n",
        "print('x_train:', x_train.shape, '\\tdtype:', x_train.dtype)\r\n",
        "print('y_train:', y_train.shape, '\\t\\tdtype:', y_train.dtype)\r\n",
        "print('x_test:', x_test.shape, '\\tdtype:', x_test.dtype)\r\n",
        "print('y_test:', y_test.shape, '\\t\\tdtype:', y_test.dtype)"
      ],
      "execution_count": null,
      "outputs": [
        {
          "output_type": "stream",
          "text": [
            "Dimensions and datatype of\n",
            "x_train: (50000, 32, 32, 3) \tdtype: float32\n",
            "y_train: (50000, 10) \t\tdtype: float32\n",
            "x_test: (10000, 32, 32, 3) \tdtype: float32\n",
            "y_test: (10000, 10) \t\tdtype: float32\n"
          ],
          "name": "stdout"
        }
      ]
    },
    {
      "cell_type": "markdown",
      "metadata": {
        "id": "AR9SsmdT4AE0"
      },
      "source": [
        "## Build the LeNet-5 model"
      ]
    },
    {
      "cell_type": "code",
      "metadata": {
        "id": "qdU22DGS4SJD"
      },
      "source": [
        "from keras.models import Sequential\r\n",
        "from keras.layers import Conv2D, Dense, AveragePooling2D, Flatten"
      ],
      "execution_count": null,
      "outputs": []
    },
    {
      "cell_type": "code",
      "metadata": {
        "id": "pAHj1RJX-HTG"
      },
      "source": [
        "model = Sequential()\r\n",
        "\r\n",
        "model.add(Conv2D(6, (5,5), strides=(1,1), activation='relu', input_shape=(32,32,3)))\r\n",
        "model.add(AveragePooling2D(pool_size=(2,2), strides=(2,2)))\r\n",
        "\r\n",
        "model.add(Conv2D(16, (5,5), strides=(1,1), activation='relu'))\r\n",
        "model.add(AveragePooling2D(pool_size=(2,2), strides=(2,2)))\r\n",
        "\r\n",
        "model.add(Flatten())\r\n",
        "\r\n",
        "model.add(Dense(120, activation='relu'))\r\n",
        "model.add(Dense(84, activation='relu'))\r\n",
        "\r\n",
        "model.add(Dense(10, activation='softmax'))  "
      ],
      "execution_count": null,
      "outputs": []
    },
    {
      "cell_type": "code",
      "metadata": {
        "colab": {
          "base_uri": "https://localhost:8080/"
        },
        "id": "1SrNfJADBeF2",
        "outputId": "67803e75-57f2-4667-f247-c8300c5fb7db"
      },
      "source": [
        "model.summary()"
      ],
      "execution_count": null,
      "outputs": [
        {
          "output_type": "stream",
          "text": [
            "Model: \"sequential_2\"\n",
            "_________________________________________________________________\n",
            "Layer (type)                 Output Shape              Param #   \n",
            "=================================================================\n",
            "conv2d_4 (Conv2D)            (None, 28, 28, 6)         456       \n",
            "_________________________________________________________________\n",
            "average_pooling2d_4 (Average (None, 14, 14, 6)         0         \n",
            "_________________________________________________________________\n",
            "conv2d_5 (Conv2D)            (None, 10, 10, 16)        2416      \n",
            "_________________________________________________________________\n",
            "average_pooling2d_5 (Average (None, 5, 5, 16)          0         \n",
            "_________________________________________________________________\n",
            "flatten_2 (Flatten)          (None, 400)               0         \n",
            "_________________________________________________________________\n",
            "dense_6 (Dense)              (None, 120)               48120     \n",
            "_________________________________________________________________\n",
            "dense_7 (Dense)              (None, 84)                10164     \n",
            "_________________________________________________________________\n",
            "dense_8 (Dense)              (None, 10)                850       \n",
            "=================================================================\n",
            "Total params: 62,006\n",
            "Trainable params: 62,006\n",
            "Non-trainable params: 0\n",
            "_________________________________________________________________\n"
          ],
          "name": "stdout"
        }
      ]
    },
    {
      "cell_type": "markdown",
      "metadata": {
        "id": "J7KuHdcrdDcu"
      },
      "source": [
        "## Compile and Train the model"
      ]
    },
    {
      "cell_type": "code",
      "metadata": {
        "colab": {
          "base_uri": "https://localhost:8080/"
        },
        "id": "kzUp3uj3g8CG",
        "outputId": "f31bed4f-e578-4c48-9a12-0500d188d41f"
      },
      "source": [
        "from google.colab import drive\r\n",
        "drive.mount('/content/drive')\r\n",
        "\r\n",
        "import os\r\n",
        "os.chdir('/content/drive/MyDrive/Colab Notebooks/Saved Models')\r\n",
        "\r\n",
        "from keras.callbacks import ModelCheckpoint\r\n",
        "mc = ModelCheckpoint('CIFAR_10_LeNet_5.h5', monitor='val_loss', mode='min', verbose=1, save_best_only=True)"
      ],
      "execution_count": null,
      "outputs": [
        {
          "output_type": "stream",
          "text": [
            "Drive already mounted at /content/drive; to attempt to forcibly remount, call drive.mount(\"/content/drive\", force_remount=True).\n"
          ],
          "name": "stdout"
        }
      ]
    },
    {
      "cell_type": "code",
      "metadata": {
        "colab": {
          "base_uri": "https://localhost:8080/"
        },
        "id": "aMSwaBjbdGVk",
        "outputId": "fc94f609-b181-49ae-f213-88a0ba198382"
      },
      "source": [
        "model.compile(loss=\"categorical_crossentropy\", optimizer=\"adam\", metrics=['accuracy'])\r\n",
        "history = model.fit(x_train, y_train, validation_split=(0.2), batch_size=128, epochs=20, callbacks=mc)"
      ],
      "execution_count": null,
      "outputs": [
        {
          "output_type": "stream",
          "text": [
            "Epoch 1/20\n",
            "313/313 [==============================] - 2s 5ms/step - loss: 1.9190 - accuracy: 0.2960 - val_loss: 1.5236 - val_accuracy: 0.4582\n",
            "\n",
            "Epoch 00001: val_loss improved from inf to 1.52358, saving model to CIFAR_10_LeNet_5.h5\n",
            "Epoch 2/20\n",
            "313/313 [==============================] - 1s 4ms/step - loss: 1.4892 - accuracy: 0.4604 - val_loss: 1.4139 - val_accuracy: 0.4941\n",
            "\n",
            "Epoch 00002: val_loss improved from 1.52358 to 1.41393, saving model to CIFAR_10_LeNet_5.h5\n",
            "Epoch 3/20\n",
            "313/313 [==============================] - 1s 4ms/step - loss: 1.3463 - accuracy: 0.5178 - val_loss: 1.3533 - val_accuracy: 0.5219\n",
            "\n",
            "Epoch 00003: val_loss improved from 1.41393 to 1.35334, saving model to CIFAR_10_LeNet_5.h5\n",
            "Epoch 4/20\n",
            "313/313 [==============================] - 1s 4ms/step - loss: 1.2578 - accuracy: 0.5516 - val_loss: 1.2985 - val_accuracy: 0.5404\n",
            "\n",
            "Epoch 00004: val_loss improved from 1.35334 to 1.29849, saving model to CIFAR_10_LeNet_5.h5\n",
            "Epoch 5/20\n",
            "313/313 [==============================] - 1s 4ms/step - loss: 1.1978 - accuracy: 0.5772 - val_loss: 1.2446 - val_accuracy: 0.5615\n",
            "\n",
            "Epoch 00005: val_loss improved from 1.29849 to 1.24463, saving model to CIFAR_10_LeNet_5.h5\n",
            "Epoch 6/20\n",
            "313/313 [==============================] - 1s 4ms/step - loss: 1.1544 - accuracy: 0.5916 - val_loss: 1.2334 - val_accuracy: 0.5647\n",
            "\n",
            "Epoch 00006: val_loss improved from 1.24463 to 1.23335, saving model to CIFAR_10_LeNet_5.h5\n",
            "Epoch 7/20\n",
            "313/313 [==============================] - 1s 4ms/step - loss: 1.1033 - accuracy: 0.6079 - val_loss: 1.2532 - val_accuracy: 0.5589\n",
            "\n",
            "Epoch 00007: val_loss did not improve from 1.23335\n",
            "Epoch 8/20\n",
            "313/313 [==============================] - 1s 4ms/step - loss: 1.0589 - accuracy: 0.6264 - val_loss: 1.2091 - val_accuracy: 0.5794\n",
            "\n",
            "Epoch 00008: val_loss improved from 1.23335 to 1.20909, saving model to CIFAR_10_LeNet_5.h5\n",
            "Epoch 9/20\n",
            "313/313 [==============================] - 1s 5ms/step - loss: 1.0215 - accuracy: 0.6377 - val_loss: 1.1761 - val_accuracy: 0.5893\n",
            "\n",
            "Epoch 00009: val_loss improved from 1.20909 to 1.17614, saving model to CIFAR_10_LeNet_5.h5\n",
            "Epoch 10/20\n",
            "313/313 [==============================] - 1s 5ms/step - loss: 0.9775 - accuracy: 0.6583 - val_loss: 1.1941 - val_accuracy: 0.5881\n",
            "\n",
            "Epoch 00010: val_loss did not improve from 1.17614\n",
            "Epoch 11/20\n",
            "313/313 [==============================] - 2s 5ms/step - loss: 0.9440 - accuracy: 0.6673 - val_loss: 1.1764 - val_accuracy: 0.5938\n",
            "\n",
            "Epoch 00011: val_loss did not improve from 1.17614\n",
            "Epoch 12/20\n",
            "313/313 [==============================] - 1s 5ms/step - loss: 0.9051 - accuracy: 0.6825 - val_loss: 1.1926 - val_accuracy: 0.5920\n",
            "\n",
            "Epoch 00012: val_loss did not improve from 1.17614\n",
            "Epoch 13/20\n",
            "313/313 [==============================] - 1s 5ms/step - loss: 0.8865 - accuracy: 0.6864 - val_loss: 1.1953 - val_accuracy: 0.5869\n",
            "\n",
            "Epoch 00013: val_loss did not improve from 1.17614\n",
            "Epoch 14/20\n",
            "313/313 [==============================] - 2s 5ms/step - loss: 0.8549 - accuracy: 0.6986 - val_loss: 1.1998 - val_accuracy: 0.5952\n",
            "\n",
            "Epoch 00014: val_loss did not improve from 1.17614\n",
            "Epoch 15/20\n",
            "313/313 [==============================] - 2s 5ms/step - loss: 0.8257 - accuracy: 0.7067 - val_loss: 1.1903 - val_accuracy: 0.5966\n",
            "\n",
            "Epoch 00015: val_loss did not improve from 1.17614\n",
            "Epoch 16/20\n",
            "313/313 [==============================] - 1s 5ms/step - loss: 0.7912 - accuracy: 0.7233 - val_loss: 1.2186 - val_accuracy: 0.5961\n",
            "\n",
            "Epoch 00016: val_loss did not improve from 1.17614\n",
            "Epoch 17/20\n",
            "313/313 [==============================] - 1s 5ms/step - loss: 0.7619 - accuracy: 0.7289 - val_loss: 1.2125 - val_accuracy: 0.5933\n",
            "\n",
            "Epoch 00017: val_loss did not improve from 1.17614\n",
            "Epoch 18/20\n",
            "313/313 [==============================] - 1s 5ms/step - loss: 0.7434 - accuracy: 0.7347 - val_loss: 1.2479 - val_accuracy: 0.5947\n",
            "\n",
            "Epoch 00018: val_loss did not improve from 1.17614\n",
            "Epoch 19/20\n",
            "313/313 [==============================] - 2s 5ms/step - loss: 0.7265 - accuracy: 0.7448 - val_loss: 1.2388 - val_accuracy: 0.6004\n",
            "\n",
            "Epoch 00019: val_loss did not improve from 1.17614\n",
            "Epoch 20/20\n",
            "313/313 [==============================] - 1s 5ms/step - loss: 0.7058 - accuracy: 0.7520 - val_loss: 1.2400 - val_accuracy: 0.6013\n",
            "\n",
            "Epoch 00020: val_loss did not improve from 1.17614\n"
          ],
          "name": "stdout"
        }
      ]
    },
    {
      "cell_type": "markdown",
      "metadata": {
        "id": "nZqOvLGin-Yy"
      },
      "source": [
        "## Test the model"
      ]
    },
    {
      "cell_type": "code",
      "metadata": {
        "id": "DoP0IbDfk8-c"
      },
      "source": [
        "# Loading model with the lowest validation loss\r\n",
        "model = keras.models.load_model(\"CIFAR_10_LeNet_5.h5\")"
      ],
      "execution_count": null,
      "outputs": []
    },
    {
      "cell_type": "code",
      "metadata": {
        "colab": {
          "base_uri": "https://localhost:8080/"
        },
        "id": "RyVsIDsqgddl",
        "outputId": "3a9ffb86-83b8-4ec0-b61a-8c1b40a0a5a4"
      },
      "source": [
        "test_loss, test_acc = model.evaluate(x_test,y_test)\r\n",
        "print('Test Set')\r\n",
        "print('Loss:', test_loss)\r\n",
        "print('Accuracy', test_acc)"
      ],
      "execution_count": null,
      "outputs": [
        {
          "output_type": "stream",
          "text": [
            "313/313 [==============================] - 1s 2ms/step - loss: 1.1765 - accuracy: 0.5918\n",
            "Test Set\n",
            "Loss: 1.1765307188034058\n",
            "Accuracy 0.5917999744415283\n"
          ],
          "name": "stdout"
        }
      ]
    },
    {
      "cell_type": "markdown",
      "metadata": {
        "id": "E37jijbtopwD"
      },
      "source": [
        "## Prediction"
      ]
    },
    {
      "cell_type": "markdown",
      "metadata": {
        "id": "QJB0D3ZQwDcB"
      },
      "source": [
        "Below is the information on Fashion MNIST Class Labels."
      ]
    },
    {
      "cell_type": "code",
      "metadata": {
        "colab": {
          "base_uri": "https://localhost:8080/"
        },
        "id": "LLEUlftMwgnA",
        "outputId": "57dbd395-eb95-484c-e16b-10b468cafc71"
      },
      "source": [
        "class_labels = dict([(0, 'Airplane'), (1, 'Automobile'), (2, 'Bird'),  (3, 'Cat'), (4, 'Deer'), (5, 'Dog'), (6, 'Frog'), (7, 'Horse'), (8, 'Ship'), (9, 'Truck')])\r\n",
        "print('Label', \"\\t\", 'Class\\n')\r\n",
        "for x in class_labels:\r\n",
        "  print(x, \"\\t\", class_labels[x])"
      ],
      "execution_count": null,
      "outputs": [
        {
          "output_type": "stream",
          "text": [
            "Label \t Class\n",
            "\n",
            "0 \t Airplane\n",
            "1 \t Automobile\n",
            "2 \t Bird\n",
            "3 \t Cat\n",
            "4 \t Deer\n",
            "5 \t Dog\n",
            "6 \t Frog\n",
            "7 \t Horse\n",
            "8 \t Ship\n",
            "9 \t Truck\n"
          ],
          "name": "stdout"
        }
      ]
    },
    {
      "cell_type": "code",
      "metadata": {
        "colab": {
          "base_uri": "https://localhost:8080/",
          "height": 283
        },
        "id": "OPQ1l2yfmfrq",
        "outputId": "9eee0de1-d750-46ca-f993-7384ba9161b8"
      },
      "source": [
        "# Set the index of the image in test set for which the output must be predicted\r\n",
        "# Valid ind values range is: 0, 1, 2, ... 9999\r\n",
        "ind = 0\r\n",
        "plt.imshow((x_test[ind]*std + mean).astype(np.uint8))"
      ],
      "execution_count": null,
      "outputs": [
        {
          "output_type": "execute_result",
          "data": {
            "text/plain": [
              "<matplotlib.image.AxesImage at 0x7f1e45666978>"
            ]
          },
          "metadata": {
            "tags": []
          },
          "execution_count": 71
        },
        {
          "output_type": "display_data",
          "data": {
            "image/png": "[encoded data removed]",
            "text/plain": [
              "<Figure size 432x288 with 1 Axes>"
            ]
          },
          "metadata": {
            "tags": [],
            "needs_background": "light"
          }
        }
      ]
    },
    {
      "cell_type": "code",
      "metadata": {
        "colab": {
          "base_uri": "https://localhost:8080/"
        },
        "id": "gCUzYwyVqH8i",
        "outputId": "a5f22e69-fb31-4df8-889a-7a9f6a353e7b"
      },
      "source": [
        "pred = model.predict(x_test[ind].reshape(1,32,32,3))\r\n",
        "print('The pridicted probability different classes is')\r\n",
        "print(pred)\r\n",
        "print('The predicted class is', pred.argmax(), class_labels[pred.argmax()])\r\n",
        "print('The actual class is', y_test[ind].argmax(), class_labels[y_test[ind].argmax()])"
      ],
      "execution_count": null,
      "outputs": [
        {
          "output_type": "stream",
          "text": [
            "The pridicted probability different classes is\n",
            "[[0.00853586 0.00370927 0.09454114 0.4438077  0.02417964 0.3550486\n",
            "  0.05319165 0.00748837 0.008368   0.00112979]]\n",
            "The predicted class is 3 Cat\n",
            "The actual class is 3 Cat\n"
          ],
          "name": "stdout"
        }
      ]
    },
    {
      "cell_type": "markdown",
      "metadata": {
        "id": "UdIUM--x4kyV"
      },
      "source": [
        "## Loss and Accuracy Curves"
      ]
    },
    {
      "cell_type": "code",
      "metadata": {
        "colab": {
          "base_uri": "https://localhost:8080/"
        },
        "id": "fcpdbXHq4vT7",
        "outputId": "d57fd4f5-0a9b-452f-925a-635503f888b3"
      },
      "source": [
        "print(history.history.keys())"
      ],
      "execution_count": null,
      "outputs": [
        {
          "output_type": "stream",
          "text": [
            "dict_keys(['loss', 'accuracy', 'val_loss', 'val_accuracy'])\n"
          ],
          "name": "stdout"
        }
      ]
    },
    {
      "cell_type": "code",
      "metadata": {
        "id": "zlNfQHvh4ois"
      },
      "source": [
        "train_loss = history.history['loss']\r\n",
        "train_acc = history.history['accuracy']\r\n",
        "val_loss = history.history['val_loss']\r\n",
        "val_acc = history.history['val_accuracy']\r\n",
        "x_axis = range(1, len(train_loss)+1)"
      ],
      "execution_count": null,
      "outputs": []
    },
    {
      "cell_type": "code",
      "metadata": {
        "colab": {
          "base_uri": "https://localhost:8080/",
          "height": 312
        },
        "id": "CPvOEkMD6wxg",
        "outputId": "8a882063-5764-4784-eb99-910ed8655016"
      },
      "source": [
        "plt.plot(x_axis, train_loss, label='train')\r\n",
        "plt.plot(x_axis, val_loss, label='val')\r\n",
        "plt.legend()\r\n",
        "plt.xlabel('Epoch Number')\r\n",
        "plt.ylabel('Loss')\r\n",
        "plt.title('Loss Curve')"
      ],
      "execution_count": null,
      "outputs": [
        {
          "output_type": "execute_result",
          "data": {
            "text/plain": [
              "Text(0.5, 1.0, 'Loss Curve')"
            ]
          },
          "metadata": {
            "tags": []
          },
          "execution_count": 75
        },
        {
          "output_type": "display_data",
          "data": {
            "image/png": "[encoded data removed]",
            "text/plain": [
              "<Figure size 432x288 with 1 Axes>"
            ]
          },
          "metadata": {
            "tags": [],
            "needs_background": "light"
          }
        }
      ]
    },
    {
      "cell_type": "code",
      "metadata": {
        "colab": {
          "base_uri": "https://localhost:8080/",
          "height": 312
        },
        "id": "RO2EyeTF9ROP",
        "outputId": "108db598-944a-4ecc-bc74-79e95e7d10a1"
      },
      "source": [
        "plt.plot(x_axis, train_acc, label='train')\r\n",
        "plt.plot(x_axis, val_acc, label='val')\r\n",
        "plt.legend()\r\n",
        "plt.xlabel('Epoch Number')\r\n",
        "plt.ylabel('Accuracy')\r\n",
        "plt.title('Accuracy Curve')"
      ],
      "execution_count": null,
      "outputs": [
        {
          "output_type": "execute_result",
          "data": {
            "text/plain": [
              "Text(0.5, 1.0, 'Accuracy Curve')"
            ]
          },
          "metadata": {
            "tags": []
          },
          "execution_count": 76
        },
        {
          "output_type": "display_data",
          "data": {
            "image/png": "[encoded data removed]",
            "text/plain": [
              "<Figure size 432x288 with 1 Axes>"
            ]
          },
          "metadata": {
            "tags": [],
            "needs_background": "light"
          }
        }
      ]
    },
    {
      "cell_type": "markdown",
      "metadata": {
        "id": "Mf4eVE2x_32N"
      },
      "source": [
        "## Additional Evaluation Metrics\r\n",
        "### (Precision, Recall, Confusion Matrix)"
      ]
    },
    {
      "cell_type": "code",
      "metadata": {
        "colab": {
          "base_uri": "https://localhost:8080/"
        },
        "id": "qeypUFb2ANlF",
        "outputId": "72ce226d-6776-42da-eae9-f18affae0048"
      },
      "source": [
        "from sklearn.metrics import classification_report, confusion_matrix\r\n",
        "\r\n",
        "y_prob = model.predict(x_test)\r\n",
        "y_pred = np.argmax(y_prob, axis=1)\r\n",
        "target_names = ['Class 0', 'Class 1', 'Class 2', 'Class 3', 'Class 4', 'Class 5', 'Class 6', 'Class 7', 'Class 8', 'Class 9']\r\n",
        "print(classification_report(np.argmax(y_test, axis=1), y_pred, target_names=target_names))"
      ],
      "execution_count": null,
      "outputs": [
        {
          "output_type": "stream",
          "text": [
            "              precision    recall  f1-score   support\n",
            "\n",
            "     Class 0       0.66      0.65      0.66      1000\n",
            "     Class 1       0.71      0.69      0.70      1000\n",
            "     Class 2       0.53      0.47      0.50      1000\n",
            "     Class 3       0.43      0.37      0.40      1000\n",
            "     Class 4       0.59      0.38      0.46      1000\n",
            "     Class 5       0.47      0.53      0.50      1000\n",
            "     Class 6       0.56      0.77      0.65      1000\n",
            "     Class 7       0.67      0.66      0.66      1000\n",
            "     Class 8       0.70      0.73      0.72      1000\n",
            "     Class 9       0.61      0.64      0.62      1000\n",
            "\n",
            "    accuracy                           0.59     10000\n",
            "   macro avg       0.59      0.59      0.59     10000\n",
            "weighted avg       0.59      0.59      0.59     10000\n",
            "\n"
          ],
          "name": "stdout"
        }
      ]
    },
    {
      "cell_type": "code",
      "metadata": {
        "colab": {
          "base_uri": "https://localhost:8080/"
        },
        "id": "4si0QtGBaxGe",
        "outputId": "e68f58d0-76f7-4a46-85eb-5e543b3d46b6"
      },
      "source": [
        "cnf_matrix = confusion_matrix(y_true=np.argmax(y_test, axis=1), y_pred=y_pred)\r\n",
        "print(cnf_matrix)"
      ],
      "execution_count": null,
      "outputs": [
        {
          "output_type": "stream",
          "text": [
            "[[653  38  52  11  18  12  28  14 118  56]\n",
            " [ 40 693   5  11  11   8  18   6  52 156]\n",
            " [ 68  13 475  83  66  93 116  46  22  18]\n",
            " [ 24  10  63 374  47 244 144  34  15  45]\n",
            " [ 35   9 128  71 384  80 153 111  18  11]\n",
            " [ 15   4  69 176  33 534  74  63  12  20]\n",
            " [  8  10  56  49  27  34 770  16  10  20]\n",
            " [ 18   6  18  50  50 117  28 656  12  45]\n",
            " [ 82  60  15  20  11   8  10  10 735  49]\n",
            " [ 40 130   9  31   5  17  41  28  55 644]]\n"
          ],
          "name": "stdout"
        }
      ]
    }
  ]
}