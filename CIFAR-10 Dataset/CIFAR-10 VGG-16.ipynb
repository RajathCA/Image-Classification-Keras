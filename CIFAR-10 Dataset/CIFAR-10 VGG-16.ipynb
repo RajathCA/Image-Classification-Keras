{
  "nbformat": 4,
  "nbformat_minor": 0,
  "metadata": {
    "accelerator": "GPU",
    "colab": {
      "name": "CIFAR-10 VGG-16.ipynb",
      "provenance": [],
      "collapsed_sections": []
    },
    "kernelspec": {
      "display_name": "Python 3",
      "name": "python3"
    }
  },
  "cells": [
    {
      "cell_type": "markdown",
      "metadata": {
        "id": "bozW6qoXDRGg"
      },
      "source": [
        "## Notes/Observations\r\n",
        "\r\n",
        "### Accuracy\r\n",
        "- Test Accuracy of 87.79% was obtained\r\n",
        "- No of parameters is 15M\r\n",
        "\r\n",
        "### What we can learn from VGG?\r\n",
        "- Smaller filter sizes of (3x3) are used.\r\n",
        "- This is because two consecutive (3x3) filters have the same receptive field as a (5x5) filter while three consecutive (3x3) filters have the same receptive filed as a (7x7) filter.\r\n",
        "- This is more advantageous owing to an additional non-linearity layers while using fewer parameters.\r\n",
        "- Also VGG-16 is a much deeper model than AlexNet (61M) with 138M parameters and the way the conv filters are used is very regular. The number of filters are doubled after every maxpool.\r\n",
        "- This sort of regular architecture can be used as a guideline while building baseline models for your datasets.\r\n",
        "\r\n",
        "### Architecture\r\n",
        "- This is not the complete VGG-16 architecture. It is version of VGG_16 adapted to the CIFAR-10 dataset.\r\n",
        "- It has 15M while the original VGG-16 has 138M parameters.\r\n",
        "- The Conv layers are isentical to the original VGG-16 architecture and changes are only made in the dense layes.\r\n",
        "- Upscaling the image and using a larger model will probably boost performance even more but since VGG has 5 maxpools the model can be used without resizing CIFAR's 32*32 images. So no resizing was done.\r\n",
        "\r\n",
        "### Training\r\n",
        "- Some simple augmentation was performed with the Keras ImageDataGenerator() function given by-\r\n",
        "<br>datagen = ImageDataGenerator(\r\n",
        "    <br>rotation_range=20,\r\n",
        "    <br>width_shift_range=0.2,\r\n",
        "    <br>height_shift_range=0.2,\r\n",
        "    <br>horizontal_flip=True)"
      ]
    },
    {
      "cell_type": "markdown",
      "metadata": {
        "id": "YpbiX6lzuw3F"
      },
      "source": [
        "## Import the required libraries"
      ]
    },
    {
      "cell_type": "code",
      "metadata": {
        "id": "gOD3uGuRrUH8"
      },
      "source": [
        "import numpy as np\r\n",
        "import keras\r\n",
        "import matplotlib.pyplot as plt"
      ],
      "execution_count": null,
      "outputs": []
    },
    {
      "cell_type": "code",
      "metadata": {
        "colab": {
          "base_uri": "https://localhost:8080/"
        },
        "id": "RqURAIV8tw2p",
        "outputId": "bf306e4c-794f-4b0a-e15c-bf852e3e2ace"
      },
      "source": [
        "print(keras.__version__)"
      ],
      "execution_count": null,
      "outputs": [
        {
          "output_type": "stream",
          "text": [
            "2.4.3\n"
          ],
          "name": "stdout"
        }
      ]
    },
    {
      "cell_type": "markdown",
      "metadata": {
        "id": "x1_8BbJzu9Mg"
      },
      "source": [
        "## Load and explore the data"
      ]
    },
    {
      "cell_type": "code",
      "metadata": {
        "id": "deLGInCnvBQ9",
        "colab": {
          "base_uri": "https://localhost:8080/"
        },
        "outputId": "1c946d0d-692a-48df-bec4-feddac1e3f13"
      },
      "source": [
        "(x_train, y_train),(x_test, y_test)= keras.datasets.cifar10.load_data()"
      ],
      "execution_count": null,
      "outputs": [
        {
          "output_type": "stream",
          "text": [
            "Downloading data from https://www.cs.toronto.edu/~kriz/cifar-10-python.tar.gz\n",
            "170500096/170498071 [==============================] - 3s 0us/step\n"
          ],
          "name": "stdout"
        }
      ]
    },
    {
      "cell_type": "code",
      "metadata": {
        "colab": {
          "base_uri": "https://localhost:8080/"
        },
        "id": "3plX9EuMvV4Y",
        "outputId": "3b37a2bf-cd44-4e82-df9a-1527a669fb0f"
      },
      "source": [
        "print('Dimensions and datatype of')\r\n",
        "print('x_train:', x_train.shape, '\\tdtype:', x_train.dtype)\r\n",
        "print('y_train:', y_train.shape, '\\t\\tdtype:', y_train.dtype)\r\n",
        "print('x_test:', x_test.shape, '\\tdtype:', x_test.dtype)\r\n",
        "print('y_test:', y_test.shape, '\\t\\tdtype:', y_test.dtype)"
      ],
      "execution_count": null,
      "outputs": [
        {
          "output_type": "stream",
          "text": [
            "Dimensions and datatype of\n",
            "x_train: (50000, 32, 32, 3) \tdtype: uint8\n",
            "y_train: (50000, 1) \t\tdtype: uint8\n",
            "x_test: (10000, 32, 32, 3) \tdtype: uint8\n",
            "y_test: (10000, 1) \t\tdtype: uint8\n"
          ],
          "name": "stdout"
        }
      ]
    },
    {
      "cell_type": "markdown",
      "metadata": {
        "id": "qteGyD-nNyO3"
      },
      "source": [
        "## Normalize the data"
      ]
    },
    {
      "cell_type": "code",
      "metadata": {
        "colab": {
          "base_uri": "https://localhost:8080/"
        },
        "id": "fSythSWbzj2q",
        "outputId": "a8084698-46db-4f8d-8450-525adc6d7c39"
      },
      "source": [
        "mean = np.mean(x_train)\r\n",
        "print(mean)"
      ],
      "execution_count": null,
      "outputs": [
        {
          "output_type": "stream",
          "text": [
            "120.70756512369792\n"
          ],
          "name": "stdout"
        }
      ]
    },
    {
      "cell_type": "code",
      "metadata": {
        "colab": {
          "base_uri": "https://localhost:8080/"
        },
        "id": "pcSQABpw1TJo",
        "outputId": "b5806de2-b1bb-4d93-f182-5ce7b19f0bcc"
      },
      "source": [
        "std = np.std(x_train)\r\n",
        "print(std)"
      ],
      "execution_count": null,
      "outputs": [
        {
          "output_type": "stream",
          "text": [
            "64.1500758911213\n"
          ],
          "name": "stdout"
        }
      ]
    },
    {
      "cell_type": "code",
      "metadata": {
        "id": "Mr6Bo7o31YmW"
      },
      "source": [
        "x_train = x_train.astype(np.float32)\r\n",
        "x_test = x_test.astype(np.float32)"
      ],
      "execution_count": null,
      "outputs": []
    },
    {
      "cell_type": "code",
      "metadata": {
        "id": "6L-UW8h0NyPA"
      },
      "source": [
        "x_train = (x_train - mean) / std\r\n",
        "x_test = (x_test - mean) / std"
      ],
      "execution_count": null,
      "outputs": []
    },
    {
      "cell_type": "markdown",
      "metadata": {
        "id": "f1_M59A22oms"
      },
      "source": [
        "## Reshape input, add one hot encode labels and split between train and val"
      ]
    },
    {
      "cell_type": "code",
      "metadata": {
        "id": "chK2rCJG3TEe"
      },
      "source": [
        "from keras.utils import to_categorical\r\n",
        "y_train =  to_categorical(y_train)\r\n",
        "y_test  =  to_categorical(y_test)"
      ],
      "execution_count": null,
      "outputs": []
    },
    {
      "cell_type": "code",
      "metadata": {
        "id": "Qq5KNUP4arKW"
      },
      "source": [
        "def simultaneous_shuffle(images, labels):\r\n",
        "    np.random.seed(0)\r\n",
        "    shuffle_ind = np.arange(images.shape[0])\r\n",
        "    np.random.shuffle(shuffle_ind)\r\n",
        "    images = images[shuffle_ind]\r\n",
        "    labels = labels[shuffle_ind]\r\n",
        "    return images, labels"
      ],
      "execution_count": null,
      "outputs": []
    },
    {
      "cell_type": "code",
      "metadata": {
        "id": "6NA0ryGpbSIe"
      },
      "source": [
        "train_percent = 0.8\r\n",
        "n_train = int(x_train.shape[0]*train_percent)\r\n",
        "x_train, y_train = simultaneous_shuffle(x_train, y_train)\r\n",
        "x_val, y_val = x_train[n_train:], y_train[n_train:]\r\n",
        "x_train, y_train = x_train[:n_train], y_train[:n_train]"
      ],
      "execution_count": null,
      "outputs": []
    },
    {
      "cell_type": "code",
      "metadata": {
        "colab": {
          "base_uri": "https://localhost:8080/"
        },
        "id": "QgON4VMY3281",
        "outputId": "f53b23cd-6c3f-400b-8f3b-5208e633a4ec"
      },
      "source": [
        "print('Dimensions and datatype of')\r\n",
        "print('x_train:', x_train.shape, '\\tdtype:', x_train.dtype)\r\n",
        "print('y_train:', y_train.shape, '\\t\\tdtype:', y_train.dtype)\r\n",
        "print('x_val:', x_val.shape, '\\tdtype:', x_val.dtype)\r\n",
        "print('y_val:', y_val.shape, '\\t\\tdtype:', y_val.dtype)\r\n",
        "print('x_test:', x_test.shape, '\\tdtype:', x_test.dtype)\r\n",
        "print('y_test:', y_test.shape, '\\t\\tdtype:', y_test.dtype)"
      ],
      "execution_count": null,
      "outputs": [
        {
          "output_type": "stream",
          "text": [
            "Dimensions and datatype of\n",
            "x_train: (40000, 32, 32, 3) \tdtype: float32\n",
            "y_train: (40000, 10) \t\tdtype: float32\n",
            "x_val: (10000, 32, 32, 3) \tdtype: float32\n",
            "y_val: (10000, 10) \t\tdtype: float32\n",
            "x_test: (10000, 32, 32, 3) \tdtype: float32\n",
            "y_test: (10000, 10) \t\tdtype: float32\n"
          ],
          "name": "stdout"
        }
      ]
    },
    {
      "cell_type": "markdown",
      "metadata": {
        "id": "AR9SsmdT4AE0"
      },
      "source": [
        "## Build the VGG-16 model"
      ]
    },
    {
      "cell_type": "code",
      "metadata": {
        "id": "qdU22DGS4SJD"
      },
      "source": [
        "from keras.models import Sequential\r\n",
        "from keras.layers import Conv2D, Dense, MaxPooling2D, Flatten, Dropout"
      ],
      "execution_count": null,
      "outputs": []
    },
    {
      "cell_type": "code",
      "metadata": {
        "id": "pAHj1RJX-HTG"
      },
      "source": [
        "model = Sequential()\r\n",
        "\r\n",
        "model.add(Conv2D(input_shape=(32,32,3),filters=64,kernel_size=(3,3),padding=\"same\", activation=\"relu\"))\r\n",
        "model.add(Conv2D(filters=64,kernel_size=(3,3),padding=\"same\", activation=\"relu\"))\r\n",
        "model.add(MaxPooling2D(pool_size=(2,2),strides=(2,2)))\r\n",
        "\r\n",
        "model.add(Conv2D(filters=128, kernel_size=(3,3), padding=\"same\", activation=\"relu\"))\r\n",
        "model.add(Conv2D(filters=128, kernel_size=(3,3), padding=\"same\", activation=\"relu\"))\r\n",
        "model.add(MaxPooling2D(pool_size=(2,2),strides=(2,2)))\r\n",
        "\r\n",
        "model.add(Conv2D(filters=256, kernel_size=(3,3), padding=\"same\", activation=\"relu\"))\r\n",
        "model.add(Conv2D(filters=256, kernel_size=(3,3), padding=\"same\", activation=\"relu\"))\r\n",
        "model.add(Conv2D(filters=256, kernel_size=(3,3), padding=\"same\", activation=\"relu\"))\r\n",
        "model.add(MaxPooling2D(pool_size=(2,2),strides=(2,2)))\r\n",
        "\r\n",
        "model.add(Conv2D(filters=512, kernel_size=(3,3), padding=\"same\", activation=\"relu\"))\r\n",
        "model.add(Conv2D(filters=512, kernel_size=(3,3), padding=\"same\", activation=\"relu\"))\r\n",
        "model.add(Conv2D(filters=512, kernel_size=(3,3), padding=\"same\", activation=\"relu\"))\r\n",
        "model.add(MaxPooling2D(pool_size=(2,2),strides=(2,2)))\r\n",
        "\r\n",
        "model.add(Conv2D(filters=512, kernel_size=(3,3), padding=\"same\", activation=\"relu\"))\r\n",
        "model.add(Conv2D(filters=512, kernel_size=(3,3), padding=\"same\", activation=\"relu\"))\r\n",
        "model.add(Conv2D(filters=512, kernel_size=(3,3), padding=\"same\", activation=\"relu\"))\r\n",
        "model.add(MaxPooling2D(pool_size=(2,2),strides=(2,2)))\r\n",
        "\r\n",
        "model.add(Flatten())\r\n",
        "model.add(Dense(units=256,activation=\"relu\"))\r\n",
        "model.add(Dense(units=256,activation=\"relu\"))\r\n",
        "model.add(Dense(units=10, activation=\"softmax\"))"
      ],
      "execution_count": null,
      "outputs": []
    },
    {
      "cell_type": "code",
      "metadata": {
        "colab": {
          "base_uri": "https://localhost:8080/"
        },
        "id": "1SrNfJADBeF2",
        "outputId": "f7dd447f-2921-4015-de59-7c7ac3a57f76"
      },
      "source": [
        "model.summary()"
      ],
      "execution_count": null,
      "outputs": [
        {
          "output_type": "stream",
          "text": [
            "Model: \"sequential\"\n",
            "_________________________________________________________________\n",
            "Layer (type)                 Output Shape              Param #   \n",
            "=================================================================\n",
            "conv2d (Conv2D)              (None, 32, 32, 64)        1792      \n",
            "_________________________________________________________________\n",
            "conv2d_1 (Conv2D)            (None, 32, 32, 64)        36928     \n",
            "_________________________________________________________________\n",
            "max_pooling2d (MaxPooling2D) (None, 16, 16, 64)        0         \n",
            "_________________________________________________________________\n",
            "conv2d_2 (Conv2D)            (None, 16, 16, 128)       73856     \n",
            "_________________________________________________________________\n",
            "conv2d_3 (Conv2D)            (None, 16, 16, 128)       147584    \n",
            "_________________________________________________________________\n",
            "max_pooling2d_1 (MaxPooling2 (None, 8, 8, 128)         0         \n",
            "_________________________________________________________________\n",
            "conv2d_4 (Conv2D)            (None, 8, 8, 256)         295168    \n",
            "_________________________________________________________________\n",
            "conv2d_5 (Conv2D)            (None, 8, 8, 256)         590080    \n",
            "_________________________________________________________________\n",
            "conv2d_6 (Conv2D)            (None, 8, 8, 256)         590080    \n",
            "_________________________________________________________________\n",
            "max_pooling2d_2 (MaxPooling2 (None, 4, 4, 256)         0         \n",
            "_________________________________________________________________\n",
            "conv2d_7 (Conv2D)            (None, 4, 4, 512)         1180160   \n",
            "_________________________________________________________________\n",
            "conv2d_8 (Conv2D)            (None, 4, 4, 512)         2359808   \n",
            "_________________________________________________________________\n",
            "conv2d_9 (Conv2D)            (None, 4, 4, 512)         2359808   \n",
            "_________________________________________________________________\n",
            "max_pooling2d_3 (MaxPooling2 (None, 2, 2, 512)         0         \n",
            "_________________________________________________________________\n",
            "conv2d_10 (Conv2D)           (None, 2, 2, 512)         2359808   \n",
            "_________________________________________________________________\n",
            "conv2d_11 (Conv2D)           (None, 2, 2, 512)         2359808   \n",
            "_________________________________________________________________\n",
            "conv2d_12 (Conv2D)           (None, 2, 2, 512)         2359808   \n",
            "_________________________________________________________________\n",
            "max_pooling2d_4 (MaxPooling2 (None, 1, 1, 512)         0         \n",
            "_________________________________________________________________\n",
            "flatten (Flatten)            (None, 512)               0         \n",
            "_________________________________________________________________\n",
            "dense (Dense)                (None, 256)               131328    \n",
            "_________________________________________________________________\n",
            "dense_1 (Dense)              (None, 256)               65792     \n",
            "_________________________________________________________________\n",
            "dense_2 (Dense)              (None, 10)                2570      \n",
            "=================================================================\n",
            "Total params: 14,914,378\n",
            "Trainable params: 14,914,378\n",
            "Non-trainable params: 0\n",
            "_________________________________________________________________\n"
          ],
          "name": "stdout"
        }
      ]
    },
    {
      "cell_type": "markdown",
      "metadata": {
        "id": "J7KuHdcrdDcu"
      },
      "source": [
        "## Compile and Train the model"
      ]
    },
    {
      "cell_type": "code",
      "metadata": {
        "id": "kzUp3uj3g8CG",
        "colab": {
          "base_uri": "https://localhost:8080/"
        },
        "outputId": "81b7077d-7952-474d-93eb-e7601f0814f9"
      },
      "source": [
        "from google.colab import drive\r\n",
        "drive.mount('/content/drive')\r\n",
        "\r\n",
        "import os\r\n",
        "os.chdir('/content/drive/MyDrive/Colab Notebooks/Saved Models')\r\n",
        "\r\n",
        "from keras.callbacks import ModelCheckpoint\r\n",
        "mc = ModelCheckpoint('CIFAR_10_VGG_16.h5', monitor='val_loss', mode='min', verbose=1, save_best_only=True)"
      ],
      "execution_count": null,
      "outputs": [
        {
          "output_type": "stream",
          "text": [
            "Mounted at /content/drive\n"
          ],
          "name": "stdout"
        }
      ]
    },
    {
      "cell_type": "code",
      "metadata": {
        "id": "5ZQWKs59Mglo"
      },
      "source": [
        "from keras.preprocessing.image import ImageDataGenerator\r\n",
        "datagen = ImageDataGenerator(\r\n",
        "    rotation_range=20,\r\n",
        "    width_shift_range=0.2,\r\n",
        "    height_shift_range=0.2,\r\n",
        "    horizontal_flip=True)\r\n",
        "datagen.fit(x_train)"
      ],
      "execution_count": null,
      "outputs": []
    },
    {
      "cell_type": "code",
      "metadata": {
        "id": "VYJozlDFjOO4"
      },
      "source": [
        "from keras.optimizers import Adam\r\n",
        "adam = Adam(learning_rate=0.0005)"
      ],
      "execution_count": null,
      "outputs": []
    },
    {
      "cell_type": "code",
      "metadata": {
        "id": "aMSwaBjbdGVk",
        "colab": {
          "base_uri": "https://localhost:8080/"
        },
        "outputId": "2061640b-d56f-49e3-a548-9feeb7cde0e5"
      },
      "source": [
        "model.compile(loss=\"categorical_crossentropy\", optimizer=adam, metrics=['accuracy'])\r\n",
        "history = model.fit(datagen.flow(x_train, y_train, batch_size=128), validation_data=(x_val, y_val), epochs=65, steps_per_epoch=len(x_train) // 128, callbacks=mc)"
      ],
      "execution_count": null,
      "outputs": [
        {
          "output_type": "stream",
          "text": [
            "Epoch 1/65\n",
            "312/312 [==============================] - 28s 81ms/step - loss: 2.2073 - accuracy: 0.1334 - val_loss: 1.8986 - val_accuracy: 0.2210\n",
            "\n",
            "Epoch 00001: val_loss improved from inf to 1.89856, saving model to CIFAR_10_VGG_16.h5\n",
            "Epoch 2/65\n",
            "312/312 [==============================] - 24s 78ms/step - loss: 1.8724 - accuracy: 0.2365 - val_loss: 1.7393 - val_accuracy: 0.3427\n",
            "\n",
            "Epoch 00002: val_loss improved from 1.89856 to 1.73934, saving model to CIFAR_10_VGG_16.h5\n",
            "Epoch 3/65\n",
            "312/312 [==============================] - 24s 78ms/step - loss: 1.6448 - accuracy: 0.3667 - val_loss: 1.5503 - val_accuracy: 0.4166\n",
            "\n",
            "Epoch 00003: val_loss improved from 1.73934 to 1.55033, saving model to CIFAR_10_VGG_16.h5\n",
            "Epoch 4/65\n",
            "312/312 [==============================] - 24s 78ms/step - loss: 1.4595 - accuracy: 0.4392 - val_loss: 1.7537 - val_accuracy: 0.4379\n",
            "\n",
            "Epoch 00004: val_loss did not improve from 1.55033\n",
            "Epoch 5/65\n",
            "312/312 [==============================] - 24s 77ms/step - loss: 1.3329 - accuracy: 0.5062 - val_loss: 1.3411 - val_accuracy: 0.5389\n",
            "\n",
            "Epoch 00005: val_loss improved from 1.55033 to 1.34107, saving model to CIFAR_10_VGG_16.h5\n",
            "Epoch 6/65\n",
            "312/312 [==============================] - 25s 79ms/step - loss: 1.1553 - accuracy: 0.5878 - val_loss: 1.1251 - val_accuracy: 0.6319\n",
            "\n",
            "Epoch 00006: val_loss improved from 1.34107 to 1.12506, saving model to CIFAR_10_VGG_16.h5\n",
            "Epoch 7/65\n",
            "312/312 [==============================] - 25s 79ms/step - loss: 1.0464 - accuracy: 0.6325 - val_loss: 1.1710 - val_accuracy: 0.6455\n",
            "\n",
            "Epoch 00007: val_loss did not improve from 1.12506\n",
            "Epoch 8/65\n",
            "312/312 [==============================] - 24s 78ms/step - loss: 0.9559 - accuracy: 0.6685 - val_loss: 0.8674 - val_accuracy: 0.7113\n",
            "\n",
            "Epoch 00008: val_loss improved from 1.12506 to 0.86742, saving model to CIFAR_10_VGG_16.h5\n",
            "Epoch 9/65\n",
            "312/312 [==============================] - 25s 79ms/step - loss: 0.8595 - accuracy: 0.7014 - val_loss: 0.9036 - val_accuracy: 0.6986\n",
            "\n",
            "Epoch 00009: val_loss did not improve from 0.86742\n",
            "Epoch 10/65\n",
            "312/312 [==============================] - 24s 78ms/step - loss: 0.8173 - accuracy: 0.7162 - val_loss: 0.9067 - val_accuracy: 0.7016\n",
            "\n",
            "Epoch 00010: val_loss did not improve from 0.86742\n",
            "Epoch 11/65\n",
            "312/312 [==============================] - 24s 78ms/step - loss: 0.7648 - accuracy: 0.7384 - val_loss: 0.8960 - val_accuracy: 0.7097\n",
            "\n",
            "Epoch 00011: val_loss did not improve from 0.86742\n",
            "Epoch 12/65\n",
            "312/312 [==============================] - 24s 78ms/step - loss: 0.7389 - accuracy: 0.7515 - val_loss: 0.7275 - val_accuracy: 0.7609\n",
            "\n",
            "Epoch 00012: val_loss improved from 0.86742 to 0.72750, saving model to CIFAR_10_VGG_16.h5\n",
            "Epoch 13/65\n",
            "312/312 [==============================] - 25s 79ms/step - loss: 0.6927 - accuracy: 0.7652 - val_loss: 0.7769 - val_accuracy: 0.7539\n",
            "\n",
            "Epoch 00013: val_loss did not improve from 0.72750\n",
            "Epoch 14/65\n",
            "312/312 [==============================] - 24s 78ms/step - loss: 0.6677 - accuracy: 0.7744 - val_loss: 0.7095 - val_accuracy: 0.7723\n",
            "\n",
            "Epoch 00014: val_loss improved from 0.72750 to 0.70949, saving model to CIFAR_10_VGG_16.h5\n",
            "Epoch 15/65\n",
            "312/312 [==============================] - 25s 79ms/step - loss: 0.6367 - accuracy: 0.7852 - val_loss: 0.6314 - val_accuracy: 0.7920\n",
            "\n",
            "Epoch 00015: val_loss improved from 0.70949 to 0.63139, saving model to CIFAR_10_VGG_16.h5\n",
            "Epoch 16/65\n",
            "312/312 [==============================] - 25s 78ms/step - loss: 0.5975 - accuracy: 0.8031 - val_loss: 0.6168 - val_accuracy: 0.8016\n",
            "\n",
            "Epoch 00016: val_loss improved from 0.63139 to 0.61684, saving model to CIFAR_10_VGG_16.h5\n",
            "Epoch 17/65\n",
            "312/312 [==============================] - 25s 79ms/step - loss: 0.5885 - accuracy: 0.8033 - val_loss: 0.6197 - val_accuracy: 0.7964\n",
            "\n",
            "Epoch 00017: val_loss did not improve from 0.61684\n",
            "Epoch 18/65\n",
            "312/312 [==============================] - 24s 78ms/step - loss: 0.5507 - accuracy: 0.8163 - val_loss: 0.5946 - val_accuracy: 0.8049\n",
            "\n",
            "Epoch 00018: val_loss improved from 0.61684 to 0.59459, saving model to CIFAR_10_VGG_16.h5\n",
            "Epoch 19/65\n",
            "312/312 [==============================] - 25s 80ms/step - loss: 0.5331 - accuracy: 0.8227 - val_loss: 0.6410 - val_accuracy: 0.7990\n",
            "\n",
            "Epoch 00019: val_loss did not improve from 0.59459\n",
            "Epoch 20/65\n",
            "312/312 [==============================] - 24s 78ms/step - loss: 0.5298 - accuracy: 0.8238 - val_loss: 0.6833 - val_accuracy: 0.7947\n",
            "\n",
            "Epoch 00020: val_loss did not improve from 0.59459\n",
            "Epoch 21/65\n",
            "312/312 [==============================] - 24s 78ms/step - loss: 0.5096 - accuracy: 0.8277 - val_loss: 0.5686 - val_accuracy: 0.8204\n",
            "\n",
            "Epoch 00021: val_loss improved from 0.59459 to 0.56862, saving model to CIFAR_10_VGG_16.h5\n",
            "Epoch 22/65\n",
            "312/312 [==============================] - 25s 79ms/step - loss: 0.4920 - accuracy: 0.8376 - val_loss: 0.5554 - val_accuracy: 0.8280\n",
            "\n",
            "Epoch 00022: val_loss improved from 0.56862 to 0.55543, saving model to CIFAR_10_VGG_16.h5\n",
            "Epoch 23/65\n",
            "312/312 [==============================] - 25s 79ms/step - loss: 0.4742 - accuracy: 0.8407 - val_loss: 0.5846 - val_accuracy: 0.8143\n",
            "\n",
            "Epoch 00023: val_loss did not improve from 0.55543\n",
            "Epoch 24/65\n",
            "312/312 [==============================] - 24s 78ms/step - loss: 0.4625 - accuracy: 0.8463 - val_loss: 0.6309 - val_accuracy: 0.8061\n",
            "\n",
            "Epoch 00024: val_loss did not improve from 0.55543\n",
            "Epoch 25/65\n",
            "312/312 [==============================] - 24s 78ms/step - loss: 0.4676 - accuracy: 0.8435 - val_loss: 0.5098 - val_accuracy: 0.8409\n",
            "\n",
            "Epoch 00025: val_loss improved from 0.55543 to 0.50977, saving model to CIFAR_10_VGG_16.h5\n",
            "Epoch 26/65\n",
            "312/312 [==============================] - 25s 79ms/step - loss: 0.4361 - accuracy: 0.8557 - val_loss: 0.5312 - val_accuracy: 0.8349\n",
            "\n",
            "Epoch 00026: val_loss did not improve from 0.50977\n",
            "Epoch 27/65\n",
            "312/312 [==============================] - 25s 78ms/step - loss: 0.4365 - accuracy: 0.8549 - val_loss: 0.5405 - val_accuracy: 0.8294\n",
            "\n",
            "Epoch 00027: val_loss did not improve from 0.50977\n",
            "Epoch 28/65\n",
            "312/312 [==============================] - 25s 79ms/step - loss: 0.4120 - accuracy: 0.8649 - val_loss: 0.5354 - val_accuracy: 0.8394\n",
            "\n",
            "Epoch 00028: val_loss did not improve from 0.50977\n",
            "Epoch 29/65\n",
            "312/312 [==============================] - 24s 78ms/step - loss: 0.3999 - accuracy: 0.8680 - val_loss: 0.5858 - val_accuracy: 0.8203\n",
            "\n",
            "Epoch 00029: val_loss did not improve from 0.50977\n",
            "Epoch 30/65\n",
            "312/312 [==============================] - 24s 78ms/step - loss: 0.3985 - accuracy: 0.8660 - val_loss: 0.4954 - val_accuracy: 0.8454\n",
            "\n",
            "Epoch 00030: val_loss improved from 0.50977 to 0.49543, saving model to CIFAR_10_VGG_16.h5\n",
            "Epoch 31/65\n",
            "312/312 [==============================] - 25s 80ms/step - loss: 0.3798 - accuracy: 0.8711 - val_loss: 0.5640 - val_accuracy: 0.8351\n",
            "\n",
            "Epoch 00031: val_loss did not improve from 0.49543\n",
            "Epoch 32/65\n",
            "312/312 [==============================] - 24s 78ms/step - loss: 0.3805 - accuracy: 0.8722 - val_loss: 0.5267 - val_accuracy: 0.8462\n",
            "\n",
            "Epoch 00032: val_loss did not improve from 0.49543\n",
            "Epoch 33/65\n",
            "312/312 [==============================] - 24s 78ms/step - loss: 0.3718 - accuracy: 0.8746 - val_loss: 0.5045 - val_accuracy: 0.8539\n",
            "\n",
            "Epoch 00033: val_loss did not improve from 0.49543\n",
            "Epoch 34/65\n",
            "312/312 [==============================] - 24s 78ms/step - loss: 0.3619 - accuracy: 0.8791 - val_loss: 0.4848 - val_accuracy: 0.8554\n",
            "\n",
            "Epoch 00034: val_loss improved from 0.49543 to 0.48477, saving model to CIFAR_10_VGG_16.h5\n",
            "Epoch 35/65\n",
            "312/312 [==============================] - 25s 79ms/step - loss: 0.3440 - accuracy: 0.8864 - val_loss: 0.4621 - val_accuracy: 0.8621\n",
            "\n",
            "Epoch 00035: val_loss improved from 0.48477 to 0.46213, saving model to CIFAR_10_VGG_16.h5\n",
            "Epoch 36/65\n",
            "312/312 [==============================] - 25s 79ms/step - loss: 0.3502 - accuracy: 0.8831 - val_loss: 0.4855 - val_accuracy: 0.8542\n",
            "\n",
            "Epoch 00036: val_loss did not improve from 0.46213\n",
            "Epoch 37/65\n",
            "312/312 [==============================] - 24s 78ms/step - loss: 0.3403 - accuracy: 0.8875 - val_loss: 0.5105 - val_accuracy: 0.8502\n",
            "\n",
            "Epoch 00037: val_loss did not improve from 0.46213\n",
            "Epoch 38/65\n",
            "312/312 [==============================] - 24s 78ms/step - loss: 0.3297 - accuracy: 0.8908 - val_loss: 0.6795 - val_accuracy: 0.8136\n",
            "\n",
            "Epoch 00038: val_loss did not improve from 0.46213\n",
            "Epoch 39/65\n",
            "312/312 [==============================] - 24s 78ms/step - loss: 0.3272 - accuracy: 0.8924 - val_loss: 0.4986 - val_accuracy: 0.8548\n",
            "\n",
            "Epoch 00039: val_loss did not improve from 0.46213\n",
            "Epoch 40/65\n",
            "312/312 [==============================] - 24s 78ms/step - loss: 0.3166 - accuracy: 0.8932 - val_loss: 0.5213 - val_accuracy: 0.8450\n",
            "\n",
            "Epoch 00040: val_loss did not improve from 0.46213\n",
            "Epoch 41/65\n",
            "312/312 [==============================] - 24s 78ms/step - loss: 0.3227 - accuracy: 0.8924 - val_loss: 0.4698 - val_accuracy: 0.8640\n",
            "\n",
            "Epoch 00041: val_loss did not improve from 0.46213\n",
            "Epoch 42/65\n",
            "312/312 [==============================] - 24s 78ms/step - loss: 0.3169 - accuracy: 0.8941 - val_loss: 0.5407 - val_accuracy: 0.8418\n",
            "\n",
            "Epoch 00042: val_loss did not improve from 0.46213\n",
            "Epoch 43/65\n",
            "312/312 [==============================] - 24s 78ms/step - loss: 0.2958 - accuracy: 0.8995 - val_loss: 0.5916 - val_accuracy: 0.8444\n",
            "\n",
            "Epoch 00043: val_loss did not improve from 0.46213\n",
            "Epoch 44/65\n",
            "312/312 [==============================] - 25s 79ms/step - loss: 0.3000 - accuracy: 0.9016 - val_loss: 0.4553 - val_accuracy: 0.8664\n",
            "\n",
            "Epoch 00044: val_loss improved from 0.46213 to 0.45533, saving model to CIFAR_10_VGG_16.h5\n",
            "Epoch 45/65\n",
            "312/312 [==============================] - 25s 79ms/step - loss: 0.2932 - accuracy: 0.9045 - val_loss: 0.4661 - val_accuracy: 0.8636\n",
            "\n",
            "Epoch 00045: val_loss did not improve from 0.45533\n",
            "Epoch 46/65\n",
            "312/312 [==============================] - 24s 78ms/step - loss: 0.2876 - accuracy: 0.9064 - val_loss: 0.4766 - val_accuracy: 0.8602\n",
            "\n",
            "Epoch 00046: val_loss did not improve from 0.45533\n",
            "Epoch 47/65\n",
            "312/312 [==============================] - 24s 78ms/step - loss: 0.2818 - accuracy: 0.9067 - val_loss: 0.4819 - val_accuracy: 0.8537\n",
            "\n",
            "Epoch 00047: val_loss did not improve from 0.45533\n",
            "Epoch 48/65\n",
            "312/312 [==============================] - 24s 78ms/step - loss: 0.2788 - accuracy: 0.9093 - val_loss: 0.4548 - val_accuracy: 0.8719\n",
            "\n",
            "Epoch 00048: val_loss improved from 0.45533 to 0.45475, saving model to CIFAR_10_VGG_16.h5\n",
            "Epoch 49/65\n",
            "312/312 [==============================] - 25s 79ms/step - loss: 0.2775 - accuracy: 0.9082 - val_loss: 0.4892 - val_accuracy: 0.8656\n",
            "\n",
            "Epoch 00049: val_loss did not improve from 0.45475\n",
            "Epoch 50/65\n",
            "312/312 [==============================] - 24s 78ms/step - loss: 0.2693 - accuracy: 0.9118 - val_loss: 0.4485 - val_accuracy: 0.8681\n",
            "\n",
            "Epoch 00050: val_loss improved from 0.45475 to 0.44846, saving model to CIFAR_10_VGG_16.h5\n",
            "Epoch 51/65\n",
            "312/312 [==============================] - 25s 80ms/step - loss: 0.2615 - accuracy: 0.9108 - val_loss: 0.4786 - val_accuracy: 0.8676\n",
            "\n",
            "Epoch 00051: val_loss did not improve from 0.44846\n",
            "Epoch 52/65\n",
            "312/312 [==============================] - 24s 78ms/step - loss: 0.2606 - accuracy: 0.9145 - val_loss: 0.5128 - val_accuracy: 0.8600\n",
            "\n",
            "Epoch 00052: val_loss did not improve from 0.44846\n",
            "Epoch 53/65\n",
            "312/312 [==============================] - 24s 78ms/step - loss: 0.2523 - accuracy: 0.9169 - val_loss: 0.4720 - val_accuracy: 0.8602\n",
            "\n",
            "Epoch 00053: val_loss did not improve from 0.44846\n",
            "Epoch 54/65\n",
            "312/312 [==============================] - 24s 78ms/step - loss: 0.2598 - accuracy: 0.9133 - val_loss: 0.4665 - val_accuracy: 0.8645\n",
            "\n",
            "Epoch 00054: val_loss did not improve from 0.44846\n",
            "Epoch 55/65\n",
            "312/312 [==============================] - 24s 78ms/step - loss: 0.2430 - accuracy: 0.9189 - val_loss: 0.4647 - val_accuracy: 0.8706\n",
            "\n",
            "Epoch 00055: val_loss did not improve from 0.44846\n",
            "Epoch 56/65\n",
            "312/312 [==============================] - 25s 79ms/step - loss: 0.2471 - accuracy: 0.9178 - val_loss: 0.5288 - val_accuracy: 0.8555\n",
            "\n",
            "Epoch 00056: val_loss did not improve from 0.44846\n",
            "Epoch 57/65\n",
            "312/312 [==============================] - 24s 78ms/step - loss: 0.2395 - accuracy: 0.9198 - val_loss: 0.4862 - val_accuracy: 0.8659\n",
            "\n",
            "Epoch 00057: val_loss did not improve from 0.44846\n",
            "Epoch 58/65\n",
            "312/312 [==============================] - 25s 79ms/step - loss: 0.2386 - accuracy: 0.9219 - val_loss: 0.4463 - val_accuracy: 0.8738\n",
            "\n",
            "Epoch 00058: val_loss improved from 0.44846 to 0.44634, saving model to CIFAR_10_VGG_16.h5\n",
            "Epoch 59/65\n",
            "312/312 [==============================] - 25s 79ms/step - loss: 0.2426 - accuracy: 0.9199 - val_loss: 0.4783 - val_accuracy: 0.8737\n",
            "\n",
            "Epoch 00059: val_loss did not improve from 0.44634\n",
            "Epoch 60/65\n",
            "312/312 [==============================] - 24s 78ms/step - loss: 0.2251 - accuracy: 0.9253 - val_loss: 0.5179 - val_accuracy: 0.8675\n",
            "\n",
            "Epoch 00060: val_loss did not improve from 0.44634\n",
            "Epoch 61/65\n",
            "312/312 [==============================] - 24s 78ms/step - loss: 0.2297 - accuracy: 0.9242 - val_loss: 0.4966 - val_accuracy: 0.8647\n",
            "\n",
            "Epoch 00061: val_loss did not improve from 0.44634\n",
            "Epoch 62/65\n",
            "312/312 [==============================] - 24s 78ms/step - loss: 0.2363 - accuracy: 0.9203 - val_loss: 0.5108 - val_accuracy: 0.8568\n",
            "\n",
            "Epoch 00062: val_loss did not improve from 0.44634\n",
            "Epoch 63/65\n",
            "312/312 [==============================] - 25s 79ms/step - loss: 0.2300 - accuracy: 0.9228 - val_loss: 0.4683 - val_accuracy: 0.8776\n",
            "\n",
            "Epoch 00063: val_loss did not improve from 0.44634\n",
            "Epoch 64/65\n",
            "312/312 [==============================] - 24s 78ms/step - loss: 0.2177 - accuracy: 0.9288 - val_loss: 0.4160 - val_accuracy: 0.8849\n",
            "\n",
            "Epoch 00064: val_loss improved from 0.44634 to 0.41604, saving model to CIFAR_10_VGG_16.h5\n",
            "Epoch 65/65\n",
            "312/312 [==============================] - 25s 79ms/step - loss: 0.2097 - accuracy: 0.9298 - val_loss: 0.4807 - val_accuracy: 0.8737\n",
            "\n",
            "Epoch 00065: val_loss did not improve from 0.41604\n"
          ],
          "name": "stdout"
        }
      ]
    },
    {
      "cell_type": "markdown",
      "metadata": {
        "id": "nZqOvLGin-Yy"
      },
      "source": [
        "## Test the model"
      ]
    },
    {
      "cell_type": "code",
      "metadata": {
        "id": "DoP0IbDfk8-c"
      },
      "source": [
        "# Loading model with the lowest validation loss\r\n",
        "model = keras.models.load_model(\"CIFAR_10_VGG_16.h5\")"
      ],
      "execution_count": null,
      "outputs": []
    },
    {
      "cell_type": "code",
      "metadata": {
        "id": "RyVsIDsqgddl",
        "colab": {
          "base_uri": "https://localhost:8080/"
        },
        "outputId": "cc1d72fb-69ba-438b-8ddb-c9ff159c53f5"
      },
      "source": [
        "test_loss, test_acc = model.evaluate(x_test,y_test)\r\n",
        "print('Test Set')\r\n",
        "print('Loss:', test_loss)\r\n",
        "print('Accuracy', test_acc)"
      ],
      "execution_count": null,
      "outputs": [
        {
          "output_type": "stream",
          "text": [
            "313/313 [==============================] - 10s 8ms/step - loss: 0.4476 - accuracy: 0.8779\n",
            "Test Set\n",
            "Loss: 0.4476107954978943\n",
            "Accuracy 0.8779000043869019\n"
          ],
          "name": "stdout"
        }
      ]
    },
    {
      "cell_type": "markdown",
      "metadata": {
        "id": "E37jijbtopwD"
      },
      "source": [
        "## Prediction"
      ]
    },
    {
      "cell_type": "markdown",
      "metadata": {
        "id": "QJB0D3ZQwDcB"
      },
      "source": [
        "Below is the information on Fashion MNIST Class Labels."
      ]
    },
    {
      "cell_type": "code",
      "metadata": {
        "id": "LLEUlftMwgnA",
        "colab": {
          "base_uri": "https://localhost:8080/"
        },
        "outputId": "990b874f-d82d-4d01-ff1f-66e8c4967ce1"
      },
      "source": [
        "class_labels = dict([(0, 'Airplane'), (1, 'Automobile'), (2, 'Bird'),  (3, 'Cat'), (4, 'Deer'), (5, 'Dog'), (6, 'Frog'), (7, 'Horse'), (8, 'Ship'), (9, 'Truck')])\r\n",
        "print('Label', \"\\t\", 'Class\\n')\r\n",
        "for x in class_labels:\r\n",
        "  print(x, \"\\t\", class_labels[x])"
      ],
      "execution_count": null,
      "outputs": [
        {
          "output_type": "stream",
          "text": [
            "Label \t Class\n",
            "\n",
            "0 \t Airplane\n",
            "1 \t Automobile\n",
            "2 \t Bird\n",
            "3 \t Cat\n",
            "4 \t Deer\n",
            "5 \t Dog\n",
            "6 \t Frog\n",
            "7 \t Horse\n",
            "8 \t Ship\n",
            "9 \t Truck\n"
          ],
          "name": "stdout"
        }
      ]
    },
    {
      "cell_type": "code",
      "metadata": {
        "id": "OPQ1l2yfmfrq",
        "colab": {
          "base_uri": "https://localhost:8080/",
          "height": 283
        },
        "outputId": "cf57d0ed-d05e-431d-c7e3-9f2c3f0dfaa7"
      },
      "source": [
        "# Set the index of the image in test set for which the output must be predicted\r\n",
        "# Valid ind values range is: 0, 1, 2, ... 9999\r\n",
        "ind = 0\r\n",
        "plt.imshow((x_test[ind]*std + mean).astype(np.uint8))"
      ],
      "execution_count": null,
      "outputs": [
        {
          "output_type": "execute_result",
          "data": {
            "text/plain": [
              "<matplotlib.image.AxesImage at 0x7f3ab37ed710>"
            ]
          },
          "metadata": {
            "tags": []
          },
          "execution_count": 20
        },
        {
          "output_type": "display_data",
          "data": {
            "image/png": "[encoded data removed]",
            "text/plain": [
              "<Figure size 432x288 with 1 Axes>"
            ]
          },
          "metadata": {
            "tags": [],
            "needs_background": "light"
          }
        }
      ]
    },
    {
      "cell_type": "code",
      "metadata": {
        "id": "gCUzYwyVqH8i",
        "colab": {
          "base_uri": "https://localhost:8080/"
        },
        "outputId": "2c7b0abf-5ec9-4afe-b970-43017235ec4a"
      },
      "source": [
        "pred = model.predict(x_test[ind].reshape(1,32,32,3))\r\n",
        "print('The pridicted probability different classes is')\r\n",
        "print(pred)\r\n",
        "print('The predicted class is', pred.argmax(), class_labels[pred.argmax()])\r\n",
        "print('The actual class is', y_test[ind].argmax(), class_labels[y_test[ind].argmax()])"
      ],
      "execution_count": null,
      "outputs": [
        {
          "output_type": "stream",
          "text": [
            "The pridicted probability different classes is\n",
            "[[9.0825370e-06 2.4723107e-07 8.7871478e-05 9.9324483e-01 4.9107271e-05\n",
            "  6.3179769e-03 1.7028517e-04 6.1083527e-05 2.6158394e-05 3.3369310e-05]]\n",
            "The predicted class is 3 Cat\n",
            "The actual class is 3 Cat\n"
          ],
          "name": "stdout"
        }
      ]
    },
    {
      "cell_type": "markdown",
      "metadata": {
        "id": "UdIUM--x4kyV"
      },
      "source": [
        "## Loss and Accuracy Curves"
      ]
    },
    {
      "cell_type": "code",
      "metadata": {
        "id": "fcpdbXHq4vT7",
        "colab": {
          "base_uri": "https://localhost:8080/"
        },
        "outputId": "c9701c2c-ebf8-4dff-daa1-e90475b8a264"
      },
      "source": [
        "print(history.history.keys())"
      ],
      "execution_count": null,
      "outputs": [
        {
          "output_type": "stream",
          "text": [
            "dict_keys(['loss', 'accuracy', 'val_loss', 'val_accuracy'])\n"
          ],
          "name": "stdout"
        }
      ]
    },
    {
      "cell_type": "code",
      "metadata": {
        "id": "zlNfQHvh4ois"
      },
      "source": [
        "train_loss = history.history['loss']\r\n",
        "train_acc = history.history['accuracy']\r\n",
        "val_loss = history.history['val_loss']\r\n",
        "val_acc = history.history['val_accuracy']\r\n",
        "x_axis = range(1, len(train_loss)+1)"
      ],
      "execution_count": null,
      "outputs": []
    },
    {
      "cell_type": "code",
      "metadata": {
        "id": "CPvOEkMD6wxg",
        "colab": {
          "base_uri": "https://localhost:8080/",
          "height": 312
        },
        "outputId": "45f52621-c4aa-463a-9d00-750c066642d4"
      },
      "source": [
        "plt.plot(x_axis, train_loss, label='train')\r\n",
        "plt.plot(x_axis, val_loss, label='val')\r\n",
        "plt.legend()\r\n",
        "plt.xlabel('Epoch Number')\r\n",
        "plt.ylabel('Loss')\r\n",
        "plt.title('Loss Curve')"
      ],
      "execution_count": null,
      "outputs": [
        {
          "output_type": "execute_result",
          "data": {
            "text/plain": [
              "Text(0.5, 1.0, 'Loss Curve')"
            ]
          },
          "metadata": {
            "tags": []
          },
          "execution_count": 27
        },
        {
          "output_type": "display_data",
          "data": {
            "image/png": "[encoded data removed]",
            "text/plain": [
              "<Figure size 432x288 with 1 Axes>"
            ]
          },
          "metadata": {
            "tags": [],
            "needs_background": "light"
          }
        }
      ]
    },
    {
      "cell_type": "code",
      "metadata": {
        "id": "RO2EyeTF9ROP",
        "colab": {
          "base_uri": "https://localhost:8080/",
          "height": 312
        },
        "outputId": "aa7b1b71-5d3f-43e8-ecca-d37be1388fe8"
      },
      "source": [
        "plt.plot(x_axis, train_acc, label='train')\r\n",
        "plt.plot(x_axis, val_acc, label='val')\r\n",
        "plt.legend()\r\n",
        "plt.xlabel('Epoch Number')\r\n",
        "plt.ylabel('Accuracy')\r\n",
        "plt.title('Accuracy Curve')"
      ],
      "execution_count": null,
      "outputs": [
        {
          "output_type": "execute_result",
          "data": {
            "text/plain": [
              "Text(0.5, 1.0, 'Accuracy Curve')"
            ]
          },
          "metadata": {
            "tags": []
          },
          "execution_count": 28
        },
        {
          "output_type": "display_data",
          "data": {
            "image/png": "[encoded data removed]",
            "text/plain": [
              "<Figure size 432x288 with 1 Axes>"
            ]
          },
          "metadata": {
            "tags": [],
            "needs_background": "light"
          }
        }
      ]
    },
    {
      "cell_type": "markdown",
      "metadata": {
        "id": "Mf4eVE2x_32N"
      },
      "source": [
        "## Additional Evaluation Metrics\r\n",
        "### (Precision, Recall, Confusion Matrix)"
      ]
    },
    {
      "cell_type": "code",
      "metadata": {
        "id": "qeypUFb2ANlF",
        "colab": {
          "base_uri": "https://localhost:8080/"
        },
        "outputId": "33de7fa6-ec82-4e22-ede2-5d84623536a0"
      },
      "source": [
        "from sklearn.metrics import classification_report, confusion_matrix\r\n",
        "\r\n",
        "y_prob = model.predict(x_test)\r\n",
        "y_pred = np.argmax(y_prob, axis=1)\r\n",
        "target_names = ['Class 0', 'Class 1', 'Class 2', 'Class 3', 'Class 4', 'Class 5', 'Class 6', 'Class 7', 'Class 8', 'Class 9']\r\n",
        "print(classification_report(np.argmax(y_test, axis=1), y_pred, target_names=target_names))"
      ],
      "execution_count": null,
      "outputs": [
        {
          "output_type": "stream",
          "text": [
            "              precision    recall  f1-score   support\n",
            "\n",
            "     Class 0       0.88      0.91      0.89      1000\n",
            "     Class 1       0.94      0.95      0.94      1000\n",
            "     Class 2       0.85      0.84      0.85      1000\n",
            "     Class 3       0.80      0.70      0.74      1000\n",
            "     Class 4       0.88      0.88      0.88      1000\n",
            "     Class 5       0.82      0.82      0.82      1000\n",
            "     Class 6       0.89      0.91      0.90      1000\n",
            "     Class 7       0.87      0.93      0.90      1000\n",
            "     Class 8       0.94      0.90      0.92      1000\n",
            "     Class 9       0.90      0.94      0.92      1000\n",
            "\n",
            "    accuracy                           0.88     10000\n",
            "   macro avg       0.88      0.88      0.88     10000\n",
            "weighted avg       0.88      0.88      0.88     10000\n",
            "\n"
          ],
          "name": "stdout"
        }
      ]
    },
    {
      "cell_type": "code",
      "metadata": {
        "id": "4si0QtGBaxGe",
        "colab": {
          "base_uri": "https://localhost:8080/"
        },
        "outputId": "2dc92f28-34fb-4025-8618-5a02583fd6fa"
      },
      "source": [
        "cnf_matrix = confusion_matrix(y_true=np.argmax(y_test, axis=1), y_pred=y_pred)\r\n",
        "print(cnf_matrix)"
      ],
      "execution_count": null,
      "outputs": [
        {
          "output_type": "stream",
          "text": [
            "[[910   9  23   7   1   0   3  10  23  14]\n",
            " [  5 948   2   0   0   0   3   0   4  38]\n",
            " [ 23   1 843  23  26  16  32  23   5   8]\n",
            " [ 10   2  48 697  30 117  38  36   9  13]\n",
            " [  8   0  23  28 875  16  20  27   2   1]\n",
            " [  2   2  30  76  19 825   9  31   0   6]\n",
            " [  7   1  15  29  20   6 911   7   2   2]\n",
            " [  8   2   7   7  19  22   2 928   2   3]\n",
            " [ 46  15   2   7   2   1   2   2 903  20]\n",
            " [ 15  30   2   1   1   0   2   1   9 939]]\n"
          ],
          "name": "stdout"
        }
      ]
    }
  ]
}