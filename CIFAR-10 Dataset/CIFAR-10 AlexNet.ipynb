{
  "nbformat": 4,
  "nbformat_minor": 0,
  "metadata": {
    "accelerator": "GPU",
    "colab": {
      "name": "CIFAR-10 AlexNet.ipynb",
      "provenance": [],
      "collapsed_sections": []
    },
    "kernelspec": {
      "display_name": "Python 3",
      "name": "python3"
    }
  },
  "cells": [
    {
      "cell_type": "markdown",
      "metadata": {
        "id": "bozW6qoXDRGg"
      },
      "source": [
        "## Notes/Observations\r\n",
        "\r\n",
        "### Accuracy\r\n",
        "- Test Accuracy of 87.35% was obtained\r\n",
        "- No of parameters is 1M\r\n",
        "\r\n",
        "### Architecture\r\n",
        "- This is not the complete AlexNet Architecture.\r\n",
        "- It is a smaller version of adapted to the CIFAR-10 dataset.\r\n",
        "- The similarity to AlexNet is in the fact that there are 5 Convolutional layers, 3 Dense layers with the use of Dropout.\r\n",
        "- The number of filters used in the conv layers are also similar to that of the complete AlexNet.\r\n",
        "- There are 1M parameters in comparision to AlexNet's 62M parameters.\r\n",
        "- The complete AlexNet architecture may perform better.\r\n",
        "\r\n",
        "### Training\r\n",
        "- Some simple augmentation was performed with the Keras ImageDataGenerator() function given by-\r\n",
        "<br>datagen = ImageDataGenerator(\r\n",
        "    <br>rotation_range=20,\r\n",
        "    <br>width_shift_range=0.2,\r\n",
        "    <br>height_shift_range=0.2,\r\n",
        "    <br>horizontal_flip=True)"
      ]
    },
    {
      "cell_type": "markdown",
      "metadata": {
        "id": "YpbiX6lzuw3F"
      },
      "source": [
        "## Import the required libraries"
      ]
    },
    {
      "cell_type": "code",
      "metadata": {
        "id": "gOD3uGuRrUH8"
      },
      "source": [
        "import numpy as np\r\n",
        "import keras\r\n",
        "import matplotlib.pyplot as plt"
      ],
      "execution_count": null,
      "outputs": []
    },
    {
      "cell_type": "code",
      "metadata": {
        "colab": {
          "base_uri": "https://localhost:8080/"
        },
        "id": "RqURAIV8tw2p",
        "outputId": "c0f6287f-eb8c-4140-efa4-29688482be89"
      },
      "source": [
        "print(keras.__version__)"
      ],
      "execution_count": null,
      "outputs": [
        {
          "output_type": "stream",
          "text": [
            "2.4.3\n"
          ],
          "name": "stdout"
        }
      ]
    },
    {
      "cell_type": "markdown",
      "metadata": {
        "id": "x1_8BbJzu9Mg"
      },
      "source": [
        "## Load and explore the data"
      ]
    },
    {
      "cell_type": "code",
      "metadata": {
        "id": "deLGInCnvBQ9",
        "colab": {
          "base_uri": "https://localhost:8080/"
        },
        "outputId": "b7e28ef3-867e-4f22-a8b6-2562313c3f98"
      },
      "source": [
        "(x_train, y_train),(x_test, y_test)= keras.datasets.cifar10.load_data()"
      ],
      "execution_count": null,
      "outputs": [
        {
          "output_type": "stream",
          "text": [
            "Downloading data from https://www.cs.toronto.edu/~kriz/cifar-10-python.tar.gz\n",
            "170500096/170498071 [==============================] - 6s 0us/step\n"
          ],
          "name": "stdout"
        }
      ]
    },
    {
      "cell_type": "code",
      "metadata": {
        "colab": {
          "base_uri": "https://localhost:8080/"
        },
        "id": "3plX9EuMvV4Y",
        "outputId": "9ffc9138-1c31-4762-fddd-67b1c3b17011"
      },
      "source": [
        "print('Dimensions and datatype of')\r\n",
        "print('x_train:', x_train.shape, '\\tdtype:', x_train.dtype)\r\n",
        "print('y_train:', y_train.shape, '\\t\\tdtype:', y_train.dtype)\r\n",
        "print('x_test:', x_test.shape, '\\tdtype:', x_test.dtype)\r\n",
        "print('y_test:', y_test.shape, '\\t\\tdtype:', y_test.dtype)"
      ],
      "execution_count": null,
      "outputs": [
        {
          "output_type": "stream",
          "text": [
            "Dimensions and datatype of\n",
            "x_train: (50000, 32, 32, 3) \tdtype: uint8\n",
            "y_train: (50000, 1) \t\tdtype: uint8\n",
            "x_test: (10000, 32, 32, 3) \tdtype: uint8\n",
            "y_test: (10000, 1) \t\tdtype: uint8\n"
          ],
          "name": "stdout"
        }
      ]
    },
    {
      "cell_type": "markdown",
      "metadata": {
        "id": "qteGyD-nNyO3"
      },
      "source": [
        "## Normalize the data"
      ]
    },
    {
      "cell_type": "code",
      "metadata": {
        "colab": {
          "base_uri": "https://localhost:8080/"
        },
        "id": "fSythSWbzj2q",
        "outputId": "adb961ab-048d-426c-be76-0a0e28c773d5"
      },
      "source": [
        "mean = np.mean(x_train)\r\n",
        "print(mean)"
      ],
      "execution_count": null,
      "outputs": [
        {
          "output_type": "stream",
          "text": [
            "120.70756512369792\n"
          ],
          "name": "stdout"
        }
      ]
    },
    {
      "cell_type": "code",
      "metadata": {
        "colab": {
          "base_uri": "https://localhost:8080/"
        },
        "id": "pcSQABpw1TJo",
        "outputId": "0ec87b4d-7c4f-4331-ea2e-c6f3007b39e4"
      },
      "source": [
        "std = np.std(x_train)\r\n",
        "print(std)"
      ],
      "execution_count": null,
      "outputs": [
        {
          "output_type": "stream",
          "text": [
            "64.1500758911213\n"
          ],
          "name": "stdout"
        }
      ]
    },
    {
      "cell_type": "code",
      "metadata": {
        "id": "Mr6Bo7o31YmW"
      },
      "source": [
        "x_train = x_train.astype(np.float32)\r\n",
        "x_test = x_test.astype(np.float32)"
      ],
      "execution_count": null,
      "outputs": []
    },
    {
      "cell_type": "code",
      "metadata": {
        "id": "6L-UW8h0NyPA"
      },
      "source": [
        "x_train = (x_train - mean) / std\r\n",
        "x_test = (x_test - mean) / std"
      ],
      "execution_count": null,
      "outputs": []
    },
    {
      "cell_type": "markdown",
      "metadata": {
        "id": "f1_M59A22oms"
      },
      "source": [
        "## Reshape input, add one hot encode labels and split between train and val"
      ]
    },
    {
      "cell_type": "code",
      "metadata": {
        "id": "chK2rCJG3TEe"
      },
      "source": [
        "from keras.utils import to_categorical\r\n",
        "y_train =  to_categorical(y_train)\r\n",
        "y_test  =  to_categorical(y_test)"
      ],
      "execution_count": null,
      "outputs": []
    },
    {
      "cell_type": "code",
      "metadata": {
        "id": "Qq5KNUP4arKW"
      },
      "source": [
        "def simultaneous_shuffle(images, labels):\r\n",
        "    np.random.seed(0)\r\n",
        "    shuffle_ind = np.arange(images.shape[0])\r\n",
        "    np.random.shuffle(shuffle_ind)\r\n",
        "    images = images[shuffle_ind]\r\n",
        "    labels = labels[shuffle_ind]\r\n",
        "    return images, labels"
      ],
      "execution_count": null,
      "outputs": []
    },
    {
      "cell_type": "code",
      "metadata": {
        "id": "6NA0ryGpbSIe"
      },
      "source": [
        "train_percent = 0.8\r\n",
        "n_train = int(x_train.shape[0]*train_percent)\r\n",
        "x_train, y_train = simultaneous_shuffle(x_train, y_train)\r\n",
        "x_val, y_val = x_train[n_train:], y_train[n_train:]\r\n",
        "x_train, y_train = x_train[:n_train], y_train[:n_train]"
      ],
      "execution_count": null,
      "outputs": []
    },
    {
      "cell_type": "code",
      "metadata": {
        "colab": {
          "base_uri": "https://localhost:8080/"
        },
        "id": "QgON4VMY3281",
        "outputId": "fcccfb85-e3b3-41e4-c1c5-7a91d63802f0"
      },
      "source": [
        "print('Dimensions and datatype of')\r\n",
        "print('x_train:', x_train.shape, '\\tdtype:', x_train.dtype)\r\n",
        "print('y_train:', y_train.shape, '\\t\\tdtype:', y_train.dtype)\r\n",
        "print('x_val:', x_val.shape, '\\tdtype:', x_val.dtype)\r\n",
        "print('y_val:', y_val.shape, '\\t\\tdtype:', y_val.dtype)\r\n",
        "print('x_test:', x_test.shape, '\\tdtype:', x_test.dtype)\r\n",
        "print('y_test:', y_test.shape, '\\t\\tdtype:', y_test.dtype)"
      ],
      "execution_count": null,
      "outputs": [
        {
          "output_type": "stream",
          "text": [
            "Dimensions and datatype of\n",
            "x_train: (40000, 32, 32, 3) \tdtype: float32\n",
            "y_train: (40000, 10) \t\tdtype: float32\n",
            "x_val: (10000, 32, 32, 3) \tdtype: float32\n",
            "y_val: (10000, 10) \t\tdtype: float32\n",
            "x_test: (10000, 32, 32, 3) \tdtype: float32\n",
            "y_test: (10000, 10) \t\tdtype: float32\n"
          ],
          "name": "stdout"
        }
      ]
    },
    {
      "cell_type": "markdown",
      "metadata": {
        "id": "AR9SsmdT4AE0"
      },
      "source": [
        "## Build the model"
      ]
    },
    {
      "cell_type": "code",
      "metadata": {
        "id": "qdU22DGS4SJD"
      },
      "source": [
        "from keras.models import Sequential\r\n",
        "from keras.layers import Conv2D, Dense, MaxPooling2D, Flatten, Dropout"
      ],
      "execution_count": null,
      "outputs": []
    },
    {
      "cell_type": "code",
      "metadata": {
        "id": "pAHj1RJX-HTG"
      },
      "source": [
        "model = Sequential()\r\n",
        "\r\n",
        "model.add(Conv2D(48, (3,3), strides=(1,1), activation='relu', padding=\"same\", input_shape=(32,32,3)))\r\n",
        "model.add(Conv2D(128, (3,3), strides=(1,1), activation='relu', padding=\"same\"))\r\n",
        "model.add(MaxPooling2D(pool_size=(2,2), strides=(2,2)))\r\n",
        "\r\n",
        "model.add(Conv2D(192, (3,3), strides=(1,1), activation='relu', padding=\"same\"))\r\n",
        "model.add(MaxPooling2D(pool_size=(2,2), strides=(2,2)))\r\n",
        "\r\n",
        "model.add(Conv2D(192, (3,3), strides=(1,1), activation='relu', padding=\"same\"))\r\n",
        "model.add(MaxPooling2D(pool_size=(2,2), strides=(2,2)))\r\n",
        "\r\n",
        "model.add(Conv2D(128, (3,3), strides=(1,1), activation='relu', padding=\"same\"))\r\n",
        "model.add(MaxPooling2D(pool_size=(2,2), strides=(2,2)))\r\n",
        "\r\n",
        "model.add(Flatten())\r\n",
        "\r\n",
        "model.add(Dense(256, activation='relu'))\r\n",
        "model.add(Dropout(0.5))\r\n",
        "model.add(Dense(128, activation='relu'))\r\n",
        "model.add(Dense(64, activation='relu'))\r\n",
        "\r\n",
        "model.add(Dense(10, activation='softmax'))"
      ],
      "execution_count": null,
      "outputs": []
    },
    {
      "cell_type": "code",
      "metadata": {
        "colab": {
          "base_uri": "https://localhost:8080/"
        },
        "id": "1SrNfJADBeF2",
        "outputId": "355f5a76-3df2-43d8-b54a-b24c8b16089f"
      },
      "source": [
        "model.summary()"
      ],
      "execution_count": null,
      "outputs": [
        {
          "output_type": "stream",
          "text": [
            "Model: \"sequential\"\n",
            "_________________________________________________________________\n",
            "Layer (type)                 Output Shape              Param #   \n",
            "=================================================================\n",
            "conv2d (Conv2D)              (None, 32, 32, 48)        1344      \n",
            "_________________________________________________________________\n",
            "conv2d_1 (Conv2D)            (None, 32, 32, 128)       55424     \n",
            "_________________________________________________________________\n",
            "max_pooling2d (MaxPooling2D) (None, 16, 16, 128)       0         \n",
            "_________________________________________________________________\n",
            "conv2d_2 (Conv2D)            (None, 16, 16, 192)       221376    \n",
            "_________________________________________________________________\n",
            "max_pooling2d_1 (MaxPooling2 (None, 8, 8, 192)         0         \n",
            "_________________________________________________________________\n",
            "conv2d_3 (Conv2D)            (None, 8, 8, 192)         331968    \n",
            "_________________________________________________________________\n",
            "max_pooling2d_2 (MaxPooling2 (None, 4, 4, 192)         0         \n",
            "_________________________________________________________________\n",
            "conv2d_4 (Conv2D)            (None, 4, 4, 128)         221312    \n",
            "_________________________________________________________________\n",
            "max_pooling2d_3 (MaxPooling2 (None, 2, 2, 128)         0         \n",
            "_________________________________________________________________\n",
            "flatten (Flatten)            (None, 512)               0         \n",
            "_________________________________________________________________\n",
            "dense (Dense)                (None, 256)               131328    \n",
            "_________________________________________________________________\n",
            "dropout (Dropout)            (None, 256)               0         \n",
            "_________________________________________________________________\n",
            "dense_1 (Dense)              (None, 128)               32896     \n",
            "_________________________________________________________________\n",
            "dense_2 (Dense)              (None, 64)                8256      \n",
            "_________________________________________________________________\n",
            "dense_3 (Dense)              (None, 10)                650       \n",
            "=================================================================\n",
            "Total params: 1,004,554\n",
            "Trainable params: 1,004,554\n",
            "Non-trainable params: 0\n",
            "_________________________________________________________________\n"
          ],
          "name": "stdout"
        }
      ]
    },
    {
      "cell_type": "markdown",
      "metadata": {
        "id": "J7KuHdcrdDcu"
      },
      "source": [
        "## Compile and Train the model"
      ]
    },
    {
      "cell_type": "code",
      "metadata": {
        "id": "kzUp3uj3g8CG",
        "colab": {
          "base_uri": "https://localhost:8080/"
        },
        "outputId": "7b3e12d0-8906-4e63-b09b-b68df17d3a40"
      },
      "source": [
        "from google.colab import drive\r\n",
        "drive.mount('/content/drive')\r\n",
        "\r\n",
        "import os\r\n",
        "os.chdir('/content/drive/MyDrive/Colab Notebooks/Saved Models')\r\n",
        "\r\n",
        "from keras.callbacks import ModelCheckpoint\r\n",
        "mc = ModelCheckpoint('CIFAR_10_AlexNet.h5', monitor='val_loss', mode='min', verbose=1, save_best_only=True)"
      ],
      "execution_count": null,
      "outputs": [
        {
          "output_type": "stream",
          "text": [
            "Mounted at /content/drive\n"
          ],
          "name": "stdout"
        }
      ]
    },
    {
      "cell_type": "code",
      "metadata": {
        "id": "5ZQWKs59Mglo"
      },
      "source": [
        "from keras.preprocessing.image import ImageDataGenerator\r\n",
        "datagen = ImageDataGenerator(\r\n",
        "    rotation_range=20,\r\n",
        "    width_shift_range=0.2,\r\n",
        "    height_shift_range=0.2,\r\n",
        "    horizontal_flip=True)\r\n",
        "datagen.fit(x_train)"
      ],
      "execution_count": null,
      "outputs": []
    },
    {
      "cell_type": "code",
      "metadata": {
        "id": "VYJozlDFjOO4"
      },
      "source": [
        "from keras.optimizers import Adam\r\n",
        "adam = Adam(learning_rate=0.0005)"
      ],
      "execution_count": null,
      "outputs": []
    },
    {
      "cell_type": "code",
      "metadata": {
        "id": "aMSwaBjbdGVk",
        "colab": {
          "base_uri": "https://localhost:8080/"
        },
        "outputId": "b827365f-9301-412d-9e0b-5840e2b77322"
      },
      "source": [
        "model.compile(loss=\"categorical_crossentropy\", optimizer=adam, metrics=['accuracy'])\r\n",
        "history = model.fit(datagen.flow(x_train, y_train, batch_size=128), validation_data=(x_val, y_val), epochs=75, steps_per_epoch=len(x_train) // 128, callbacks=mc)"
      ],
      "execution_count": null,
      "outputs": [
        {
          "output_type": "stream",
          "text": [
            "Epoch 1/75\n",
            "312/312 [==============================] - 27s 66ms/step - loss: 2.0384 - accuracy: 0.2210 - val_loss: 1.4692 - val_accuracy: 0.4618\n",
            "\n",
            "Epoch 00001: val_loss improved from inf to 1.46923, saving model to CIFAR_10_AlexNet.h5\n",
            "Epoch 2/75\n",
            "312/312 [==============================] - 18s 59ms/step - loss: 1.5344 - accuracy: 0.4341 - val_loss: 1.2351 - val_accuracy: 0.5595\n",
            "\n",
            "Epoch 00002: val_loss improved from 1.46923 to 1.23508, saving model to CIFAR_10_AlexNet.h5\n",
            "Epoch 3/75\n",
            "312/312 [==============================] - 18s 59ms/step - loss: 1.2834 - accuracy: 0.5374 - val_loss: 1.1803 - val_accuracy: 0.5902\n",
            "\n",
            "Epoch 00003: val_loss improved from 1.23508 to 1.18026, saving model to CIFAR_10_AlexNet.h5\n",
            "Epoch 4/75\n",
            "312/312 [==============================] - 19s 60ms/step - loss: 1.1313 - accuracy: 0.5959 - val_loss: 0.9540 - val_accuracy: 0.6687\n",
            "\n",
            "Epoch 00004: val_loss improved from 1.18026 to 0.95401, saving model to CIFAR_10_AlexNet.h5\n",
            "Epoch 5/75\n",
            "312/312 [==============================] - 18s 59ms/step - loss: 1.0062 - accuracy: 0.6428 - val_loss: 0.9069 - val_accuracy: 0.6923\n",
            "\n",
            "Epoch 00005: val_loss improved from 0.95401 to 0.90693, saving model to CIFAR_10_AlexNet.h5\n",
            "Epoch 6/75\n",
            "312/312 [==============================] - 18s 59ms/step - loss: 0.9277 - accuracy: 0.6732 - val_loss: 0.8795 - val_accuracy: 0.7024\n",
            "\n",
            "Epoch 00006: val_loss improved from 0.90693 to 0.87951, saving model to CIFAR_10_AlexNet.h5\n",
            "Epoch 7/75\n",
            "312/312 [==============================] - 18s 59ms/step - loss: 0.8547 - accuracy: 0.6975 - val_loss: 0.8826 - val_accuracy: 0.7053\n",
            "\n",
            "Epoch 00007: val_loss did not improve from 0.87951\n",
            "Epoch 8/75\n",
            "312/312 [==============================] - 18s 59ms/step - loss: 0.7944 - accuracy: 0.7238 - val_loss: 0.7512 - val_accuracy: 0.7396\n",
            "\n",
            "Epoch 00008: val_loss improved from 0.87951 to 0.75119, saving model to CIFAR_10_AlexNet.h5\n",
            "Epoch 9/75\n",
            "312/312 [==============================] - 18s 59ms/step - loss: 0.7516 - accuracy: 0.7403 - val_loss: 0.6976 - val_accuracy: 0.7642\n",
            "\n",
            "Epoch 00009: val_loss improved from 0.75119 to 0.69758, saving model to CIFAR_10_AlexNet.h5\n",
            "Epoch 10/75\n",
            "312/312 [==============================] - 18s 58ms/step - loss: 0.7140 - accuracy: 0.7513 - val_loss: 0.7576 - val_accuracy: 0.7555\n",
            "\n",
            "Epoch 00010: val_loss did not improve from 0.69758\n",
            "Epoch 11/75\n",
            "312/312 [==============================] - 19s 59ms/step - loss: 0.6840 - accuracy: 0.7635 - val_loss: 0.6430 - val_accuracy: 0.7865\n",
            "\n",
            "Epoch 00011: val_loss improved from 0.69758 to 0.64298, saving model to CIFAR_10_AlexNet.h5\n",
            "Epoch 12/75\n",
            "312/312 [==============================] - 19s 60ms/step - loss: 0.6625 - accuracy: 0.7695 - val_loss: 0.6494 - val_accuracy: 0.7889\n",
            "\n",
            "Epoch 00012: val_loss did not improve from 0.64298\n",
            "Epoch 13/75\n",
            "312/312 [==============================] - 18s 59ms/step - loss: 0.6293 - accuracy: 0.7828 - val_loss: 0.7405 - val_accuracy: 0.7698\n",
            "\n",
            "Epoch 00013: val_loss did not improve from 0.64298\n",
            "Epoch 14/75\n",
            "312/312 [==============================] - 18s 59ms/step - loss: 0.6125 - accuracy: 0.7898 - val_loss: 0.5892 - val_accuracy: 0.8060\n",
            "\n",
            "Epoch 00014: val_loss improved from 0.64298 to 0.58921, saving model to CIFAR_10_AlexNet.h5\n",
            "Epoch 15/75\n",
            "312/312 [==============================] - 18s 58ms/step - loss: 0.5906 - accuracy: 0.7961 - val_loss: 0.6469 - val_accuracy: 0.7823\n",
            "\n",
            "Epoch 00015: val_loss did not improve from 0.58921\n",
            "Epoch 16/75\n",
            "312/312 [==============================] - 18s 58ms/step - loss: 0.5739 - accuracy: 0.8030 - val_loss: 0.7336 - val_accuracy: 0.7766\n",
            "\n",
            "Epoch 00016: val_loss did not improve from 0.58921\n",
            "Epoch 17/75\n",
            "312/312 [==============================] - 18s 58ms/step - loss: 0.5555 - accuracy: 0.8091 - val_loss: 0.6378 - val_accuracy: 0.8003\n",
            "\n",
            "Epoch 00017: val_loss did not improve from 0.58921\n",
            "Epoch 18/75\n",
            "312/312 [==============================] - 18s 59ms/step - loss: 0.5363 - accuracy: 0.8161 - val_loss: 0.7341 - val_accuracy: 0.7720\n",
            "\n",
            "Epoch 00018: val_loss did not improve from 0.58921\n",
            "Epoch 19/75\n",
            "312/312 [==============================] - 18s 58ms/step - loss: 0.5335 - accuracy: 0.8155 - val_loss: 0.5815 - val_accuracy: 0.8106\n",
            "\n",
            "Epoch 00019: val_loss improved from 0.58921 to 0.58154, saving model to CIFAR_10_AlexNet.h5\n",
            "Epoch 20/75\n",
            "312/312 [==============================] - 18s 59ms/step - loss: 0.5009 - accuracy: 0.8295 - val_loss: 0.6276 - val_accuracy: 0.8005\n",
            "\n",
            "Epoch 00020: val_loss did not improve from 0.58154\n",
            "Epoch 21/75\n",
            "312/312 [==============================] - 19s 60ms/step - loss: 0.4905 - accuracy: 0.8332 - val_loss: 0.6283 - val_accuracy: 0.8040\n",
            "\n",
            "Epoch 00021: val_loss did not improve from 0.58154\n",
            "Epoch 22/75\n",
            "312/312 [==============================] - 19s 59ms/step - loss: 0.4974 - accuracy: 0.8293 - val_loss: 0.5892 - val_accuracy: 0.8141\n",
            "\n",
            "Epoch 00022: val_loss did not improve from 0.58154\n",
            "Epoch 23/75\n",
            "312/312 [==============================] - 18s 59ms/step - loss: 0.4607 - accuracy: 0.8427 - val_loss: 0.5527 - val_accuracy: 0.8272\n",
            "\n",
            "Epoch 00023: val_loss improved from 0.58154 to 0.55270, saving model to CIFAR_10_AlexNet.h5\n",
            "Epoch 24/75\n",
            "312/312 [==============================] - 19s 60ms/step - loss: 0.4552 - accuracy: 0.8465 - val_loss: 0.6286 - val_accuracy: 0.8117\n",
            "\n",
            "Epoch 00024: val_loss did not improve from 0.55270\n",
            "Epoch 25/75\n",
            "312/312 [==============================] - 18s 59ms/step - loss: 0.4551 - accuracy: 0.8419 - val_loss: 0.5310 - val_accuracy: 0.8271\n",
            "\n",
            "Epoch 00025: val_loss improved from 0.55270 to 0.53105, saving model to CIFAR_10_AlexNet.h5\n",
            "Epoch 26/75\n",
            "312/312 [==============================] - 18s 59ms/step - loss: 0.4376 - accuracy: 0.8507 - val_loss: 0.5455 - val_accuracy: 0.8266\n",
            "\n",
            "Epoch 00026: val_loss did not improve from 0.53105\n",
            "Epoch 27/75\n",
            "312/312 [==============================] - 18s 59ms/step - loss: 0.4249 - accuracy: 0.8539 - val_loss: 0.5341 - val_accuracy: 0.8308\n",
            "\n",
            "Epoch 00027: val_loss did not improve from 0.53105\n",
            "Epoch 28/75\n",
            "312/312 [==============================] - 18s 59ms/step - loss: 0.4204 - accuracy: 0.8562 - val_loss: 0.6045 - val_accuracy: 0.8187\n",
            "\n",
            "Epoch 00028: val_loss did not improve from 0.53105\n",
            "Epoch 29/75\n",
            "312/312 [==============================] - 18s 59ms/step - loss: 0.4247 - accuracy: 0.8541 - val_loss: 0.6065 - val_accuracy: 0.8220\n",
            "\n",
            "Epoch 00029: val_loss did not improve from 0.53105\n",
            "Epoch 30/75\n",
            "312/312 [==============================] - 18s 59ms/step - loss: 0.4180 - accuracy: 0.8570 - val_loss: 0.5543 - val_accuracy: 0.8261\n",
            "\n",
            "Epoch 00030: val_loss did not improve from 0.53105\n",
            "Epoch 31/75\n",
            "312/312 [==============================] - 18s 59ms/step - loss: 0.3991 - accuracy: 0.8641 - val_loss: 0.4909 - val_accuracy: 0.8472\n",
            "\n",
            "Epoch 00031: val_loss improved from 0.53105 to 0.49088, saving model to CIFAR_10_AlexNet.h5\n",
            "Epoch 32/75\n",
            "312/312 [==============================] - 18s 58ms/step - loss: 0.3880 - accuracy: 0.8668 - val_loss: 0.5085 - val_accuracy: 0.8420\n",
            "\n",
            "Epoch 00032: val_loss did not improve from 0.49088\n",
            "Epoch 33/75\n",
            "312/312 [==============================] - 19s 59ms/step - loss: 0.3867 - accuracy: 0.8662 - val_loss: 0.6407 - val_accuracy: 0.8150\n",
            "\n",
            "Epoch 00033: val_loss did not improve from 0.49088\n",
            "Epoch 34/75\n",
            "312/312 [==============================] - 18s 59ms/step - loss: 0.3854 - accuracy: 0.8692 - val_loss: 0.5285 - val_accuracy: 0.8364\n",
            "\n",
            "Epoch 00034: val_loss did not improve from 0.49088\n",
            "Epoch 35/75\n",
            "312/312 [==============================] - 19s 60ms/step - loss: 0.3732 - accuracy: 0.8743 - val_loss: 0.5436 - val_accuracy: 0.8349\n",
            "\n",
            "Epoch 00035: val_loss did not improve from 0.49088\n",
            "Epoch 36/75\n",
            "312/312 [==============================] - 18s 59ms/step - loss: 0.3654 - accuracy: 0.8737 - val_loss: 0.5180 - val_accuracy: 0.8473\n",
            "\n",
            "Epoch 00036: val_loss did not improve from 0.49088\n",
            "Epoch 37/75\n",
            "312/312 [==============================] - 19s 59ms/step - loss: 0.3739 - accuracy: 0.8736 - val_loss: 0.5265 - val_accuracy: 0.8414\n",
            "\n",
            "Epoch 00037: val_loss did not improve from 0.49088\n",
            "Epoch 38/75\n",
            "312/312 [==============================] - 19s 60ms/step - loss: 0.3550 - accuracy: 0.8760 - val_loss: 0.5497 - val_accuracy: 0.8395\n",
            "\n",
            "Epoch 00038: val_loss did not improve from 0.49088\n",
            "Epoch 39/75\n",
            "312/312 [==============================] - 18s 59ms/step - loss: 0.3623 - accuracy: 0.8756 - val_loss: 0.5556 - val_accuracy: 0.8425\n",
            "\n",
            "Epoch 00039: val_loss did not improve from 0.49088\n",
            "Epoch 40/75\n",
            "312/312 [==============================] - 19s 60ms/step - loss: 0.3484 - accuracy: 0.8817 - val_loss: 0.4801 - val_accuracy: 0.8525\n",
            "\n",
            "Epoch 00040: val_loss improved from 0.49088 to 0.48013, saving model to CIFAR_10_AlexNet.h5\n",
            "Epoch 41/75\n",
            "312/312 [==============================] - 18s 58ms/step - loss: 0.3308 - accuracy: 0.8865 - val_loss: 0.4782 - val_accuracy: 0.8511\n",
            "\n",
            "Epoch 00041: val_loss improved from 0.48013 to 0.47817, saving model to CIFAR_10_AlexNet.h5\n",
            "Epoch 42/75\n",
            "312/312 [==============================] - 18s 59ms/step - loss: 0.3270 - accuracy: 0.8877 - val_loss: 0.5248 - val_accuracy: 0.8460\n",
            "\n",
            "Epoch 00042: val_loss did not improve from 0.47817\n",
            "Epoch 43/75\n",
            "312/312 [==============================] - 18s 59ms/step - loss: 0.3295 - accuracy: 0.8880 - val_loss: 0.5662 - val_accuracy: 0.8351\n",
            "\n",
            "Epoch 00043: val_loss did not improve from 0.47817\n",
            "Epoch 44/75\n",
            "312/312 [==============================] - 18s 59ms/step - loss: 0.3359 - accuracy: 0.8849 - val_loss: 0.4573 - val_accuracy: 0.8589\n",
            "\n",
            "Epoch 00044: val_loss improved from 0.47817 to 0.45727, saving model to CIFAR_10_AlexNet.h5\n",
            "Epoch 45/75\n",
            "312/312 [==============================] - 18s 59ms/step - loss: 0.3241 - accuracy: 0.8874 - val_loss: 0.5286 - val_accuracy: 0.8439\n",
            "\n",
            "Epoch 00045: val_loss did not improve from 0.45727\n",
            "Epoch 46/75\n",
            "312/312 [==============================] - 18s 58ms/step - loss: 0.3168 - accuracy: 0.8907 - val_loss: 0.5238 - val_accuracy: 0.8447\n",
            "\n",
            "Epoch 00046: val_loss did not improve from 0.45727\n",
            "Epoch 47/75\n",
            "312/312 [==============================] - 18s 58ms/step - loss: 0.3096 - accuracy: 0.8922 - val_loss: 0.4502 - val_accuracy: 0.8637\n",
            "\n",
            "Epoch 00047: val_loss improved from 0.45727 to 0.45021, saving model to CIFAR_10_AlexNet.h5\n",
            "Epoch 48/75\n",
            "312/312 [==============================] - 19s 60ms/step - loss: 0.3162 - accuracy: 0.8906 - val_loss: 0.5454 - val_accuracy: 0.8394\n",
            "\n",
            "Epoch 00048: val_loss did not improve from 0.45021\n",
            "Epoch 49/75\n",
            "312/312 [==============================] - 19s 59ms/step - loss: 0.3030 - accuracy: 0.8956 - val_loss: 0.4933 - val_accuracy: 0.8606\n",
            "\n",
            "Epoch 00049: val_loss did not improve from 0.45021\n",
            "Epoch 50/75\n",
            "312/312 [==============================] - 18s 59ms/step - loss: 0.3060 - accuracy: 0.8960 - val_loss: 0.4897 - val_accuracy: 0.8610\n",
            "\n",
            "Epoch 00050: val_loss did not improve from 0.45021\n",
            "Epoch 51/75\n",
            "312/312 [==============================] - 18s 59ms/step - loss: 0.2972 - accuracy: 0.8996 - val_loss: 0.4870 - val_accuracy: 0.8537\n",
            "\n",
            "Epoch 00051: val_loss did not improve from 0.45021\n",
            "Epoch 52/75\n",
            "312/312 [==============================] - 18s 59ms/step - loss: 0.3018 - accuracy: 0.8983 - val_loss: 0.4623 - val_accuracy: 0.8662\n",
            "\n",
            "Epoch 00052: val_loss did not improve from 0.45021\n",
            "Epoch 53/75\n",
            "312/312 [==============================] - 19s 60ms/step - loss: 0.2921 - accuracy: 0.8988 - val_loss: 0.4834 - val_accuracy: 0.8605\n",
            "\n",
            "Epoch 00053: val_loss did not improve from 0.45021\n",
            "Epoch 54/75\n",
            "312/312 [==============================] - 19s 60ms/step - loss: 0.2838 - accuracy: 0.9020 - val_loss: 0.5510 - val_accuracy: 0.8435\n",
            "\n",
            "Epoch 00054: val_loss did not improve from 0.45021\n",
            "Epoch 55/75\n",
            "312/312 [==============================] - 18s 59ms/step - loss: 0.2802 - accuracy: 0.9035 - val_loss: 0.4950 - val_accuracy: 0.8552\n",
            "\n",
            "Epoch 00055: val_loss did not improve from 0.45021\n",
            "Epoch 56/75\n",
            "312/312 [==============================] - 18s 59ms/step - loss: 0.2855 - accuracy: 0.9041 - val_loss: 0.4997 - val_accuracy: 0.8527\n",
            "\n",
            "Epoch 00056: val_loss did not improve from 0.45021\n",
            "Epoch 57/75\n",
            "312/312 [==============================] - 19s 60ms/step - loss: 0.2846 - accuracy: 0.9032 - val_loss: 0.4812 - val_accuracy: 0.8613\n",
            "\n",
            "Epoch 00057: val_loss did not improve from 0.45021\n",
            "Epoch 58/75\n",
            "312/312 [==============================] - 18s 59ms/step - loss: 0.2733 - accuracy: 0.9076 - val_loss: 0.5001 - val_accuracy: 0.8551\n",
            "\n",
            "Epoch 00058: val_loss did not improve from 0.45021\n",
            "Epoch 59/75\n",
            "312/312 [==============================] - 18s 59ms/step - loss: 0.2682 - accuracy: 0.9098 - val_loss: 0.4736 - val_accuracy: 0.8609\n",
            "\n",
            "Epoch 00059: val_loss did not improve from 0.45021\n",
            "Epoch 60/75\n",
            "312/312 [==============================] - 18s 59ms/step - loss: 0.2682 - accuracy: 0.9064 - val_loss: 0.4989 - val_accuracy: 0.8601\n",
            "\n",
            "Epoch 00060: val_loss did not improve from 0.45021\n",
            "Epoch 61/75\n",
            "312/312 [==============================] - 19s 60ms/step - loss: 0.2737 - accuracy: 0.9071 - val_loss: 0.4450 - val_accuracy: 0.8719\n",
            "\n",
            "Epoch 00061: val_loss improved from 0.45021 to 0.44497, saving model to CIFAR_10_AlexNet.h5\n",
            "Epoch 62/75\n",
            "312/312 [==============================] - 19s 60ms/step - loss: 0.2624 - accuracy: 0.9091 - val_loss: 0.4877 - val_accuracy: 0.8597\n",
            "\n",
            "Epoch 00062: val_loss did not improve from 0.44497\n",
            "Epoch 63/75\n",
            "312/312 [==============================] - 19s 60ms/step - loss: 0.2599 - accuracy: 0.9110 - val_loss: 0.5403 - val_accuracy: 0.8483\n",
            "\n",
            "Epoch 00063: val_loss did not improve from 0.44497\n",
            "Epoch 64/75\n",
            "312/312 [==============================] - 18s 59ms/step - loss: 0.2643 - accuracy: 0.9096 - val_loss: 0.4925 - val_accuracy: 0.8607\n",
            "\n",
            "Epoch 00064: val_loss did not improve from 0.44497\n",
            "Epoch 65/75\n",
            "312/312 [==============================] - 19s 60ms/step - loss: 0.2623 - accuracy: 0.9107 - val_loss: 0.5025 - val_accuracy: 0.8531\n",
            "\n",
            "Epoch 00065: val_loss did not improve from 0.44497\n",
            "Epoch 66/75\n",
            "312/312 [==============================] - 19s 61ms/step - loss: 0.2554 - accuracy: 0.9118 - val_loss: 0.4930 - val_accuracy: 0.8569\n",
            "\n",
            "Epoch 00066: val_loss did not improve from 0.44497\n",
            "Epoch 67/75\n",
            "312/312 [==============================] - 19s 60ms/step - loss: 0.2500 - accuracy: 0.9160 - val_loss: 0.4417 - val_accuracy: 0.8725\n",
            "\n",
            "Epoch 00067: val_loss improved from 0.44497 to 0.44172, saving model to CIFAR_10_AlexNet.h5\n",
            "Epoch 68/75\n",
            "312/312 [==============================] - 19s 60ms/step - loss: 0.2505 - accuracy: 0.9136 - val_loss: 0.5214 - val_accuracy: 0.8554\n",
            "\n",
            "Epoch 00068: val_loss did not improve from 0.44172\n",
            "Epoch 69/75\n",
            "312/312 [==============================] - 19s 60ms/step - loss: 0.2453 - accuracy: 0.9144 - val_loss: 0.5027 - val_accuracy: 0.8569\n",
            "\n",
            "Epoch 00069: val_loss did not improve from 0.44172\n",
            "Epoch 70/75\n",
            "312/312 [==============================] - 19s 61ms/step - loss: 0.2447 - accuracy: 0.9150 - val_loss: 0.4768 - val_accuracy: 0.8623\n",
            "\n",
            "Epoch 00070: val_loss did not improve from 0.44172\n",
            "Epoch 71/75\n",
            "312/312 [==============================] - 19s 62ms/step - loss: 0.2412 - accuracy: 0.9186 - val_loss: 0.5051 - val_accuracy: 0.8625\n",
            "\n",
            "Epoch 00071: val_loss did not improve from 0.44172\n",
            "Epoch 72/75\n",
            "312/312 [==============================] - 19s 60ms/step - loss: 0.2346 - accuracy: 0.9200 - val_loss: 0.4688 - val_accuracy: 0.8647\n",
            "\n",
            "Epoch 00072: val_loss did not improve from 0.44172\n",
            "Epoch 73/75\n",
            "312/312 [==============================] - 19s 61ms/step - loss: 0.2447 - accuracy: 0.9158 - val_loss: 0.5039 - val_accuracy: 0.8564\n",
            "\n",
            "Epoch 00073: val_loss did not improve from 0.44172\n",
            "Epoch 74/75\n",
            "312/312 [==============================] - 19s 60ms/step - loss: 0.2413 - accuracy: 0.9159 - val_loss: 0.4277 - val_accuracy: 0.8793\n",
            "\n",
            "Epoch 00074: val_loss improved from 0.44172 to 0.42774, saving model to CIFAR_10_AlexNet.h5\n",
            "Epoch 75/75\n",
            "312/312 [==============================] - 19s 61ms/step - loss: 0.2437 - accuracy: 0.9164 - val_loss: 0.5086 - val_accuracy: 0.8590\n",
            "\n",
            "Epoch 00075: val_loss did not improve from 0.42774\n"
          ],
          "name": "stdout"
        }
      ]
    },
    {
      "cell_type": "markdown",
      "metadata": {
        "id": "nZqOvLGin-Yy"
      },
      "source": [
        "## Test the model"
      ]
    },
    {
      "cell_type": "code",
      "metadata": {
        "id": "DoP0IbDfk8-c"
      },
      "source": [
        "# Loading model with the lowest validation loss\r\n",
        "model = keras.models.load_model(\"CIFAR_10_AlexNet.h5\")"
      ],
      "execution_count": null,
      "outputs": []
    },
    {
      "cell_type": "code",
      "metadata": {
        "id": "RyVsIDsqgddl",
        "colab": {
          "base_uri": "https://localhost:8080/"
        },
        "outputId": "dfc87d58-bd02-4e11-8853-df78c788a62d"
      },
      "source": [
        "test_loss, test_acc = model.evaluate(x_test,y_test)\r\n",
        "print('Test Set')\r\n",
        "print('Loss:', test_loss)\r\n",
        "print('Accuracy', test_acc)"
      ],
      "execution_count": null,
      "outputs": [
        {
          "output_type": "stream",
          "text": [
            "313/313 [==============================] - 1s 3ms/step - loss: 0.4257 - accuracy: 0.8735\n",
            "Test Set\n",
            "Loss: 0.42574405670166016\n",
            "Accuracy 0.8734999895095825\n"
          ],
          "name": "stdout"
        }
      ]
    },
    {
      "cell_type": "markdown",
      "metadata": {
        "id": "E37jijbtopwD"
      },
      "source": [
        "## Prediction"
      ]
    },
    {
      "cell_type": "markdown",
      "metadata": {
        "id": "QJB0D3ZQwDcB"
      },
      "source": [
        "Below is the information on Fashion MNIST Class Labels."
      ]
    },
    {
      "cell_type": "code",
      "metadata": {
        "id": "LLEUlftMwgnA",
        "colab": {
          "base_uri": "https://localhost:8080/"
        },
        "outputId": "c342797a-d614-48db-f8cc-d112df61f5d5"
      },
      "source": [
        "class_labels = dict([(0, 'Airplane'), (1, 'Automobile'), (2, 'Bird'),  (3, 'Cat'), (4, 'Deer'), (5, 'Dog'), (6, 'Frog'), (7, 'Horse'), (8, 'Ship'), (9, 'Truck')])\r\n",
        "print('Label', \"\\t\", 'Class\\n')\r\n",
        "for x in class_labels:\r\n",
        "  print(x, \"\\t\", class_labels[x])"
      ],
      "execution_count": null,
      "outputs": [
        {
          "output_type": "stream",
          "text": [
            "Label \t Class\n",
            "\n",
            "0 \t Airplane\n",
            "1 \t Automobile\n",
            "2 \t Bird\n",
            "3 \t Cat\n",
            "4 \t Deer\n",
            "5 \t Dog\n",
            "6 \t Frog\n",
            "7 \t Horse\n",
            "8 \t Ship\n",
            "9 \t Truck\n"
          ],
          "name": "stdout"
        }
      ]
    },
    {
      "cell_type": "code",
      "metadata": {
        "id": "OPQ1l2yfmfrq",
        "colab": {
          "base_uri": "https://localhost:8080/",
          "height": 283
        },
        "outputId": "847c5811-6b8f-4dd0-a9b9-fde7a10c60b3"
      },
      "source": [
        "# Set the index of the image in test set for which the output must be predicted\r\n",
        "# Valid ind values range is: 0, 1, 2, ... 9999\r\n",
        "ind = 0\r\n",
        "plt.imshow((x_test[ind]*std + mean).astype(np.uint8))"
      ],
      "execution_count": null,
      "outputs": [
        {
          "output_type": "execute_result",
          "data": {
            "text/plain": [
              "<matplotlib.image.AxesImage at 0x7f14f6126080>"
            ]
          },
          "metadata": {
            "tags": []
          },
          "execution_count": 23
        },
        {
          "output_type": "display_data",
          "data": {
            "image/png": "[encoded data removed]",
            "text/plain": [
              "<Figure size 432x288 with 1 Axes>"
            ]
          },
          "metadata": {
            "tags": [],
            "needs_background": "light"
          }
        }
      ]
    },
    {
      "cell_type": "code",
      "metadata": {
        "id": "gCUzYwyVqH8i",
        "colab": {
          "base_uri": "https://localhost:8080/"
        },
        "outputId": "8cff4dcc-c0df-4987-a056-ad45e777fdbd"
      },
      "source": [
        "pred = model.predict(x_test[ind].reshape(1,32,32,3))\r\n",
        "print('The pridicted probability different classes is')\r\n",
        "print(pred)\r\n",
        "print('The predicted class is', pred.argmax(), class_labels[pred.argmax()])\r\n",
        "print('The actual class is', y_test[ind].argmax(), class_labels[y_test[ind].argmax()])"
      ],
      "execution_count": null,
      "outputs": [
        {
          "output_type": "stream",
          "text": [
            "The pridicted probability different classes is\n",
            "[[4.6176742e-06 1.5177579e-05 1.1647822e-05 9.0051502e-01 2.6366919e-05\n",
            "  9.9279463e-02 3.4846747e-05 3.3036911e-05 1.7000028e-05 6.2819985e-05]]\n",
            "The predicted class is 3 Cat\n",
            "The actual class is 3 Cat\n"
          ],
          "name": "stdout"
        }
      ]
    },
    {
      "cell_type": "markdown",
      "metadata": {
        "id": "UdIUM--x4kyV"
      },
      "source": [
        "## Loss and Accuracy Curves"
      ]
    },
    {
      "cell_type": "code",
      "metadata": {
        "id": "fcpdbXHq4vT7",
        "colab": {
          "base_uri": "https://localhost:8080/"
        },
        "outputId": "db773528-ee01-4b2f-818f-59b4d5a6ca39"
      },
      "source": [
        "print(history.history.keys())"
      ],
      "execution_count": null,
      "outputs": [
        {
          "output_type": "stream",
          "text": [
            "dict_keys(['loss', 'accuracy', 'val_loss', 'val_accuracy'])\n"
          ],
          "name": "stdout"
        }
      ]
    },
    {
      "cell_type": "code",
      "metadata": {
        "id": "zlNfQHvh4ois"
      },
      "source": [
        "train_loss = history.history['loss']\r\n",
        "train_acc = history.history['accuracy']\r\n",
        "val_loss = history.history['val_loss']\r\n",
        "val_acc = history.history['val_accuracy']\r\n",
        "x_axis = range(1, len(train_loss)+1)"
      ],
      "execution_count": null,
      "outputs": []
    },
    {
      "cell_type": "code",
      "metadata": {
        "id": "CPvOEkMD6wxg",
        "colab": {
          "base_uri": "https://localhost:8080/",
          "height": 312
        },
        "outputId": "c9915832-5daf-410e-b5ec-59f965330118"
      },
      "source": [
        "plt.plot(x_axis, train_loss, label='train')\r\n",
        "plt.plot(x_axis, val_loss, label='val')\r\n",
        "plt.legend()\r\n",
        "plt.xlabel('Epoch Number')\r\n",
        "plt.ylabel('Loss')\r\n",
        "plt.title('Loss Curve')"
      ],
      "execution_count": null,
      "outputs": [
        {
          "output_type": "execute_result",
          "data": {
            "text/plain": [
              "Text(0.5, 1.0, 'Loss Curve')"
            ]
          },
          "metadata": {
            "tags": []
          },
          "execution_count": 27
        },
        {
          "output_type": "display_data",
          "data": {
            "image/png": "[encoded data removed]",
            "text/plain": [
              "<Figure size 432x288 with 1 Axes>"
            ]
          },
          "metadata": {
            "tags": [],
            "needs_background": "light"
          }
        }
      ]
    },
    {
      "cell_type": "code",
      "metadata": {
        "id": "RO2EyeTF9ROP",
        "colab": {
          "base_uri": "https://localhost:8080/",
          "height": 312
        },
        "outputId": "2eb71a95-3507-4b30-c448-9601b45c5a0c"
      },
      "source": [
        "plt.plot(x_axis, train_acc, label='train')\r\n",
        "plt.plot(x_axis, val_acc, label='val')\r\n",
        "plt.legend()\r\n",
        "plt.xlabel('Epoch Number')\r\n",
        "plt.ylabel('Accuracy')\r\n",
        "plt.title('Accuracy Curve')"
      ],
      "execution_count": null,
      "outputs": [
        {
          "output_type": "execute_result",
          "data": {
            "text/plain": [
              "Text(0.5, 1.0, 'Accuracy Curve')"
            ]
          },
          "metadata": {
            "tags": []
          },
          "execution_count": 28
        },
        {
          "output_type": "display_data",
          "data": {
            "image/png": "[encoded data removed]",
            "text/plain": [
              "<Figure size 432x288 with 1 Axes>"
            ]
          },
          "metadata": {
            "tags": [],
            "needs_background": "light"
          }
        }
      ]
    },
    {
      "cell_type": "markdown",
      "metadata": {
        "id": "Mf4eVE2x_32N"
      },
      "source": [
        "## Additional Evaluation Metrics\r\n",
        "### (Precision, Recall, Confusion Matrix)"
      ]
    },
    {
      "cell_type": "code",
      "metadata": {
        "id": "qeypUFb2ANlF",
        "colab": {
          "base_uri": "https://localhost:8080/"
        },
        "outputId": "83d976f3-951d-4c26-bb4a-1616352b20c7"
      },
      "source": [
        "from sklearn.metrics import classification_report, confusion_matrix\r\n",
        "\r\n",
        "y_prob = model.predict(x_test)\r\n",
        "y_pred = np.argmax(y_prob, axis=1)\r\n",
        "target_names = ['Class 0', 'Class 1', 'Class 2', 'Class 3', 'Class 4', 'Class 5', 'Class 6', 'Class 7', 'Class 8', 'Class 9']\r\n",
        "print(classification_report(np.argmax(y_test, axis=1), y_pred, target_names=target_names))"
      ],
      "execution_count": null,
      "outputs": [
        {
          "output_type": "stream",
          "text": [
            "              precision    recall  f1-score   support\n",
            "\n",
            "     Class 0       0.89      0.89      0.89      1000\n",
            "     Class 1       0.95      0.94      0.94      1000\n",
            "     Class 2       0.84      0.83      0.84      1000\n",
            "     Class 3       0.83      0.68      0.74      1000\n",
            "     Class 4       0.86      0.84      0.85      1000\n",
            "     Class 5       0.83      0.83      0.83      1000\n",
            "     Class 6       0.84      0.95      0.89      1000\n",
            "     Class 7       0.89      0.92      0.90      1000\n",
            "     Class 8       0.92      0.93      0.92      1000\n",
            "     Class 9       0.89      0.94      0.91      1000\n",
            "\n",
            "    accuracy                           0.87     10000\n",
            "   macro avg       0.87      0.87      0.87     10000\n",
            "weighted avg       0.87      0.87      0.87     10000\n",
            "\n"
          ],
          "name": "stdout"
        }
      ]
    },
    {
      "cell_type": "code",
      "metadata": {
        "id": "4si0QtGBaxGe",
        "colab": {
          "base_uri": "https://localhost:8080/"
        },
        "outputId": "dad53c0f-d8dc-4f1c-9337-4955432010e8"
      },
      "source": [
        "cnf_matrix = confusion_matrix(y_true=np.argmax(y_test, axis=1), y_pred=y_pred)\r\n",
        "print(cnf_matrix)"
      ],
      "execution_count": null,
      "outputs": [
        {
          "output_type": "stream",
          "text": [
            "[[887   6  26   5   7   1   3   8  43  14]\n",
            " [  5 938   0   3   0   0   3   0   7  44]\n",
            " [ 21   6 828  20  35  22  45  15   2   6]\n",
            " [ 10   2  39 676  37 123  54  24  13  22]\n",
            " [  8   1  42  15 844  10  47  29   2   2]\n",
            " [  2   0  21  62  34 830  14  29   1   7]\n",
            " [  4   0  12  21   5   2 946   4   4   2]\n",
            " [  7   4  10   8  25  18   5 915   1   7]\n",
            " [ 39   6   2   2   0   0   4   3 928  16]\n",
            " [ 11  26   2   5   0   0   0   0  13 943]]\n"
          ],
          "name": "stdout"
        }
      ]
    }
  ]
}